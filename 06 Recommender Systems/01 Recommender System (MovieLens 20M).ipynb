{
 "cells": [
  {
   "cell_type": "markdown",
   "metadata": {},
   "source": [
    "# Recommender System (MovieLens 20M)"
   ]
  },
  {
   "cell_type": "code",
   "execution_count": 1,
   "metadata": {},
   "outputs": [],
   "source": [
    "import pandas as pd\n",
    "import tensorflow as tf\n",
    "import matplotlib.pyplot as plt\n",
    "\n",
    "from sklearn.model_selection import train_test_split"
   ]
  },
  {
   "cell_type": "code",
   "execution_count": 2,
   "metadata": {},
   "outputs": [
    {
     "name": "stdout",
     "output_type": "stream",
     "text": [
      "GPU 0: GeForce RTX 2080 Ti (UUID: GPU-3cb47403-efa9-71ae-1700-c27de6cb0d0a)\n",
      "Tensorflow version: 2.3.1\n"
     ]
    }
   ],
   "source": [
    "!nvidia-smi -L\n",
    "print(f'Tensorflow version: {tf.__version__}')"
   ]
  },
  {
   "cell_type": "markdown",
   "metadata": {},
   "source": [
    "Download MovieLens 20M dataset at http://files.grouplens.org/datasets/movielens/ml-20m.zip."
   ]
  },
  {
   "cell_type": "code",
   "execution_count": 3,
   "metadata": {},
   "outputs": [],
   "source": [
    "df = pd.read_csv('data/ratings.csv')\n",
    "df['newUserId'] = pd.Categorical(df['userId']).codes\n",
    "df['newMovieId'] = pd.Categorical(df['movieId']).codes\n",
    "\n",
    "U = df['newUserId'].to_numpy()\n",
    "M = df['newMovieId'].to_numpy()\n",
    "y = df['rating'].to_numpy()\n",
    "\n",
    "U_train, U_test, M_train, M_test, y_train, y_test = train_test_split(U, M, y, test_size=0.2)\n",
    "\n",
    "UN = len(U)\n",
    "MN = len(M)\n",
    "D = 10"
   ]
  },
  {
   "cell_type": "code",
   "execution_count": 4,
   "metadata": {},
   "outputs": [
    {
     "name": "stdout",
     "output_type": "stream",
     "text": [
      "Epoch 1/25\n",
      "16000210/16000210 [==============================] - 39s 2us/sample - loss: 0.8046 - val_loss: 0.7308\n",
      "Epoch 2/25\n",
      "16000210/16000210 [==============================] - 37s 2us/sample - loss: 0.7059 - val_loss: 0.7001\n",
      "Epoch 3/25\n",
      "16000210/16000210 [==============================] - 38s 2us/sample - loss: 0.6835 - val_loss: 0.6885\n",
      "Epoch 4/25\n",
      "16000210/16000210 [==============================] - 37s 2us/sample - loss: 0.6670 - val_loss: 0.6811\n",
      "Epoch 5/25\n",
      "16000210/16000210 [==============================] - 37s 2us/sample - loss: 0.6563 - val_loss: 0.6714\n",
      "Epoch 6/25\n",
      "16000210/16000210 [==============================] - 37s 2us/sample - loss: 0.6480 - val_loss: 0.6666\n",
      "Epoch 7/25\n",
      "16000210/16000210 [==============================] - 37s 2us/sample - loss: 0.6387 - val_loss: 0.6610\n",
      "Epoch 8/25\n",
      "16000210/16000210 [==============================] - 36s 2us/sample - loss: 0.6243 - val_loss: 0.6490\n",
      "Epoch 9/25\n",
      "16000210/16000210 [==============================] - 37s 2us/sample - loss: 0.6099 - val_loss: 0.6434\n",
      "Epoch 10/25\n",
      "16000210/16000210 [==============================] - 37s 2us/sample - loss: 0.5998 - val_loss: 0.6420\n",
      "Epoch 11/25\n",
      "16000210/16000210 [==============================] - 36s 2us/sample - loss: 0.5917 - val_loss: 0.6380\n",
      "Epoch 12/25\n",
      "16000210/16000210 [==============================] - 38s 2us/sample - loss: 0.5839 - val_loss: 0.6349\n",
      "Epoch 13/25\n",
      "16000210/16000210 [==============================] - 37s 2us/sample - loss: 0.5765 - val_loss: 0.6398\n",
      "Epoch 14/25\n",
      "16000210/16000210 [==============================] - 36s 2us/sample - loss: 0.5696 - val_loss: 0.6300\n",
      "Epoch 15/25\n",
      "16000210/16000210 [==============================] - 36s 2us/sample - loss: 0.5634 - val_loss: 0.6286\n",
      "Epoch 16/25\n",
      "16000210/16000210 [==============================] - 37s 2us/sample - loss: 0.5583 - val_loss: 0.6282\n",
      "Epoch 17/25\n",
      "16000210/16000210 [==============================] - 37s 2us/sample - loss: 0.5537 - val_loss: 0.6274\n",
      "Epoch 18/25\n",
      "16000210/16000210 [==============================] - 37s 2us/sample - loss: 0.5497 - val_loss: 0.6267\n",
      "Epoch 19/25\n",
      "16000210/16000210 [==============================] - 38s 2us/sample - loss: 0.5465 - val_loss: 0.6307\n",
      "Epoch 20/25\n",
      "16000210/16000210 [==============================] - 39s 2us/sample - loss: 0.5436 - val_loss: 0.6264\n",
      "Epoch 21/25\n",
      "16000210/16000210 [==============================] - 37s 2us/sample - loss: 0.5411 - val_loss: 0.6265\n",
      "Epoch 22/25\n",
      "16000210/16000210 [==============================] - 38s 2us/sample - loss: 0.5389 - val_loss: 0.6244\n",
      "Epoch 23/25\n",
      "16000210/16000210 [==============================] - 37s 2us/sample - loss: 0.5370 - val_loss: 0.6272\n",
      "Epoch 24/25\n",
      "16000210/16000210 [==============================] - 37s 2us/sample - loss: 0.5352 - val_loss: 0.6278\n",
      "Epoch 25/25\n",
      "16000210/16000210 [==============================] - 39s 2us/sample - loss: 0.5336 - val_loss: 0.6281\n"
     ]
    },
    {
     "data": {
      "image/png": "[encoded data removed]",
      "text/plain": [
       "<Figure size 432x288 with 1 Axes>"
      ]
     },
     "metadata": {
      "needs_background": "light"
     },
     "output_type": "display_data"
    }
   ],
   "source": [
    "u = tf.keras.Input(shape=(1,))\n",
    "m = tf.keras.Input(shape=(1,))\n",
    "u_emb = tf.keras.layers.Embedding(UN, D)(u)\n",
    "m_emb = tf.keras.layers.Embedding(MN, D)(m)\n",
    "u_emb = tf.keras.layers.Flatten()(u_emb)\n",
    "m_emb = tf.keras.layers.Flatten()(m_emb)\n",
    "x = tf.keras.layers.Concatenate()([u_emb, m_emb])\n",
    "x = tf.keras.layers.Dense(1024, activation='relu')(x)\n",
    "x = tf.keras.layers.Dense(1)(x)\n",
    "model = tf.keras.Model(inputs=[u, m], outputs=x)\n",
    "\n",
    "model.compile(optimizer=tf.keras.optimizers.SGD(0.08, 0.9),\n",
    "              loss='mse')\n",
    "\n",
    "r = model.fit([U_train, M_train], y_train,\n",
    "              validation_data=([U_test, M_test], y_test),\n",
    "              epochs=25,\n",
    "              batch_size=1024)\n",
    "\n",
    "plt.plot(r.history.get('loss'), label='Loss')\n",
    "plt.plot(r.history.get('val_loss'), label='Validation Loss')\n",
    "plt.legend()\n",
    "plt.show()"
   ]
  }
 ],
 "metadata": {
  "kernelspec": {
   "display_name": "Python 3",
   "language": "python",
   "name": "python3"
  },
  "language_info": {
   "codemirror_mode": {
    "name": "ipython",
    "version": 3
   },
   "file_extension": ".py",
   "mimetype": "text/x-python",
   "name": "python",
   "nbconvert_exporter": "python",
   "pygments_lexer": "ipython3",
   "version": "3.8.5"
  }
 },
 "nbformat": 4,
 "nbformat_minor": 4
}
