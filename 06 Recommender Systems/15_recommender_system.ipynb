{
  "nbformat": 4,
  "nbformat_minor": 0,
  "metadata": {
    "colab": {
      "name": "15_recommender_system.ipynb",
      "provenance": [],
      "authorship_tag": "ABX9TyPuPYZgQ9Ylh+1XuM1T+7qZ",
      "include_colab_link": true
    },
    "kernelspec": {
      "name": "python3",
      "display_name": "Python 3"
    },
    "accelerator": "GPU"
  },
  "cells": [
    {
      "cell_type": "markdown",
      "metadata": {
        "id": "view-in-github",
        "colab_type": "text"
      },
      "source": [
        "<a href=\"https://colab.research.google.com/github/AlumiK/tensorflow2-notebooks/blob/main/06%20Recommender%20Systems/15_recommender_system.ipynb\" target=\"_parent\"><img src=\"https://colab.research.google.com/assets/colab-badge.svg\" alt=\"Open In Colab\"/></a>"
      ]
    },
    {
      "cell_type": "markdown",
      "metadata": {
        "id": "O9idHPwnE7oO"
      },
      "source": [
        "# Recommender System"
      ]
    },
    {
      "cell_type": "code",
      "metadata": {
        "id": "XmzmIurdEzVo"
      },
      "source": [
        "import pandas as pd\n",
        "import tensorflow as tf\n",
        "import matplotlib.pyplot as plt\n",
        "\n",
        "from sklearn.model_selection import train_test_split"
      ],
      "execution_count": null,
      "outputs": []
    },
    {
      "cell_type": "code",
      "metadata": {
        "id": "se0ruSg6TA5V",
        "outputId": "6f4eaf1d-e318-43aa-fb6b-2fa2add60260",
        "colab": {
          "base_uri": "https://localhost:8080/",
          "height": 35
        }
      },
      "source": [
        "!nvidia-smi -L"
      ],
      "execution_count": null,
      "outputs": [
        {
          "output_type": "stream",
          "text": [
            "GPU 0: GeForce RTX 2080 Ti (UUID: GPU-3cb47403-efa9-71ae-1700-c27de6cb0d0a)\n"
          ],
          "name": "stdout"
        }
      ]
    },
    {
      "cell_type": "code",
      "metadata": {
        "id": "FXGoB2yvFGl2",
        "outputId": "c1cdf358-0bf3-4de5-bf1d-6276ac10fbe7",
        "colab": {
          "base_uri": "https://localhost:8080/",
          "height": 367
        }
      },
      "source": [
        "!wget -nc 'http://files.grouplens.org/datasets/movielens/ml-20m.zip'\n",
        "!unzip -n 'ml-20m.zip'"
      ],
      "execution_count": null,
      "outputs": [
        {
          "output_type": "stream",
          "text": [
            "--2020-10-09 07:38:48--  http://files.grouplens.org/datasets/movielens/ml-20m.zip\n",
            "Resolving files.grouplens.org (files.grouplens.org)... 128.101.65.152\n",
            "Connecting to files.grouplens.org (files.grouplens.org)|128.101.65.152|:80... connected.\n",
            "HTTP request sent, awaiting response... 200 OK\n",
            "Length: 198702078 (189M) [application/zip]\n",
            "Saving to: ‘ml-20m.zip’\n",
            "\n",
            "ml-20m.zip          100%[===================>] 189.50M  25.2MB/s    in 8.2s    \n",
            "\n",
            "2020-10-09 07:38:56 (23.1 MB/s) - ‘ml-20m.zip’ saved [198702078/198702078]\n",
            "\n",
            "Archive:  ml-20m.zip\n",
            "   creating: ml-20m/\n",
            "  inflating: ml-20m/genome-scores.csv  \n",
            "  inflating: ml-20m/genome-tags.csv  \n",
            "  inflating: ml-20m/links.csv        \n",
            "  inflating: ml-20m/movies.csv       \n",
            "  inflating: ml-20m/ratings.csv      \n",
            "  inflating: ml-20m/README.txt       \n",
            "  inflating: ml-20m/tags.csv         \n"
          ],
          "name": "stdout"
        }
      ]
    },
    {
      "cell_type": "code",
      "metadata": {
        "id": "rH4bAVw3ICDC"
      },
      "source": [
        "df = pd.read_csv('ml-20m/ratings.csv')\n",
        "df['newUserId'] = pd.Categorical(df['userId']).codes\n",
        "df['newMovieId'] = pd.Categorical(df['movieId']).codes\n",
        "U = df['newUserId'].values\n",
        "M = df['newMovieId'].values\n",
        "y = df['rating'].values\n",
        "\n",
        "U_train, U_test, M_train, M_test, y_train, y_test = train_test_split(U, M, y, test_size=0.2)\n",
        "\n",
        "N1 = len(U)\n",
        "N2 = len(M)\n",
        "D = 10"
      ],
      "execution_count": null,
      "outputs": []
    },
    {
      "cell_type": "code",
      "metadata": {
        "id": "fayA848IMfRh",
        "outputId": "f763a4da-542a-4967-c6eb-53ef7f6024d9",
        "colab": {
          "base_uri": "https://localhost:8080/",
          "height": 1000
        }
      },
      "source": [
        "u = tf.keras.layers.Input(shape=(1,))\n",
        "m = tf.keras.layers.Input(shape=(1,))\n",
        "u_emb = tf.keras.layers.Embedding(N1, D)(u)\n",
        "m_emb = tf.keras.layers.Embedding(N2, D)(m)\n",
        "u_emb = tf.keras.layers.Flatten()(u_emb)\n",
        "m_emb = tf.keras.layers.Flatten()(m_emb)\n",
        "x = tf.keras.layers.Concatenate()([u_emb, m_emb])\n",
        "x = tf.keras.layers.Dense(1024, activation='relu')(x)\n",
        "x = tf.keras.layers.Dense(1)(x)\n",
        "model = tf.keras.models.Model(inputs=[u, m], outputs=x)\n",
        "\n",
        "model.compile(optimizer=tf.keras.optimizers.SGD(0.08, 0.9), loss='mse')\n",
        "\n",
        "r = model.fit([U_train, M_train],\n",
        "              y_train,\n",
        "              validation_data=([U_test, M_test], y_test),\n",
        "              epochs=25,\n",
        "              batch_size=1024)\n",
        "\n",
        "plt.plot(r.history.get('loss'), label='Loss')\n",
        "plt.plot(r.history.get('val_loss'), label='Validation Loss')\n",
        "plt.legend()\n",
        "plt.show()"
      ],
      "execution_count": null,
      "outputs": [
        {
          "output_type": "stream",
          "text": [
            "Epoch 1/25\n",
            "15626/15626 [==============================] - 32s 2ms/step - loss: 0.7948 - val_loss: 0.7314\n",
            "Epoch 2/25\n",
            "15626/15626 [==============================] - 32s 2ms/step - loss: 0.7058 - val_loss: 0.7018\n",
            "Epoch 3/25\n",
            "15626/15626 [==============================] - 31s 2ms/step - loss: 0.6833 - val_loss: 0.6863\n",
            "Epoch 4/25\n",
            "15626/15626 [==============================] - 32s 2ms/step - loss: 0.6675 - val_loss: 0.6798\n",
            "Epoch 5/25\n",
            "15626/15626 [==============================] - 30s 2ms/step - loss: 0.6569 - val_loss: 0.6735\n",
            "Epoch 6/25\n",
            "15626/15626 [==============================] - 30s 2ms/step - loss: 0.6488 - val_loss: 0.6737\n",
            "Epoch 7/25\n",
            "15626/15626 [==============================] - 32s 2ms/step - loss: 0.6389 - val_loss: 0.6606\n",
            "Epoch 8/25\n",
            "15626/15626 [==============================] - 31s 2ms/step - loss: 0.6255 - val_loss: 0.6554\n",
            "Epoch 9/25\n",
            "15626/15626 [==============================] - 31s 2ms/step - loss: 0.6119 - val_loss: 0.6466\n",
            "Epoch 10/25\n",
            "15626/15626 [==============================] - 31s 2ms/step - loss: 0.6003 - val_loss: 0.6405\n",
            "Epoch 11/25\n",
            "15626/15626 [==============================] - 32s 2ms/step - loss: 0.5907 - val_loss: 0.6375\n",
            "Epoch 12/25\n",
            "15626/15626 [==============================] - 30s 2ms/step - loss: 0.5824 - val_loss: 0.6389\n",
            "Epoch 13/25\n",
            "15626/15626 [==============================] - 31s 2ms/step - loss: 0.5750 - val_loss: 0.6354\n",
            "Epoch 14/25\n",
            "15626/15626 [==============================] - 30s 2ms/step - loss: 0.5684 - val_loss: 0.6334\n",
            "Epoch 15/25\n",
            "15626/15626 [==============================] - 30s 2ms/step - loss: 0.5626 - val_loss: 0.6322\n",
            "Epoch 16/25\n",
            "15626/15626 [==============================] - 30s 2ms/step - loss: 0.5575 - val_loss: 0.6280\n",
            "Epoch 17/25\n",
            "15626/15626 [==============================] - 31s 2ms/step - loss: 0.5532 - val_loss: 0.6273\n",
            "Epoch 18/25\n",
            "15626/15626 [==============================] - 32s 2ms/step - loss: 0.5495 - val_loss: 0.6299\n",
            "Epoch 19/25\n",
            "15626/15626 [==============================] - 31s 2ms/step - loss: 0.5462 - val_loss: 0.6309\n",
            "Epoch 20/25\n",
            "15626/15626 [==============================] - 31s 2ms/step - loss: 0.5435 - val_loss: 0.6264\n",
            "Epoch 21/25\n",
            "15626/15626 [==============================] - 32s 2ms/step - loss: 0.5410 - val_loss: 0.6265\n",
            "Epoch 22/25\n",
            "15626/15626 [==============================] - 32s 2ms/step - loss: 0.5388 - val_loss: 0.6266\n",
            "Epoch 23/25\n",
            "15626/15626 [==============================] - 30s 2ms/step - loss: 0.5368 - val_loss: 0.6268\n",
            "Epoch 24/25\n",
            "15626/15626 [==============================] - 30s 2ms/step - loss: 0.5351 - val_loss: 0.6272\n",
            "Epoch 25/25\n",
            "15626/15626 [==============================] - 30s 2ms/step - loss: 0.5335 - val_loss: 0.6267\n"
          ],
          "name": "stdout"
        },
        {
          "output_type": "display_data",
          "data": {
            "text/plain": [
              "<Figure size 432x288 with 1 Axes>"
            ],
            "image/png": "[encoded data removed]"
          },
          "metadata": {
            "tags": [],
            "needs_background": "light"
          }
        }
      ]
    }
  ]
}