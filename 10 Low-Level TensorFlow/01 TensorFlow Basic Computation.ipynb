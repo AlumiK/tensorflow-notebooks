{
 "cells": [
  {
   "cell_type": "markdown",
   "metadata": {},
   "source": [
    "# TensorFlow Basic Computation"
   ]
  },
  {
   "cell_type": "code",
   "execution_count": 1,
   "metadata": {},
   "outputs": [],
   "source": [
    "import numpy as np\n",
    "import tensorflow as tf"
   ]
  },
  {
   "cell_type": "code",
   "execution_count": 2,
   "metadata": {},
   "outputs": [
    {
     "name": "stdout",
     "output_type": "stream",
     "text": [
      "TensorFlow version: 2.3.1\n"
     ]
    }
   ],
   "source": [
    "print(f'TensorFlow version: {tf.__version__}')"
   ]
  },
  {
   "cell_type": "code",
   "execution_count": 3,
   "metadata": {
    "scrolled": true
   },
   "outputs": [
    {
     "name": "stdout",
     "output_type": "stream",
     "text": [
      "c=<tf.Tensor: shape=(), dtype=float32, numpy=5.0>\n"
     ]
    }
   ],
   "source": [
    "# Basic computation\n",
    "\n",
    "a = tf.constant(3.0)\n",
    "b = tf.constant(4.0)\n",
    "c = tf.sqrt(a ** 2 + b ** 2)\n",
    "print(f'{c=}')"
   ]
  },
  {
   "cell_type": "code",
   "execution_count": 4,
   "metadata": {},
   "outputs": [
    {
     "name": "stdout",
     "output_type": "stream",
     "text": [
      "5.0\n",
      "<class 'numpy.float32'>\n"
     ]
    }
   ],
   "source": [
    "# Numpy representation\n",
    "\n",
    "print(c.numpy())\n",
    "print(type(c.numpy()))"
   ]
  },
  {
   "cell_type": "code",
   "execution_count": 5,
   "metadata": {},
   "outputs": [
    {
     "name": "stdout",
     "output_type": "stream",
     "text": [
      "32\n"
     ]
    }
   ],
   "source": [
    "# Vector dot product\n",
    "\n",
    "a = tf.constant([1, 2, 3])\n",
    "b = tf.constant([4, 5, 6])\n",
    "c = tf.tensordot(a, b, axes=[0, 0])\n",
    "print(f'{c}')"
   ]
  },
  {
   "cell_type": "code",
   "execution_count": 6,
   "metadata": {},
   "outputs": [
    {
     "name": "stdout",
     "output_type": "stream",
     "text": [
      "[[-0.64247673]\n",
      " [-0.74327568]\n",
      " [ 0.90092455]]\n"
     ]
    }
   ],
   "source": [
    "# Matrix multiplication in Numpy\n",
    "\n",
    "A0 = np.random.randn(3, 3)\n",
    "B0 = np.random.randn(3, 1)\n",
    "C0 = A0.dot(B0)\n",
    "print(f'{C0}')"
   ]
  },
  {
   "cell_type": "code",
   "execution_count": 7,
   "metadata": {},
   "outputs": [
    {
     "name": "stdout",
     "output_type": "stream",
     "text": [
      "[[-0.64247673]\n",
      " [-0.74327568]\n",
      " [ 0.90092455]]\n"
     ]
    }
   ],
   "source": [
    "# Matrix multiplication in TensorFlow\n",
    "\n",
    "A = tf.constant(A0)\n",
    "B = tf.constant(B0)\n",
    "C = tf.matmul(A, B)\n",
    "print(f'{C}')"
   ]
  },
  {
   "cell_type": "code",
   "execution_count": 8,
   "metadata": {},
   "outputs": [
    {
     "name": "stdout",
     "output_type": "stream",
     "text": [
      "[[2 3]\n",
      " [4 5]]\n"
     ]
    }
   ],
   "source": [
    "# Broadcasting\n",
    "\n",
    "A = tf.constant([[1, 2], [3, 4]])\n",
    "b = tf.constant(1)\n",
    "C = A + b\n",
    "print(f'{C}')"
   ]
  },
  {
   "cell_type": "code",
   "execution_count": 9,
   "metadata": {},
   "outputs": [
    {
     "name": "stdout",
     "output_type": "stream",
     "text": [
      "[[ 2  6]\n",
      " [12 20]]\n"
     ]
    }
   ],
   "source": [
    "# Element-wise multiplication\n",
    "\n",
    "A = tf.constant([[1, 2], [3, 4]])\n",
    "B = tf.constant([[2, 3], [4, 5]])\n",
    "C = A * B\n",
    "print(f'{C}')"
   ]
  }
 ],
 "metadata": {
  "kernelspec": {
   "display_name": "Python 3",
   "language": "python",
   "name": "python3"
  },
  "language_info": {
   "codemirror_mode": {
    "name": "ipython",
    "version": 3
   },
   "file_extension": ".py",
   "mimetype": "text/x-python",
   "name": "python",
   "nbconvert_exporter": "python",
   "pygments_lexer": "ipython3",
   "version": "3.8.5"
  }
 },
 "nbformat": 4,
 "nbformat_minor": 4
}
