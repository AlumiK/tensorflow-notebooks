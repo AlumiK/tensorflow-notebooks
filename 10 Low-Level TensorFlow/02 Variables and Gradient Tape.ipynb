{
 "cells": [
  {
   "cell_type": "markdown",
   "metadata": {},
   "source": [
    "# Variables and Gradient Tape"
   ]
  },
  {
   "cell_type": "code",
   "execution_count": 1,
   "metadata": {},
   "outputs": [],
   "source": [
    "import tensorflow as tf\n",
    "import matplotlib.pyplot as plt"
   ]
  },
  {
   "cell_type": "code",
   "execution_count": 2,
   "metadata": {},
   "outputs": [
    {
     "name": "stdout",
     "output_type": "stream",
     "text": [
      "TensorFlow version: 2.3.1\n"
     ]
    }
   ],
   "source": [
    "print(f'TensorFlow version: {tf.__version__}')"
   ]
  },
  {
   "cell_type": "code",
   "execution_count": 3,
   "metadata": {},
   "outputs": [
    {
     "name": "stdout",
     "output_type": "stream",
     "text": [
      "15.0\n",
      "<tf.Variable 'Variable:0' shape=() dtype=float32, numpy=6.0>\n"
     ]
    }
   ],
   "source": [
    "# Variables\n",
    "\n",
    "a = tf.Variable(5.)\n",
    "b = tf.Variable(3.)\n",
    "print(f'{a * b}')\n",
    "\n",
    "a.assign(a + 1)\n",
    "print(a)"
   ]
  },
  {
   "cell_type": "code",
   "execution_count": 4,
   "metadata": {},
   "outputs": [
    {
     "name": "stdout",
     "output_type": "stream",
     "text": [
      "tf.Tensor(22.0, shape=(), dtype=float32)\n"
     ]
    }
   ],
   "source": [
    "# Mix constants and variables\n",
    "\n",
    "c = tf.constant(4.)\n",
    "print(a * b + c)"
   ]
  },
  {
   "cell_type": "code",
   "execution_count": 5,
   "metadata": {},
   "outputs": [
    {
     "data": {
      "image/png": "[encoded data removed]",
      "text/plain": [
       "<Figure size 432x288 with 1 Axes>"
      ]
     },
     "metadata": {
      "needs_background": "light"
     },
     "output_type": "display_data"
    },
    {
     "name": "stdout",
     "output_type": "stream",
     "text": [
      "Final loss: 5.092590349420334e-09\n"
     ]
    }
   ],
   "source": [
    "# Minimize L(w) = w ** 2\n",
    "\n",
    "def loss(w):\n",
    "    return w ** 2\n",
    "\n",
    "\n",
    "def grad(w):\n",
    "    with tf.GradientTape() as tape:\n",
    "        L = loss(w)\n",
    "    return tape.gradient(L, w)\n",
    "\n",
    "\n",
    "w = tf.Variable(5.)\n",
    "optimizer = tf.keras.optimizers.SGD(0.1)\n",
    "\n",
    "losses = []\n",
    "for i in range(50):\n",
    "    g = grad(w)\n",
    "    optimizer.apply_gradients(zip([g], [w]))\n",
    "    losses.append(loss(w))\n",
    "\n",
    "plt.plot(losses)\n",
    "plt.show()\n",
    "\n",
    "print(f'Final loss: {loss(w)}')"
   ]
  }
 ],
 "metadata": {
  "kernelspec": {
   "display_name": "Python 3",
   "language": "python",
   "name": "python3"
  },
  "language_info": {
   "codemirror_mode": {
    "name": "ipython",
    "version": 3
   },
   "file_extension": ".py",
   "mimetype": "text/x-python",
   "name": "python",
   "nbconvert_exporter": "python",
   "pygments_lexer": "ipython3",
   "version": "3.8.5"
  }
 },
 "nbformat": 4,
 "nbformat_minor": 4
}
