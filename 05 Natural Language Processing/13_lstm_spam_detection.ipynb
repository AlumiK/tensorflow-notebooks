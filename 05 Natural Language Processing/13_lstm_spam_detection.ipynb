{
  "nbformat": 4,
  "nbformat_minor": 0,
  "metadata": {
    "colab": {
      "name": "13_lstm_spam_detection.ipynb",
      "provenance": [],
      "collapsed_sections": [],
      "authorship_tag": "ABX9TyMbaJ18Q1nBLlIkF2iP1qLL",
      "include_colab_link": true
    },
    "kernelspec": {
      "name": "python3",
      "display_name": "Python 3"
    }
  },
  "cells": [
    {
      "cell_type": "markdown",
      "metadata": {
        "id": "view-in-github",
        "colab_type": "text"
      },
      "source": [
        "<a href=\"https://colab.research.google.com/github/AlumiK/tensorflow2-notebooks/blob/main/05%20Natural%20Language%20Processing/13_lstm_spam_detection.ipynb\" target=\"_parent\"><img src=\"https://colab.research.google.com/assets/colab-badge.svg\" alt=\"Open In Colab\"/></a>"
      ]
    },
    {
      "cell_type": "markdown",
      "metadata": {
        "id": "sysS7aXlHaPS"
      },
      "source": [
        "# LSTM Spam Detection"
      ]
    },
    {
      "cell_type": "code",
      "metadata": {
        "id": "HzgNvJI87iCJ"
      },
      "source": [
        "import numpy as np\n",
        "import pandas as pd\n",
        "import tensorflow as tf\n",
        "import matplotlib.pyplot as plt\n",
        "\n",
        "from sklearn.model_selection import train_test_split"
      ],
      "execution_count": null,
      "outputs": []
    },
    {
      "cell_type": "code",
      "metadata": {
        "id": "q7rS61VRRAEh",
        "outputId": "2589b704-246b-4b77-adcc-ee7452cb4611",
        "colab": {
          "base_uri": "https://localhost:8080/",
          "height": 35
        }
      },
      "source": [
        "!nvidia-smi -L"
      ],
      "execution_count": null,
      "outputs": [
        {
          "output_type": "stream",
          "text": [
            "GPU 0: GeForce RTX 2080 Ti (UUID: GPU-3cb47403-efa9-71ae-1700-c27de6cb0d0a)\n"
          ],
          "name": "stdout"
        }
      ]
    },
    {
      "cell_type": "code",
      "metadata": {
        "id": "MKPajgt57rLA",
        "outputId": "bfc8bdc1-6265-49a5-a817-23314767407b",
        "colab": {
          "base_uri": "https://localhost:8080/",
          "height": 215
        }
      },
      "source": [
        "!wget -nc 'https://lazyprogrammer.me/course_files/spam.csv'\n",
        "\n",
        "df = pd.read_csv('spam.csv', encoding='ISO-8859-1')\n",
        "df = df.drop(['Unnamed: 2', 'Unnamed: 3', 'Unnamed: 4'], axis=1)\n",
        "df.head()\n",
        "\n",
        "X = df['v2'].values\n",
        "y = df['v1'].map({'ham': 0, 'spam': 1}).values\n",
        "X_train_texts, X_test_texts, y_train, y_test = train_test_split(X, y, test_size=0.33)\n",
        "\n",
        "MAX_VOCAB_SIZE = 20000\n",
        "tokenizer = tf.keras.preprocessing.text.Tokenizer(num_words=MAX_VOCAB_SIZE)\n",
        "tokenizer.fit_on_texts(X_train_texts)\n",
        "X_train = tokenizer.texts_to_sequences(X_train_texts)\n",
        "X_test = tokenizer.texts_to_sequences(X_test_texts)\n",
        "\n",
        "X_train = tf.keras.preprocessing.sequence.pad_sequences(X_train)\n",
        "T = X_train.shape[1]\n",
        "X_test = tf.keras.preprocessing.sequence.pad_sequences(X_test, maxlen=T)\n",
        "\n",
        "V = len(tokenizer.word_index)\n",
        "D = 20\n",
        "M = 15"
      ],
      "execution_count": null,
      "outputs": [
        {
          "output_type": "stream",
          "text": [
            "--2020-10-08 17:46:46--  https://lazyprogrammer.me/course_files/spam.csv\n",
            "Resolving lazyprogrammer.me (lazyprogrammer.me)... 104.31.81.48, 172.67.213.166, 104.31.80.48, ...\n",
            "Connecting to lazyprogrammer.me (lazyprogrammer.me)|104.31.81.48|:443... connected.\n",
            "HTTP request sent, awaiting response... 200 OK\n",
            "Length: 503663 (492K) [text/csv]\n",
            "Saving to: ‘spam.csv’\n",
            "\n",
            "\rspam.csv              0%[                    ]       0  --.-KB/s               \rspam.csv            100%[===================>] 491.86K  --.-KB/s    in 0.02s   \n",
            "\n",
            "2020-10-08 17:46:46 (23.7 MB/s) - ‘spam.csv’ saved [503663/503663]\n",
            "\n"
          ],
          "name": "stdout"
        }
      ]
    },
    {
      "cell_type": "code",
      "metadata": {
        "id": "fyXrS5poM2YY",
        "outputId": "dde08837-33f7-478d-814a-675b430bdc73",
        "colab": {
          "base_uri": "https://localhost:8080/",
          "height": 910
        }
      },
      "source": [
        "model = tf.keras.models.Sequential([\n",
        "    tf.keras.layers.Input(shape=(T,)),\n",
        "    tf.keras.layers.Embedding(V + 1, D),\n",
        "    tf.keras.layers.LSTM(M, return_sequences=True),\n",
        "    tf.keras.layers.GlobalMaxPool1D(),\n",
        "    tf.keras.layers.Dense(1, activation='sigmoid'),   \n",
        "])\n",
        "\n",
        "model.compile(optimizer='adam', loss='binary_crossentropy', metrics=['accuracy'])\n",
        "\n",
        "r = model.fit(X_train, y_train, validation_data=(X_test, y_test), epochs=10)\n",
        "\n",
        "plt.plot(r.history.get('loss'), label='Loss')\n",
        "plt.plot(r.history.get('val_loss'), label='Validation Loss')\n",
        "plt.legend()\n",
        "plt.show()\n",
        "\n",
        "plt.plot(r.history.get('accuracy'), label='Accuracy')\n",
        "plt.plot(r.history.get('val_accuracy'), label='Validation Accuracy')\n",
        "plt.legend()\n",
        "plt.show()\n",
        "\n",
        "print(f'Accuracy: {model.evaluate(X_test, y_test)[1]}')"
      ],
      "execution_count": null,
      "outputs": [
        {
          "output_type": "stream",
          "text": [
            "Epoch 1/10\n",
            "117/117 [==============================] - 1s 9ms/step - loss: 0.4841 - accuracy: 0.8382 - val_loss: 0.2984 - val_accuracy: 0.8744\n",
            "Epoch 2/10\n",
            "117/117 [==============================] - 1s 6ms/step - loss: 0.2212 - accuracy: 0.9207 - val_loss: 0.1680 - val_accuracy: 0.9761\n",
            "Epoch 3/10\n",
            "117/117 [==============================] - 1s 6ms/step - loss: 0.1396 - accuracy: 0.9861 - val_loss: 0.1209 - val_accuracy: 0.9821\n",
            "Epoch 4/10\n",
            "117/117 [==============================] - 1s 6ms/step - loss: 0.0928 - accuracy: 0.9920 - val_loss: 0.0929 - val_accuracy: 0.9831\n",
            "Epoch 5/10\n",
            "117/117 [==============================] - 1s 6ms/step - loss: 0.0598 - accuracy: 0.9949 - val_loss: 0.0794 - val_accuracy: 0.9831\n",
            "Epoch 6/10\n",
            "117/117 [==============================] - 1s 6ms/step - loss: 0.0422 - accuracy: 0.9968 - val_loss: 0.0633 - val_accuracy: 0.9880\n",
            "Epoch 7/10\n",
            "117/117 [==============================] - 1s 7ms/step - loss: 0.0302 - accuracy: 0.9981 - val_loss: 0.0596 - val_accuracy: 0.9880\n",
            "Epoch 8/10\n",
            "117/117 [==============================] - 1s 6ms/step - loss: 0.0247 - accuracy: 0.9984 - val_loss: 0.0572 - val_accuracy: 0.9875\n",
            "Epoch 9/10\n",
            "117/117 [==============================] - 1s 6ms/step - loss: 0.0213 - accuracy: 0.9984 - val_loss: 0.0587 - val_accuracy: 0.9875\n",
            "Epoch 10/10\n",
            "117/117 [==============================] - 1s 6ms/step - loss: 0.0182 - accuracy: 0.9987 - val_loss: 0.0619 - val_accuracy: 0.9880\n"
          ],
          "name": "stdout"
        },
        {
          "output_type": "display_data",
          "data": {
            "text/plain": [
              "<Figure size 432x288 with 1 Axes>"
            ],
            "image/png": "[encoded data removed]"
          },
          "metadata": {
            "tags": [],
            "needs_background": "light"
          }
        },
        {
          "output_type": "display_data",
          "data": {
            "text/plain": [
              "<Figure size 432x288 with 1 Axes>"
            ],
            "image/png": "[encoded data removed]"
          },
          "metadata": {
            "tags": [],
            "needs_background": "light"
          }
        },
        {
          "output_type": "stream",
          "text": [
            "58/58 [==============================] - 0s 2ms/step - loss: 0.0619 - accuracy: 0.9880\n",
            "Accuracy: 0.9880369901657104\n"
          ],
          "name": "stdout"
        }
      ]
    },
    {
      "cell_type": "code",
      "metadata": {
        "id": "eQmj9QFtRwvF",
        "outputId": "38aa3e2b-2209-4fc6-820c-ba4336f49ed4",
        "colab": {
          "base_uri": "https://localhost:8080/",
          "height": 53
        }
      },
      "source": [
        "labels = ['Ham', 'Spam']\n",
        "p_test = np.rint(model.predict(X_test).flatten()).astype(np.int)\n",
        "misclassified_idx = np.where(p_test != y_test)[0]\n",
        "i = np.random.choice(misclassified_idx)\n",
        "print(f'Sentence: {X_test_texts[i]}')\n",
        "print(f'Truth: {labels[y_test[i]]} Predicted: {labels[p_test[i]]}')"
      ],
      "execution_count": null,
      "outputs": [
        {
          "output_type": "stream",
          "text": [
            "Sentence: Not heard from U4 a while. Call me now am here all night with just my knickers on. Make me beg for it like U did last time 01223585236 XX Luv Nikiyu4.net\n",
            "Truth: Spam Predicted: Ham\n"
          ],
          "name": "stdout"
        }
      ]
    }
  ]
}