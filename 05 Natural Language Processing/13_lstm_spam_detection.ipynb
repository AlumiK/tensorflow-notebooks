{
  "nbformat": 4,
  "nbformat_minor": 0,
  "metadata": {
    "colab": {
      "name": "13_lstm_spam_detection.ipynb",
      "provenance": [],
      "collapsed_sections": [],
      "authorship_tag": "ABX9TyOFeLBy1XL08uaIzTjJ7q/9",
      "include_colab_link": true
    },
    "kernelspec": {
      "name": "python3",
      "display_name": "Python 3"
    },
    "accelerator": "GPU"
  },
  "cells": [
    {
      "cell_type": "markdown",
      "metadata": {
        "id": "view-in-github",
        "colab_type": "text"
      },
      "source": [
        "<a href=\"https://colab.research.google.com/github/AlumiK/tensorflow2-notebooks/blob/main/05%20Natural%20Language%20Processing/13_lstm_spam_detection.ipynb\" target=\"_parent\"><img src=\"https://colab.research.google.com/assets/colab-badge.svg\" alt=\"Open In Colab\"/></a>"
      ]
    },
    {
      "cell_type": "markdown",
      "metadata": {
        "id": "sysS7aXlHaPS"
      },
      "source": [
        "# LSTM Spam Detection"
      ]
    },
    {
      "cell_type": "code",
      "metadata": {
        "id": "HzgNvJI87iCJ"
      },
      "source": [
        "import numpy as np\n",
        "import pandas as pd\n",
        "import tensorflow as tf\n",
        "import matplotlib.pyplot as plt\n",
        "\n",
        "from sklearn.model_selection import train_test_split"
      ],
      "execution_count": null,
      "outputs": []
    },
    {
      "cell_type": "code",
      "metadata": {
        "id": "q7rS61VRRAEh",
        "outputId": "818c4eeb-5909-4dea-a9e5-b734eeca23ec",
        "colab": {
          "base_uri": "https://localhost:8080/",
          "height": 35
        }
      },
      "source": [
        "!nvidia-smi -L"
      ],
      "execution_count": null,
      "outputs": [
        {
          "output_type": "stream",
          "text": [
            "GPU 0: Tesla T4 (UUID: GPU-ae52d554-9816-f5f7-9815-af9acbf9f895)\n"
          ],
          "name": "stdout"
        }
      ]
    },
    {
      "cell_type": "code",
      "metadata": {
        "id": "MKPajgt57rLA",
        "outputId": "ee9e5aeb-e005-4c93-d9f5-2da2bc3d1c90",
        "colab": {
          "base_uri": "https://localhost:8080/",
          "height": 217
        }
      },
      "source": [
        "!wget -nc 'https://lazyprogrammer.me/course_files/spam.csv'\n",
        "\n",
        "df = pd.read_csv('spam.csv', encoding='ISO-8859-1')\n",
        "df = df.drop(['Unnamed: 2', 'Unnamed: 3', 'Unnamed: 4'], axis=1)\n",
        "df.head()\n",
        "\n",
        "X = df['v2'].values\n",
        "y = df['v1'].map({'ham': 0, 'spam': 1}).values\n",
        "X_train_texts, X_test_texts, y_train, y_test = train_test_split(X, y, test_size=0.33)\n",
        "\n",
        "MAX_VOCAB_SIZE = 20000\n",
        "tokenizer = tf.keras.preprocessing.text.Tokenizer(num_words=MAX_VOCAB_SIZE)\n",
        "tokenizer.fit_on_texts(X_train_texts)\n",
        "X_train = tokenizer.texts_to_sequences(X_train_texts)\n",
        "X_test = tokenizer.texts_to_sequences(X_test_texts)\n",
        "\n",
        "X_train = tf.keras.preprocessing.sequence.pad_sequences(X_train)\n",
        "T = X_train.shape[1]\n",
        "X_test = tf.keras.preprocessing.sequence.pad_sequences(X_test, maxlen=T)\n",
        "\n",
        "V = len(tokenizer.word_index)\n",
        "D = 20\n",
        "M = 15"
      ],
      "execution_count": null,
      "outputs": [
        {
          "output_type": "stream",
          "text": [
            "--2020-10-09 02:45:01--  https://lazyprogrammer.me/course_files/spam.csv\n",
            "Resolving lazyprogrammer.me (lazyprogrammer.me)... 172.67.213.166, 104.31.81.48, 104.31.80.48, ...\n",
            "Connecting to lazyprogrammer.me (lazyprogrammer.me)|172.67.213.166|:443... connected.\n",
            "HTTP request sent, awaiting response... 200 OK\n",
            "Length: 503663 (492K) [text/csv]\n",
            "Saving to: ‘spam.csv’\n",
            "\n",
            "spam.csv            100%[===================>] 491.86K   608KB/s    in 0.8s    \n",
            "\n",
            "2020-10-09 02:45:03 (608 KB/s) - ‘spam.csv’ saved [503663/503663]\n",
            "\n"
          ],
          "name": "stdout"
        }
      ]
    },
    {
      "cell_type": "code",
      "metadata": {
        "id": "fyXrS5poM2YY",
        "outputId": "b3bd28d2-16a5-4bf7-b1c3-6107e61008e4",
        "colab": {
          "base_uri": "https://localhost:8080/",
          "height": 914
        }
      },
      "source": [
        "model = tf.keras.models.Sequential([\n",
        "    tf.keras.layers.Input(shape=(T,)),\n",
        "    tf.keras.layers.Embedding(V + 1, D),\n",
        "    tf.keras.layers.LSTM(M, return_sequences=True),\n",
        "    tf.keras.layers.GlobalMaxPool1D(),\n",
        "    tf.keras.layers.Dense(1, activation='sigmoid'),   \n",
        "])\n",
        "\n",
        "model.compile(optimizer='adam', loss='binary_crossentropy', metrics=['accuracy'])\n",
        "\n",
        "r = model.fit(X_train, y_train, validation_data=(X_test, y_test), epochs=10)\n",
        "\n",
        "plt.plot(r.history.get('loss'), label='Loss')\n",
        "plt.plot(r.history.get('val_loss'), label='Validation Loss')\n",
        "plt.legend()\n",
        "plt.show()\n",
        "\n",
        "plt.plot(r.history.get('accuracy'), label='Accuracy')\n",
        "plt.plot(r.history.get('val_accuracy'), label='Validation Accuracy')\n",
        "plt.legend()\n",
        "plt.show()\n",
        "\n",
        "print(f'Accuracy: {model.evaluate(X_test, y_test)[1]}')"
      ],
      "execution_count": null,
      "outputs": [
        {
          "output_type": "stream",
          "text": [
            "Epoch 1/10\n",
            "117/117 [==============================] - 2s 17ms/step - loss: 0.4510 - accuracy: 0.8669 - val_loss: 0.3900 - val_accuracy: 0.8641\n",
            "Epoch 2/10\n",
            "117/117 [==============================] - 2s 13ms/step - loss: 0.3175 - accuracy: 0.8669 - val_loss: 0.2331 - val_accuracy: 0.8641\n",
            "Epoch 3/10\n",
            "117/117 [==============================] - 2s 14ms/step - loss: 0.1869 - accuracy: 0.9095 - val_loss: 0.1689 - val_accuracy: 0.9701\n",
            "Epoch 4/10\n",
            "117/117 [==============================] - 2s 14ms/step - loss: 0.1149 - accuracy: 0.9887 - val_loss: 0.1209 - val_accuracy: 0.9793\n",
            "Epoch 5/10\n",
            "117/117 [==============================] - 2s 13ms/step - loss: 0.0729 - accuracy: 0.9936 - val_loss: 0.0950 - val_accuracy: 0.9761\n",
            "Epoch 6/10\n",
            "117/117 [==============================] - 2s 13ms/step - loss: 0.0496 - accuracy: 0.9946 - val_loss: 0.0831 - val_accuracy: 0.9766\n",
            "Epoch 7/10\n",
            "117/117 [==============================] - 2s 13ms/step - loss: 0.0352 - accuracy: 0.9968 - val_loss: 0.0752 - val_accuracy: 0.9782\n",
            "Epoch 8/10\n",
            "117/117 [==============================] - 2s 14ms/step - loss: 0.0262 - accuracy: 0.9979 - val_loss: 0.0709 - val_accuracy: 0.9766\n",
            "Epoch 9/10\n",
            "117/117 [==============================] - 2s 13ms/step - loss: 0.0201 - accuracy: 0.9984 - val_loss: 0.0703 - val_accuracy: 0.9766\n",
            "Epoch 10/10\n",
            "117/117 [==============================] - 2s 13ms/step - loss: 0.0160 - accuracy: 0.9987 - val_loss: 0.0704 - val_accuracy: 0.9766\n"
          ],
          "name": "stdout"
        },
        {
          "output_type": "display_data",
          "data": {
            "image/png": "[encoded data removed]",
            "text/plain": [
              "<Figure size 432x288 with 1 Axes>"
            ]
          },
          "metadata": {
            "tags": [],
            "needs_background": "light"
          }
        },
        {
          "output_type": "display_data",
          "data": {
            "image/png": "[encoded data removed]",
            "text/plain": [
              "<Figure size 432x288 with 1 Axes>"
            ]
          },
          "metadata": {
            "tags": [],
            "needs_background": "light"
          }
        },
        {
          "output_type": "stream",
          "text": [
            "58/58 [==============================] - 0s 5ms/step - loss: 0.0704 - accuracy: 0.9766\n",
            "Accuracy: 0.9766177535057068\n"
          ],
          "name": "stdout"
        }
      ]
    },
    {
      "cell_type": "markdown",
      "metadata": {
        "id": "BgBxc54iSPBL"
      },
      "source": [
        "## Display a misclassified sentence"
      ]
    },
    {
      "cell_type": "code",
      "metadata": {
        "id": "eQmj9QFtRwvF",
        "outputId": "9c413e6f-ee50-4308-a427-c7c753bf0497",
        "colab": {
          "base_uri": "https://localhost:8080/",
          "height": 72
        }
      },
      "source": [
        "labels = ['Ham', 'Spam']\n",
        "p_test = np.rint(model.predict(X_test).flatten()).astype(np.int)\n",
        "misclassified_idx = np.where(p_test != y_test)[0]\n",
        "i = np.random.choice(misclassified_idx)\n",
        "print(f'Sentence: {X_test_texts[i]}')\n",
        "print(f'Truth: {labels[y_test[i]]}\\nPredicted: {labels[p_test[i]]}')"
      ],
      "execution_count": null,
      "outputs": [
        {
          "output_type": "stream",
          "text": [
            "Sentence: Sorry I missed your call let's talk when you have the time. I'm on 07090201529\n",
            "Truth: Spam\n",
            "Predicted: Ham\n"
          ],
          "name": "stdout"
        }
      ]
    },
    {
      "cell_type": "markdown",
      "metadata": {
        "id": "ZjFdDiNXSUmW"
      },
      "source": [
        "## Predict a custom sentence"
      ]
    },
    {
      "cell_type": "code",
      "metadata": {
        "id": "LADVSDDjRD9w",
        "outputId": "df297f6b-3f41-4c91-c998-1bdd2485ec16",
        "colab": {
          "base_uri": "https://localhost:8080/",
          "height": 35
        }
      },
      "source": [
        "custom_text = 'I will give you a big gift at your birthday party!'\n",
        "p_test = np.rint(\n",
        "    model.predict(\n",
        "        tf.keras.preprocessing.sequence.pad_sequences(\n",
        "            tokenizer.texts_to_sequences([custom_text]),\n",
        "            maxlen=T\n",
        "        )\n",
        "    ).flatten()\n",
        ").astype(np.int)\n",
        "print(f'Prediction: {labels[p_test[0]]}')"
      ],
      "execution_count": null,
      "outputs": [
        {
          "output_type": "stream",
          "text": [
            "Prediction: Ham\n"
          ],
          "name": "stdout"
        }
      ]
    }
  ]
}