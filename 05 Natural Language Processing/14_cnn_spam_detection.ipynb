{
  "nbformat": 4,
  "nbformat_minor": 0,
  "metadata": {
    "colab": {
      "name": "14_cnn_spam_detection.ipynb",
      "provenance": [],
      "collapsed_sections": [],
      "authorship_tag": "ABX9TyNJxQCpMxlUzc4zJGJ627Q0",
      "include_colab_link": true
    },
    "kernelspec": {
      "name": "python3",
      "display_name": "Python 3"
    }
  },
  "cells": [
    {
      "cell_type": "markdown",
      "metadata": {
        "id": "view-in-github",
        "colab_type": "text"
      },
      "source": [
        "<a href=\"https://colab.research.google.com/github/AlumiK/tensorflow2-notebooks/blob/main/05%20Natural%20Language%20Processing/14_cnn_spam_detection.ipynb\" target=\"_parent\"><img src=\"https://colab.research.google.com/assets/colab-badge.svg\" alt=\"Open In Colab\"/></a>"
      ]
    },
    {
      "cell_type": "code",
      "metadata": {
        "id": "KvaZaUQZfchh"
      },
      "source": [
        "import numpy as np\n",
        "import pandas as pd\n",
        "import tensorflow as tf\n",
        "import matplotlib.pyplot as plt\n",
        "\n",
        "from sklearn.model_selection import train_test_split"
      ],
      "execution_count": null,
      "outputs": []
    },
    {
      "cell_type": "code",
      "metadata": {
        "id": "MPYQIsDGhUjN",
        "outputId": "103a0165-cbd1-4dec-ad15-88a11dc44ab6",
        "colab": {
          "base_uri": "https://localhost:8080/",
          "height": 209
        }
      },
      "source": [
        "!wget -nc 'https://lazyprogrammer.me/course_files/spam.csv'\n",
        "\n",
        "df = pd.read_csv('spam.csv', encoding='ISO-8859-1')\n",
        "df = df.drop(['Unnamed: 2', 'Unnamed: 3', 'Unnamed: 4'], axis=1)\n",
        "\n",
        "X = df['v2'].values\n",
        "y = df['v1'].map({'ham': 0, 'spam': 1}).values\n",
        "X_train_texts, X_test_texts, y_train, y_test = train_test_split(X, y, test_size=0.33)\n",
        "\n",
        "tokenizer = tf.keras.preprocessing.text.Tokenizer(num_words=20000)\n",
        "tokenizer.fit_on_texts(X_train_texts)\n",
        "X_train = tokenizer.texts_to_sequences(X_train_texts)\n",
        "X_test = tokenizer.texts_to_sequences(X_test_texts)\n",
        "\n",
        "V = len(tokenizer.word_index)\n",
        "\n",
        "X_train = tf.keras.preprocessing.sequence.pad_sequences(X_train)\n",
        "T = X_train.shape[1]\n",
        "X_test = tf.keras.preprocessing.sequence.pad_sequences(X_test, maxlen=T)\n",
        "\n",
        "D = 20"
      ],
      "execution_count": null,
      "outputs": [
        {
          "output_type": "stream",
          "text": [
            "--2020-10-09 04:18:43--  https://lazyprogrammer.me/course_files/spam.csv\n",
            "Resolving lazyprogrammer.me (lazyprogrammer.me)... 104.31.81.48, 172.67.213.166, 104.31.80.48, ...\n",
            "Connecting to lazyprogrammer.me (lazyprogrammer.me)|104.31.81.48|:443... connected.\n",
            "HTTP request sent, awaiting response... 200 OK\n",
            "Length: 503663 (492K) [text/csv]\n",
            "Saving to: ‘spam.csv’\n",
            "\n",
            "\rspam.csv              0%[                    ]       0  --.-KB/s               \rspam.csv            100%[===================>] 491.86K  --.-KB/s    in 0.02s   \n",
            "\n",
            "2020-10-09 04:18:43 (26.2 MB/s) - ‘spam.csv’ saved [503663/503663]\n",
            "\n"
          ],
          "name": "stdout"
        }
      ]
    },
    {
      "cell_type": "code",
      "metadata": {
        "id": "oH_e7M9Ki7Xw",
        "outputId": "b0495799-5927-4402-a318-a6485509ebff",
        "colab": {
          "base_uri": "https://localhost:8080/",
          "height": 723
        }
      },
      "source": [
        "model = tf.keras.models.Sequential([\n",
        "    tf.keras.layers.Input(shape=(T,)),\n",
        "    tf.keras.layers.Embedding(V + 1, D),\n",
        "    tf.keras.layers.Conv1D(32, 3, activation='relu'),\n",
        "    tf.keras.layers.MaxPool1D(3),\n",
        "    tf.keras.layers.Conv1D(64, 3, activation='relu'),\n",
        "    tf.keras.layers.MaxPool1D(3),\n",
        "    tf.keras.layers.Conv1D(128, 3, activation='relu'),\n",
        "    tf.keras.layers.GlobalMaxPool1D(),\n",
        "    tf.keras.layers.Dense(1, activation='sigmoid'),\n",
        "])\n",
        "\n",
        "model.compile(optimizer='adam', loss='binary_crossentropy', metrics=['accuracy'])\n",
        "\n",
        "r = model.fit(X_train, y_train, validation_data=(X_test, y_test), epochs=5)\n",
        "\n",
        "plt.plot(r.history.get('loss'), label='Loss')\n",
        "plt.plot(r.history.get('val_loss'), label='Validation Loss')\n",
        "plt.legend()\n",
        "plt.show()\n",
        "\n",
        "plt.plot(r.history.get('accuracy'), label='Accuracy')\n",
        "plt.plot(r.history.get('val_accuracy'), label='Validation Accuracy')\n",
        "plt.legend()\n",
        "plt.show()\n",
        "\n",
        "print(f'Accuracy: {model.evaluate(X_test, y_test)[1]}')"
      ],
      "execution_count": null,
      "outputs": [
        {
          "output_type": "stream",
          "text": [
            "Epoch 1/5\n",
            "117/117 [==============================] - 2s 16ms/step - loss: 0.3710 - accuracy: 0.8722 - val_loss: 0.2586 - val_accuracy: 0.8532\n",
            "Epoch 2/5\n",
            "117/117 [==============================] - 2s 15ms/step - loss: 0.0740 - accuracy: 0.9772 - val_loss: 0.0622 - val_accuracy: 0.9837\n",
            "Epoch 3/5\n",
            "117/117 [==============================] - 2s 16ms/step - loss: 0.0122 - accuracy: 0.9965 - val_loss: 0.0786 - val_accuracy: 0.9815\n",
            "Epoch 4/5\n",
            "117/117 [==============================] - 2s 16ms/step - loss: 0.0034 - accuracy: 0.9992 - val_loss: 0.0787 - val_accuracy: 0.9842\n",
            "Epoch 5/5\n",
            "117/117 [==============================] - 2s 15ms/step - loss: 0.0013 - accuracy: 1.0000 - val_loss: 0.0746 - val_accuracy: 0.9869\n"
          ],
          "name": "stdout"
        },
        {
          "output_type": "display_data",
          "data": {
            "image/png": "[encoded data removed]",
            "text/plain": [
              "<Figure size 432x288 with 1 Axes>"
            ]
          },
          "metadata": {
            "tags": [],
            "needs_background": "light"
          }
        },
        {
          "output_type": "display_data",
          "data": {
            "image/png": "[encoded data removed]",
            "text/plain": [
              "<Figure size 432x288 with 1 Axes>"
            ]
          },
          "metadata": {
            "tags": [],
            "needs_background": "light"
          }
        },
        {
          "output_type": "stream",
          "text": [
            "58/58 [==============================] - 0s 4ms/step - loss: 0.0746 - accuracy: 0.9869\n",
            "Accuracy: 0.9869494438171387\n"
          ],
          "name": "stdout"
        }
      ]
    },
    {
      "cell_type": "code",
      "metadata": {
        "id": "M5c5Ezpxjx6r",
        "outputId": "1644cde0-5c76-42fd-c6ff-48e7ded25453",
        "colab": {
          "base_uri": "https://localhost:8080/",
          "height": 69
        }
      },
      "source": [
        "labels = ['Ham', 'Spam']\n",
        "p_test = np.rint(model.predict(X_test).flatten()).astype(np.int)\n",
        "misclassified_idx = np.where(p_test != y_test)[0]\n",
        "i = np.random.choice(misclassified_idx)\n",
        "print(f'Sentence: {X_test_texts[i]}')\n",
        "print(f'Truth: {labels[y_test[i]]}')\n",
        "print(f'Predicted: {labels[p_test[i]]}')"
      ],
      "execution_count": null,
      "outputs": [
        {
          "output_type": "stream",
          "text": [
            "Sentence: Sorry I missed your call let's talk when you have the time. I'm on 07090201529\n",
            "Truth: Spam\n",
            "Predicted: Ham\n"
          ],
          "name": "stdout"
        }
      ]
    }
  ]
}