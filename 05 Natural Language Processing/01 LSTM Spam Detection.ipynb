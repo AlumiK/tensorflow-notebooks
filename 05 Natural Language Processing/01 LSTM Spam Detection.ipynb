{
 "cells": [
  {
   "cell_type": "markdown",
   "metadata": {},
   "source": [
    "# LSTM Spam Detection"
   ]
  },
  {
   "cell_type": "code",
   "execution_count": 1,
   "metadata": {},
   "outputs": [],
   "source": [
    "import numpy as np\n",
    "import pandas as pd\n",
    "import tensorflow as tf\n",
    "import matplotlib.pyplot as plt\n",
    "\n",
    "from sklearn.model_selection import train_test_split"
   ]
  },
  {
   "cell_type": "code",
   "execution_count": 2,
   "metadata": {},
   "outputs": [
    {
     "name": "stdout",
     "output_type": "stream",
     "text": [
      "GPU 0: GeForce RTX 2080 Ti (UUID: GPU-3cb47403-efa9-71ae-1700-c27de6cb0d0a)\n"
     ]
    }
   ],
   "source": [
    "!nvidia-smi -L"
   ]
  },
  {
   "cell_type": "code",
   "execution_count": 3,
   "metadata": {},
   "outputs": [],
   "source": [
    "df = pd.read_csv('data/spam.csv', encoding='ISO-8859-1')\n",
    "df = df.drop(['Unnamed: 2', 'Unnamed: 3', 'Unnamed: 4'], axis=1)\n",
    "df.head()\n",
    "\n",
    "X = df['v2'].to_numpy()\n",
    "y = df['v1'].map({'ham': 0, 'spam': 1}).to_numpy()\n",
    "X_train_texts, X_test_texts, y_train, y_test = train_test_split(X, y, test_size=0.33)\n",
    "\n",
    "MAX_VOCAB_SIZE = 20000\n",
    "tokenizer = tf.keras.preprocessing.text.Tokenizer(num_words=MAX_VOCAB_SIZE)\n",
    "tokenizer.fit_on_texts(X_train_texts)\n",
    "X_train = tokenizer.texts_to_sequences(X_train_texts)\n",
    "X_test = tokenizer.texts_to_sequences(X_test_texts)\n",
    "\n",
    "X_train = tf.keras.preprocessing.sequence.pad_sequences(X_train)\n",
    "T = X_train.shape[1]\n",
    "X_test = tf.keras.preprocessing.sequence.pad_sequences(X_test, maxlen=T)\n",
    "\n",
    "V = len(tokenizer.word_index)\n",
    "D = 20\n",
    "M = 15"
   ]
  },
  {
   "cell_type": "code",
   "execution_count": 4,
   "metadata": {},
   "outputs": [
    {
     "name": "stdout",
     "output_type": "stream",
     "text": [
      "Train on 3733 samples, validate on 1839 samples\n",
      "Epoch 1/10\n",
      "3733/3733 [==============================] - 4s 1ms/sample - loss: 0.4667 - accuracy: 0.8647 - val_loss: 0.3556 - val_accuracy: 0.8684\n",
      "Epoch 2/10\n",
      "3733/3733 [==============================] - 1s 261us/sample - loss: 0.3164 - accuracy: 0.8647 - val_loss: 0.2677 - val_accuracy: 0.8684\n",
      "Epoch 3/10\n",
      "3733/3733 [==============================] - 1s 262us/sample - loss: 0.2200 - accuracy: 0.8728 - val_loss: 0.1727 - val_accuracy: 0.9570\n",
      "Epoch 4/10\n",
      "3733/3733 [==============================] - 1s 260us/sample - loss: 0.1141 - accuracy: 0.9893 - val_loss: 0.0982 - val_accuracy: 0.9848\n",
      "Epoch 5/10\n",
      "3733/3733 [==============================] - 1s 287us/sample - loss: 0.0607 - accuracy: 0.9957 - val_loss: 0.0779 - val_accuracy: 0.9859\n",
      "Epoch 6/10\n",
      "3733/3733 [==============================] - 1s 272us/sample - loss: 0.0379 - accuracy: 0.9979 - val_loss: 0.0649 - val_accuracy: 0.9880\n",
      "Epoch 7/10\n",
      "3733/3733 [==============================] - 1s 262us/sample - loss: 0.0255 - accuracy: 0.9992 - val_loss: 0.0591 - val_accuracy: 0.9875\n",
      "Epoch 8/10\n",
      "3733/3733 [==============================] - 1s 262us/sample - loss: 0.0187 - accuracy: 0.9997 - val_loss: 0.0567 - val_accuracy: 0.9880\n",
      "Epoch 9/10\n",
      "3733/3733 [==============================] - 1s 262us/sample - loss: 0.0146 - accuracy: 0.9997 - val_loss: 0.0552 - val_accuracy: 0.9886\n",
      "Epoch 10/10\n",
      "3733/3733 [==============================] - 1s 261us/sample - loss: 0.0118 - accuracy: 0.9997 - val_loss: 0.0549 - val_accuracy: 0.9886\n"
     ]
    },
    {
     "data": {
      "image/png": "[encoded data removed]",
      "text/plain": [
       "<Figure size 432x288 with 1 Axes>"
      ]
     },
     "metadata": {
      "needs_background": "light"
     },
     "output_type": "display_data"
    },
    {
     "data": {
      "image/png": "[encoded data removed]",
      "text/plain": [
       "<Figure size 432x288 with 1 Axes>"
      ]
     },
     "metadata": {
      "needs_background": "light"
     },
     "output_type": "display_data"
    },
    {
     "name": "stdout",
     "output_type": "stream",
     "text": [
      "1839/1839 [==============================] - 0s 108us/sample - loss: 0.0549 - accuracy: 0.9886\n",
      "Accuracy: 0.9885807633399963\n"
     ]
    }
   ],
   "source": [
    "i = tf.keras.layers.Input(shape=(T,))\n",
    "x = tf.keras.layers.Embedding(V + 1, D)(i)\n",
    "x = tf.keras.layers.LSTM(M, return_sequences=True)(x)\n",
    "x = tf.keras.layers.GlobalMaxPool1D()(x)\n",
    "x = tf.keras.layers.Dense(1, activation='sigmoid')(x)   \n",
    "model = tf.keras.models.Model(i, x)\n",
    "\n",
    "model.compile(optimizer='adam',\n",
    "              loss='binary_crossentropy',\n",
    "              metrics=['accuracy'])\n",
    "\n",
    "r = model.fit(X_train, y_train,\n",
    "              validation_data=(X_test, y_test),\n",
    "              epochs=10)\n",
    "\n",
    "plt.plot(r.history.get('loss'), label='Loss')\n",
    "plt.plot(r.history.get('val_loss'), label='Validation Loss')\n",
    "plt.legend()\n",
    "plt.show()\n",
    "\n",
    "plt.plot(r.history.get('accuracy'), label='Accuracy')\n",
    "plt.plot(r.history.get('val_accuracy'), label='Validation Accuracy')\n",
    "plt.legend()\n",
    "plt.show()\n",
    "\n",
    "print(f'Accuracy: {model.evaluate(X_test, y_test)[1]}')"
   ]
  },
  {
   "cell_type": "markdown",
   "metadata": {},
   "source": [
    "## Display a misclassified sentence"
   ]
  },
  {
   "cell_type": "code",
   "execution_count": 5,
   "metadata": {},
   "outputs": [
    {
     "name": "stdout",
     "output_type": "stream",
     "text": [
      "Sentence: accordingly. I repeat, just text the word ok on your mobile phone and send\n",
      "Truth: Spam\n",
      "Predicted: Ham\n"
     ]
    }
   ],
   "source": [
    "labels = ['Ham', 'Spam']\n",
    "p_test = np.rint(model.predict(X_test).flatten()).astype(np.int)\n",
    "misclassified_idx = np.where(p_test != y_test)[0]\n",
    "i = np.random.choice(misclassified_idx)\n",
    "print(f'Sentence: {X_test_texts[i]}')\n",
    "print(f'Truth: {labels[y_test[i]]}\\nPredicted: {labels[p_test[i]]}')"
   ]
  }
 ],
 "metadata": {
  "kernelspec": {
   "display_name": "Python 3",
   "language": "python",
   "name": "python3"
  },
  "language_info": {
   "codemirror_mode": {
    "name": "ipython",
    "version": 3
   },
   "file_extension": ".py",
   "mimetype": "text/x-python",
   "name": "python",
   "nbconvert_exporter": "python",
   "pygments_lexer": "ipython3",
   "version": "3.7.9"
  }
 },
 "nbformat": 4,
 "nbformat_minor": 4
}
