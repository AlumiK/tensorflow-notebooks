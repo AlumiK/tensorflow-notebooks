{
 "cells": [
  {
   "cell_type": "markdown",
   "metadata": {},
   "source": [
    "# Linear Regression (Moore's Law)"
   ]
  },
  {
   "cell_type": "code",
   "execution_count": 1,
   "metadata": {},
   "outputs": [],
   "source": [
    "import numpy as np\n",
    "import pandas as pd\n",
    "import tensorflow as tf\n",
    "import matplotlib.pyplot as plt"
   ]
  },
  {
   "cell_type": "code",
   "execution_count": 2,
   "metadata": {},
   "outputs": [
    {
     "name": "stdout",
     "output_type": "stream",
     "text": [
      "GPU 0: GeForce RTX 2080 Ti (UUID: GPU-3cb47403-efa9-71ae-1700-c27de6cb0d0a)\n"
     ]
    }
   ],
   "source": [
    "!nvidia-smi -L"
   ]
  },
  {
   "cell_type": "code",
   "execution_count": 3,
   "metadata": {},
   "outputs": [],
   "source": [
    "data = pd.read_csv('data/moore.csv').to_numpy()\n",
    "X = data[:, 0].reshape(-1, 1)\n",
    "y = data[:, 1]\n",
    "X = X - X.mean()\n",
    "y = np.log(y)"
   ]
  },
  {
   "cell_type": "code",
   "execution_count": 4,
   "metadata": {},
   "outputs": [
    {
     "name": "stdout",
     "output_type": "stream",
     "text": [
      "Train on 161 samples\n",
      "Epoch 1/100\n",
      "161/161 [==============================] - 0s 2ms/sample - loss: 349.1424\n",
      "Epoch 2/100\n",
      "161/161 [==============================] - 0s 49us/sample - loss: 320.5623\n",
      "Epoch 3/100\n",
      "161/161 [==============================] - 0s 46us/sample - loss: 240.1893\n",
      "Epoch 4/100\n",
      "161/161 [==============================] - 0s 49us/sample - loss: 209.8448\n",
      "Epoch 5/100\n",
      "161/161 [==============================] - 0s 46us/sample - loss: 242.9940\n",
      "Epoch 6/100\n",
      "161/161 [==============================] - 0s 49us/sample - loss: 129.4923\n",
      "Epoch 7/100\n",
      "161/161 [==============================] - 0s 52us/sample - loss: 136.7724\n",
      "Epoch 8/100\n",
      "161/161 [==============================] - 0s 43us/sample - loss: 174.8624\n",
      "Epoch 9/100\n",
      "161/161 [==============================] - 0s 46us/sample - loss: 89.7418\n",
      "Epoch 10/100\n",
      "161/161 [==============================] - 0s 46us/sample - loss: 51.5190\n",
      "Epoch 11/100\n",
      "161/161 [==============================] - 0s 46us/sample - loss: 27.4637\n",
      "Epoch 12/100\n",
      "161/161 [==============================] - 0s 46us/sample - loss: 21.0921\n",
      "Epoch 13/100\n",
      "161/161 [==============================] - 0s 46us/sample - loss: 11.8092\n",
      "Epoch 14/100\n",
      "161/161 [==============================] - 0s 46us/sample - loss: 10.7789\n",
      "Epoch 15/100\n",
      "161/161 [==============================] - 0s 46us/sample - loss: 10.8485\n",
      "Epoch 16/100\n",
      "161/161 [==============================] - 0s 46us/sample - loss: 8.0881\n",
      "Epoch 17/100\n",
      "161/161 [==============================] - 0s 46us/sample - loss: 4.7569\n",
      "Epoch 18/100\n",
      "161/161 [==============================] - 0s 46us/sample - loss: 12.5705\n",
      "Epoch 19/100\n",
      "161/161 [==============================] - 0s 49us/sample - loss: 11.0087\n",
      "Epoch 20/100\n",
      "161/161 [==============================] - 0s 46us/sample - loss: 5.4536\n",
      "Epoch 21/100\n",
      "161/161 [==============================] - 0s 46us/sample - loss: 4.4932\n",
      "Epoch 22/100\n",
      "161/161 [==============================] - 0s 46us/sample - loss: 2.4488\n",
      "Epoch 23/100\n",
      "161/161 [==============================] - 0s 43us/sample - loss: 10.3350\n",
      "Epoch 24/100\n",
      "161/161 [==============================] - 0s 46us/sample - loss: 9.3300\n",
      "Epoch 25/100\n",
      "161/161 [==============================] - 0s 43us/sample - loss: 6.8002\n",
      "Epoch 26/100\n",
      "161/161 [==============================] - 0s 43us/sample - loss: 5.1036\n",
      "Epoch 27/100\n",
      "161/161 [==============================] - 0s 46us/sample - loss: 4.6858\n",
      "Epoch 28/100\n",
      "161/161 [==============================] - 0s 46us/sample - loss: 3.8225\n",
      "Epoch 29/100\n",
      "161/161 [==============================] - 0s 43us/sample - loss: 2.0494\n",
      "Epoch 30/100\n",
      "161/161 [==============================] - 0s 43us/sample - loss: 1.8569\n",
      "Epoch 31/100\n",
      "161/161 [==============================] - 0s 46us/sample - loss: 1.8383\n",
      "Epoch 32/100\n",
      "161/161 [==============================] - 0s 49us/sample - loss: 4.3808\n",
      "Epoch 33/100\n",
      "161/161 [==============================] - 0s 46us/sample - loss: 5.0890\n",
      "Epoch 34/100\n",
      "161/161 [==============================] - 0s 46us/sample - loss: 4.8011\n",
      "Epoch 35/100\n",
      "161/161 [==============================] - 0s 43us/sample - loss: 2.7225\n",
      "Epoch 36/100\n",
      "161/161 [==============================] - 0s 46us/sample - loss: 1.1338\n",
      "Epoch 37/100\n",
      "161/161 [==============================] - 0s 52us/sample - loss: 1.0141\n",
      "Epoch 38/100\n",
      "161/161 [==============================] - 0s 46us/sample - loss: 1.0884\n",
      "Epoch 39/100\n",
      "161/161 [==============================] - 0s 46us/sample - loss: 1.0140\n",
      "Epoch 40/100\n",
      "161/161 [==============================] - 0s 46us/sample - loss: 1.5654\n",
      "Epoch 41/100\n",
      "161/161 [==============================] - 0s 46us/sample - loss: 0.9830\n",
      "Epoch 42/100\n",
      "161/161 [==============================] - 0s 49us/sample - loss: 0.9772\n",
      "Epoch 43/100\n",
      "161/161 [==============================] - 0s 43us/sample - loss: 0.9963\n",
      "Epoch 44/100\n",
      "161/161 [==============================] - 0s 46us/sample - loss: 1.1125\n",
      "Epoch 45/100\n",
      "161/161 [==============================] - 0s 46us/sample - loss: 0.9790\n",
      "Epoch 46/100\n",
      "161/161 [==============================] - 0s 46us/sample - loss: 1.0070\n",
      "Epoch 47/100\n",
      "161/161 [==============================] - 0s 46us/sample - loss: 1.3537\n",
      "Epoch 48/100\n",
      "161/161 [==============================] - 0s 46us/sample - loss: 1.1675\n",
      "Epoch 49/100\n",
      "161/161 [==============================] - 0s 49us/sample - loss: 1.2109\n",
      "Epoch 50/100\n",
      "161/161 [==============================] - 0s 46us/sample - loss: 1.0000\n",
      "Epoch 51/100\n",
      "161/161 [==============================] - 0s 46us/sample - loss: 2.5188\n",
      "Epoch 52/100\n",
      "161/161 [==============================] - 0s 46us/sample - loss: 3.2637\n",
      "Epoch 53/100\n",
      "161/161 [==============================] - 0s 46us/sample - loss: 1.1737\n",
      "Epoch 54/100\n",
      "161/161 [==============================] - 0s 46us/sample - loss: 1.2084\n",
      "Epoch 55/100\n",
      "161/161 [==============================] - 0s 49us/sample - loss: 1.3253\n",
      "Epoch 56/100\n",
      "161/161 [==============================] - 0s 49us/sample - loss: 0.9429\n",
      "Epoch 57/100\n",
      "161/161 [==============================] - 0s 46us/sample - loss: 0.9200\n",
      "Epoch 58/100\n",
      "161/161 [==============================] - 0s 46us/sample - loss: 0.9763\n",
      "Epoch 59/100\n",
      "161/161 [==============================] - 0s 49us/sample - loss: 0.8974\n",
      "Epoch 60/100\n",
      "161/161 [==============================] - 0s 46us/sample - loss: 0.9416\n",
      "Epoch 61/100\n",
      "161/161 [==============================] - 0s 46us/sample - loss: 0.9044\n",
      "Epoch 62/100\n",
      "161/161 [==============================] - 0s 49us/sample - loss: 0.8827\n",
      "Epoch 63/100\n",
      "161/161 [==============================] - 0s 52us/sample - loss: 0.8929\n",
      "Epoch 64/100\n",
      "161/161 [==============================] - 0s 46us/sample - loss: 0.9363\n",
      "Epoch 65/100\n",
      "161/161 [==============================] - 0s 49us/sample - loss: 0.9750\n",
      "Epoch 66/100\n",
      "161/161 [==============================] - 0s 46us/sample - loss: 0.9074\n",
      "Epoch 67/100\n",
      "161/161 [==============================] - 0s 46us/sample - loss: 0.8752\n",
      "Epoch 68/100\n",
      "161/161 [==============================] - 0s 46us/sample - loss: 0.8743\n",
      "Epoch 69/100\n",
      "161/161 [==============================] - 0s 46us/sample - loss: 0.8741\n",
      "Epoch 70/100\n",
      "161/161 [==============================] - 0s 46us/sample - loss: 0.8757\n",
      "Epoch 71/100\n",
      "161/161 [==============================] - 0s 49us/sample - loss: 0.8878\n",
      "Epoch 72/100\n",
      "161/161 [==============================] - 0s 46us/sample - loss: 0.9183\n",
      "Epoch 73/100\n",
      "161/161 [==============================] - 0s 46us/sample - loss: 0.8956\n",
      "Epoch 74/100\n",
      "161/161 [==============================] - 0s 49us/sample - loss: 0.9454\n",
      "Epoch 75/100\n",
      "161/161 [==============================] - 0s 46us/sample - loss: 0.9468\n",
      "Epoch 76/100\n",
      "161/161 [==============================] - 0s 46us/sample - loss: 0.8851\n",
      "Epoch 77/100\n",
      "161/161 [==============================] - 0s 46us/sample - loss: 0.8772\n",
      "Epoch 78/100\n",
      "161/161 [==============================] - 0s 46us/sample - loss: 0.8777\n",
      "Epoch 79/100\n",
      "161/161 [==============================] - 0s 46us/sample - loss: 0.8831\n",
      "Epoch 80/100\n",
      "161/161 [==============================] - 0s 46us/sample - loss: 0.8873\n",
      "Epoch 81/100\n",
      "161/161 [==============================] - 0s 46us/sample - loss: 0.8907\n",
      "Epoch 82/100\n",
      "161/161 [==============================] - 0s 49us/sample - loss: 0.8799\n",
      "Epoch 83/100\n",
      "161/161 [==============================] - 0s 46us/sample - loss: 0.8748\n",
      "Epoch 84/100\n",
      "161/161 [==============================] - 0s 46us/sample - loss: 0.8820\n",
      "Epoch 85/100\n",
      "161/161 [==============================] - 0s 46us/sample - loss: 0.8681\n",
      "Epoch 86/100\n",
      "161/161 [==============================] - 0s 49us/sample - loss: 0.8755\n",
      "Epoch 87/100\n",
      "161/161 [==============================] - 0s 49us/sample - loss: 0.8828\n",
      "Epoch 88/100\n",
      "161/161 [==============================] - 0s 55us/sample - loss: 0.8874\n",
      "Epoch 89/100\n",
      "161/161 [==============================] - 0s 46us/sample - loss: 0.8763\n",
      "Epoch 90/100\n",
      "161/161 [==============================] - 0s 52us/sample - loss: 0.8742\n",
      "Epoch 91/100\n",
      "161/161 [==============================] - 0s 46us/sample - loss: 0.8755\n",
      "Epoch 92/100\n",
      "161/161 [==============================] - 0s 55us/sample - loss: 0.8750\n",
      "Epoch 93/100\n",
      "161/161 [==============================] - 0s 52us/sample - loss: 0.8764\n",
      "Epoch 94/100\n",
      "161/161 [==============================] - 0s 49us/sample - loss: 0.8762\n",
      "Epoch 95/100\n"
     ]
    },
    {
     "name": "stdout",
     "output_type": "stream",
     "text": [
      "161/161 [==============================] - 0s 59us/sample - loss: 0.8804\n",
      "Epoch 96/100\n",
      "161/161 [==============================] - 0s 46us/sample - loss: 0.8798\n",
      "Epoch 97/100\n",
      "161/161 [==============================] - 0s 46us/sample - loss: 0.8731\n",
      "Epoch 98/100\n",
      "161/161 [==============================] - 0s 46us/sample - loss: 0.8739\n",
      "Epoch 99/100\n",
      "161/161 [==============================] - 0s 46us/sample - loss: 0.8821\n",
      "Epoch 100/100\n",
      "161/161 [==============================] - 0s 46us/sample - loss: 0.8785\n"
     ]
    },
    {
     "data": {
      "image/png": "[encoded data removed]",
      "text/plain": [
       "<Figure size 432x288 with 1 Axes>"
      ]
     },
     "metadata": {
      "needs_background": "light"
     },
     "output_type": "display_data"
    }
   ],
   "source": [
    "i = tf.keras.layers.Input(shape=(1,))\n",
    "x = tf.keras.layers.Dense(1)(i)\n",
    "model = tf.keras.models.Model(i, x)\n",
    "\n",
    "model.compile(optimizer=tf.keras.optimizers.SGD(0.001, 0.9),\n",
    "              loss='mse')\n",
    "scheduler = tf.keras.callbacks.LearningRateScheduler(lambda x: 0.001 if x < 50 else 0.0001)\n",
    "\n",
    "r = model.fit(X, y,\n",
    "              epochs=100,\n",
    "              callbacks=[scheduler])\n",
    "\n",
    "plt.plot(r.history.get('loss'), label='Loss')\n",
    "plt.legend()\n",
    "plt.show()"
   ]
  },
  {
   "cell_type": "code",
   "execution_count": 5,
   "metadata": {
    "scrolled": true
   },
   "outputs": [
    {
     "name": "stdout",
     "output_type": "stream",
     "text": [
      "Time to double: 2.035797502833834\n"
     ]
    },
    {
     "data": {
      "image/png": "[encoded data removed]",
      "text/plain": [
       "<Figure size 432x288 with 1 Axes>"
      ]
     },
     "metadata": {
      "needs_background": "light"
     },
     "output_type": "display_data"
    }
   ],
   "source": [
    "a = model.layers[1].get_weights()[0][0, 0]\n",
    "print(f'Time to double: {np.log(2) / a}')\n",
    "\n",
    "X_hat = np.linspace(X.min(), X.max(), 100)\n",
    "y_hat = model.predict(X_hat.reshape(-1, 1))\n",
    "plt.scatter(X.flatten(), y, label='Data')\n",
    "plt.plot(X_hat, y_hat, color='red', label='Linear Regression')\n",
    "plt.legend()\n",
    "plt.show()"
   ]
  }
 ],
 "metadata": {
  "kernelspec": {
   "display_name": "Python 3",
   "language": "python",
   "name": "python3"
  },
  "language_info": {
   "codemirror_mode": {
    "name": "ipython",
    "version": 3
   },
   "file_extension": ".py",
   "mimetype": "text/x-python",
   "name": "python",
   "nbconvert_exporter": "python",
   "pygments_lexer": "ipython3",
   "version": "3.7.9"
  }
 },
 "nbformat": 4,
 "nbformat_minor": 4
}
