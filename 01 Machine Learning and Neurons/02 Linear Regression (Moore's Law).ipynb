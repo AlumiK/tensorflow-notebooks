{
 "cells": [
  {
   "cell_type": "markdown",
   "metadata": {},
   "source": [
    "# Linear Regression (Moore's Law)"
   ]
  },
  {
   "cell_type": "code",
   "execution_count": 1,
   "metadata": {},
   "outputs": [],
   "source": [
    "import numpy as np\n",
    "import pandas as pd\n",
    "import tensorflow as tf\n",
    "import matplotlib.pyplot as plt"
   ]
  },
  {
   "cell_type": "code",
   "execution_count": 2,
   "metadata": {},
   "outputs": [
    {
     "name": "stdout",
     "output_type": "stream",
     "text": [
      "GPU 0: GeForce RTX 2080 Ti (UUID: GPU-3cb47403-efa9-71ae-1700-c27de6cb0d0a)\n",
      "Tensorflow version: 2.3.1\n"
     ]
    }
   ],
   "source": [
    "!nvidia-smi -L\n",
    "print(f'Tensorflow version: {tf.__version__}')"
   ]
  },
  {
   "cell_type": "code",
   "execution_count": 3,
   "metadata": {},
   "outputs": [],
   "source": [
    "data = pd.read_csv('data/moore.csv').to_numpy()\n",
    "X = data[:, 0].reshape(-1, 1)\n",
    "y = data[:, 1]\n",
    "X = X - X.mean()\n",
    "y = np.log(y)"
   ]
  },
  {
   "cell_type": "code",
   "execution_count": 4,
   "metadata": {},
   "outputs": [
    {
     "name": "stdout",
     "output_type": "stream",
     "text": [
      "Epoch 1/100\n",
      "6/6 [==============================] - 0s 992us/step - loss: 332.9912\n",
      "Epoch 2/100\n",
      "6/6 [==============================] - 0s 909us/step - loss: 295.8638\n",
      "Epoch 3/100\n",
      "6/6 [==============================] - 0s 992us/step - loss: 263.2344\n",
      "Epoch 4/100\n",
      "6/6 [==============================] - 0s 992us/step - loss: 197.4203\n",
      "Epoch 5/100\n",
      "6/6 [==============================] - 0s 909us/step - loss: 175.3038\n",
      "Epoch 6/100\n",
      "6/6 [==============================] - 0s 909us/step - loss: 181.1018\n",
      "Epoch 7/100\n",
      "6/6 [==============================] - 0s 992us/step - loss: 129.4409\n",
      "Epoch 8/100\n",
      "6/6 [==============================] - 0s 992us/step - loss: 114.9732\n",
      "Epoch 9/100\n",
      "6/6 [==============================] - 0s 992us/step - loss: 81.1907\n",
      "Epoch 10/100\n",
      "6/6 [==============================] - 0s 909us/step - loss: 61.5480\n",
      "Epoch 11/100\n",
      "6/6 [==============================] - 0s 909us/step - loss: 31.6261\n",
      "Epoch 12/100\n",
      "6/6 [==============================] - 0s 909us/step - loss: 25.7740\n",
      "Epoch 13/100\n",
      "6/6 [==============================] - 0s 909us/step - loss: 22.3017\n",
      "Epoch 14/100\n",
      "6/6 [==============================] - 0s 992us/step - loss: 12.4404\n",
      "Epoch 15/100\n",
      "6/6 [==============================] - 0s 992us/step - loss: 17.8223\n",
      "Epoch 16/100\n",
      "6/6 [==============================] - 0s 910us/step - loss: 15.2161\n",
      "Epoch 17/100\n",
      "6/6 [==============================] - 0s 909us/step - loss: 14.2566\n",
      "Epoch 18/100\n",
      "6/6 [==============================] - 0s 1ms/step - loss: 16.0883\n",
      "Epoch 19/100\n",
      "6/6 [==============================] - 0s 909us/step - loss: 6.6489\n",
      "Epoch 20/100\n",
      "6/6 [==============================] - 0s 992us/step - loss: 5.6129\n",
      "Epoch 21/100\n",
      "6/6 [==============================] - 0s 992us/step - loss: 3.5389\n",
      "Epoch 22/100\n",
      "6/6 [==============================] - 0s 992us/step - loss: 2.0930\n",
      "Epoch 23/100\n",
      "6/6 [==============================] - 0s 1ms/step - loss: 1.6901\n",
      "Epoch 24/100\n",
      "6/6 [==============================] - 0s 909us/step - loss: 1.6427\n",
      "Epoch 25/100\n",
      "6/6 [==============================] - 0s 992us/step - loss: 1.3845\n",
      "Epoch 26/100\n",
      "6/6 [==============================] - 0s 992us/step - loss: 1.3456\n",
      "Epoch 27/100\n",
      "6/6 [==============================] - 0s 992us/step - loss: 1.2782\n",
      "Epoch 28/100\n",
      "6/6 [==============================] - 0s 992us/step - loss: 1.2095\n",
      "Epoch 29/100\n",
      "6/6 [==============================] - 0s 992us/step - loss: 1.1245\n",
      "Epoch 30/100\n",
      "6/6 [==============================] - 0s 992us/step - loss: 1.0402\n",
      "Epoch 31/100\n",
      "6/6 [==============================] - 0s 992us/step - loss: 1.1030\n",
      "Epoch 32/100\n",
      "6/6 [==============================] - 0s 992us/step - loss: 1.1108\n",
      "Epoch 33/100\n",
      "6/6 [==============================] - 0s 909us/step - loss: 1.0614\n",
      "Epoch 34/100\n",
      "6/6 [==============================] - 0s 992us/step - loss: 0.9830\n",
      "Epoch 35/100\n",
      "6/6 [==============================] - 0s 909us/step - loss: 1.0266\n",
      "Epoch 36/100\n",
      "6/6 [==============================] - 0s 992us/step - loss: 0.9716\n",
      "Epoch 37/100\n",
      "6/6 [==============================] - 0s 909us/step - loss: 0.9324\n",
      "Epoch 38/100\n",
      "6/6 [==============================] - 0s 909us/step - loss: 0.9336\n",
      "Epoch 39/100\n",
      "6/6 [==============================] - 0s 909us/step - loss: 0.9497\n",
      "Epoch 40/100\n",
      "6/6 [==============================] - 0s 909us/step - loss: 0.9849\n",
      "Epoch 41/100\n",
      "6/6 [==============================] - 0s 909us/step - loss: 1.0663\n",
      "Epoch 42/100\n",
      "6/6 [==============================] - 0s 992us/step - loss: 1.3295\n",
      "Epoch 43/100\n",
      "6/6 [==============================] - 0s 992us/step - loss: 1.0958\n",
      "Epoch 44/100\n",
      "6/6 [==============================] - 0s 992us/step - loss: 0.9638\n",
      "Epoch 45/100\n",
      "6/6 [==============================] - 0s 909us/step - loss: 2.1269\n",
      "Epoch 46/100\n",
      "6/6 [==============================] - 0s 992us/step - loss: 1.5843\n",
      "Epoch 47/100\n",
      "6/6 [==============================] - 0s 909us/step - loss: 2.9143\n",
      "Epoch 48/100\n",
      "6/6 [==============================] - 0s 909us/step - loss: 1.6940\n",
      "Epoch 49/100\n",
      "6/6 [==============================] - 0s 909us/step - loss: 2.1165\n",
      "Epoch 50/100\n",
      "6/6 [==============================] - 0s 992us/step - loss: 1.7224\n",
      "Epoch 51/100\n",
      "6/6 [==============================] - 0s 992us/step - loss: 1.4786\n",
      "Epoch 52/100\n",
      "6/6 [==============================] - 0s 909us/step - loss: 3.7886\n",
      "Epoch 53/100\n",
      "6/6 [==============================] - 0s 992us/step - loss: 1.9130\n",
      "Epoch 54/100\n",
      "6/6 [==============================] - 0s 1ms/step - loss: 0.9658\n",
      "Epoch 55/100\n",
      "6/6 [==============================] - 0s 992us/step - loss: 1.4380\n",
      "Epoch 56/100\n",
      "6/6 [==============================] - 0s 992us/step - loss: 1.0535\n",
      "Epoch 57/100\n",
      "6/6 [==============================] - 0s 909us/step - loss: 0.8733\n",
      "Epoch 58/100\n",
      "6/6 [==============================] - 0s 992us/step - loss: 0.9027\n",
      "Epoch 59/100\n",
      "6/6 [==============================] - 0s 909us/step - loss: 0.9190\n",
      "Epoch 60/100\n",
      "6/6 [==============================] - 0s 909us/step - loss: 0.8931\n",
      "Epoch 61/100\n",
      "6/6 [==============================] - 0s 909us/step - loss: 0.8900\n",
      "Epoch 62/100\n",
      "6/6 [==============================] - 0s 909us/step - loss: 0.8918\n",
      "Epoch 63/100\n",
      "6/6 [==============================] - 0s 909us/step - loss: 0.8798\n",
      "Epoch 64/100\n",
      "6/6 [==============================] - 0s 827us/step - loss: 0.8767\n",
      "Epoch 65/100\n",
      "6/6 [==============================] - 0s 827us/step - loss: 0.8804\n",
      "Epoch 66/100\n",
      "6/6 [==============================] - 0s 827us/step - loss: 0.8779\n",
      "Epoch 67/100\n",
      "6/6 [==============================] - 0s 827us/step - loss: 0.8783\n",
      "Epoch 68/100\n",
      "6/6 [==============================] - 0s 909us/step - loss: 0.8800\n",
      "Epoch 69/100\n",
      "6/6 [==============================] - 0s 909us/step - loss: 0.8834\n",
      "Epoch 70/100\n",
      "6/6 [==============================] - 0s 992us/step - loss: 0.8844\n",
      "Epoch 71/100\n",
      "6/6 [==============================] - 0s 909us/step - loss: 0.8857\n",
      "Epoch 72/100\n",
      "6/6 [==============================] - 0s 909us/step - loss: 0.8842\n",
      "Epoch 73/100\n",
      "6/6 [==============================] - 0s 909us/step - loss: 0.8725\n",
      "Epoch 74/100\n",
      "6/6 [==============================] - 0s 827us/step - loss: 0.8772\n",
      "Epoch 75/100\n",
      "6/6 [==============================] - 0s 909us/step - loss: 0.8773\n",
      "Epoch 76/100\n",
      "6/6 [==============================] - 0s 909us/step - loss: 0.8845\n",
      "Epoch 77/100\n",
      "6/6 [==============================] - 0s 909us/step - loss: 0.8922\n",
      "Epoch 78/100\n",
      "6/6 [==============================] - 0s 909us/step - loss: 0.8857\n",
      "Epoch 79/100\n",
      "6/6 [==============================] - 0s 991us/step - loss: 0.8795\n",
      "Epoch 80/100\n",
      "6/6 [==============================] - 0s 992us/step - loss: 0.8720\n",
      "Epoch 81/100\n",
      "6/6 [==============================] - 0s 909us/step - loss: 0.8987\n",
      "Epoch 82/100\n",
      "6/6 [==============================] - 0s 992us/step - loss: 0.8785\n",
      "Epoch 83/100\n",
      "6/6 [==============================] - 0s 1ms/step - loss: 0.8757\n",
      "Epoch 84/100\n",
      "6/6 [==============================] - 0s 992us/step - loss: 0.8756\n",
      "Epoch 85/100\n",
      "6/6 [==============================] - 0s 909us/step - loss: 0.8743\n",
      "Epoch 86/100\n",
      "6/6 [==============================] - 0s 909us/step - loss: 0.8812\n",
      "Epoch 87/100\n",
      "6/6 [==============================] - 0s 909us/step - loss: 0.8805\n",
      "Epoch 88/100\n",
      "6/6 [==============================] - 0s 992us/step - loss: 0.9436\n",
      "Epoch 89/100\n",
      "6/6 [==============================] - 0s 909us/step - loss: 0.9985\n",
      "Epoch 90/100\n",
      "6/6 [==============================] - 0s 909us/step - loss: 0.8942\n",
      "Epoch 91/100\n",
      "6/6 [==============================] - 0s 909us/step - loss: 0.8834\n",
      "Epoch 92/100\n",
      "6/6 [==============================] - 0s 909us/step - loss: 0.9283\n",
      "Epoch 93/100\n",
      "6/6 [==============================] - 0s 909us/step - loss: 0.8666\n",
      "Epoch 94/100\n",
      "6/6 [==============================] - 0s 909us/step - loss: 0.8926\n",
      "Epoch 95/100\n",
      "6/6 [==============================] - 0s 992us/step - loss: 0.8796\n",
      "Epoch 96/100\n",
      "6/6 [==============================] - 0s 827us/step - loss: 0.9169\n",
      "Epoch 97/100\n",
      "6/6 [==============================] - 0s 992us/step - loss: 0.9088\n",
      "Epoch 98/100\n",
      "6/6 [==============================] - 0s 909us/step - loss: 0.8781\n",
      "Epoch 99/100\n",
      "6/6 [==============================] - 0s 992us/step - loss: 0.8745\n",
      "Epoch 100/100\n",
      "6/6 [==============================] - 0s 909us/step - loss: 0.8849\n"
     ]
    },
    {
     "data": {
      "image/png": "[encoded data removed]",
      "text/plain": [
       "<Figure size 432x288 with 1 Axes>"
      ]
     },
     "metadata": {
      "needs_background": "light"
     },
     "output_type": "display_data"
    }
   ],
   "source": [
    "i = tf.keras.layers.Input(shape=(1,))\n",
    "x = tf.keras.layers.Dense(1)(i)\n",
    "model = tf.keras.models.Model(i, x)\n",
    "\n",
    "model.compile(optimizer=tf.keras.optimizers.SGD(0.001, 0.9),\n",
    "              loss='mse')\n",
    "scheduler = tf.keras.callbacks.LearningRateScheduler(lambda x: 0.001 if x < 50 else 0.0001)\n",
    "\n",
    "r = model.fit(X, y,\n",
    "              epochs=100,\n",
    "              callbacks=[scheduler])\n",
    "\n",
    "plt.plot(r.history.get('loss'), label='Loss')\n",
    "plt.legend()\n",
    "plt.show()"
   ]
  },
  {
   "cell_type": "code",
   "execution_count": 5,
   "metadata": {
    "scrolled": true
   },
   "outputs": [
    {
     "name": "stdout",
     "output_type": "stream",
     "text": [
      "Time to double: 2.0863325557936645\n"
     ]
    },
    {
     "data": {
      "image/png": "[encoded data removed]",
      "text/plain": [
       "<Figure size 432x288 with 1 Axes>"
      ]
     },
     "metadata": {
      "needs_background": "light"
     },
     "output_type": "display_data"
    }
   ],
   "source": [
    "a = model.layers[1].get_weights()[0][0, 0]\n",
    "print(f'Time to double: {np.log(2) / a}')\n",
    "\n",
    "X_hat = np.linspace(X.min(), X.max(), 100)\n",
    "y_hat = model.predict(X_hat.reshape(-1, 1))\n",
    "plt.scatter(X.flatten(), y, label='Data')\n",
    "plt.plot(X_hat, y_hat, color='red', label='Linear Regression')\n",
    "plt.legend()\n",
    "plt.show()"
   ]
  }
 ],
 "metadata": {
  "kernelspec": {
   "display_name": "Python 3",
   "language": "python",
   "name": "python3"
  },
  "language_info": {
   "codemirror_mode": {
    "name": "ipython",
    "version": 3
   },
   "file_extension": ".py",
   "mimetype": "text/x-python",
   "name": "python",
   "nbconvert_exporter": "python",
   "pygments_lexer": "ipython3",
   "version": "3.8.5"
  }
 },
 "nbformat": 4,
 "nbformat_minor": 4
}
