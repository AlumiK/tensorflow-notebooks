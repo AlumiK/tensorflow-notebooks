{
  "nbformat": 4,
  "nbformat_minor": 0,
  "metadata": {
    "colab": {
      "name": "02_linear_classification.ipynb",
      "provenance": [],
      "collapsed_sections": [],
      "authorship_tag": "ABX9TyNcPzth/w9gsRYVWnVWlnOJ",
      "include_colab_link": true
    },
    "kernelspec": {
      "name": "python3",
      "display_name": "Python 3"
    }
  },
  "cells": [
    {
      "cell_type": "markdown",
      "metadata": {
        "id": "view-in-github",
        "colab_type": "text"
      },
      "source": [
        "<a href=\"https://colab.research.google.com/github/AlumiK/tensorflow-notebooks/blob/main/TensorFlow2/02_linear_classification.ipynb\" target=\"_parent\"><img src=\"https://colab.research.google.com/assets/colab-badge.svg\" alt=\"Open In Colab\"/></a>"
      ]
    },
    {
      "cell_type": "markdown",
      "metadata": {
        "id": "u18GaM_ZU30W"
      },
      "source": [
        "# Linear Classification"
      ]
    },
    {
      "cell_type": "code",
      "metadata": {
        "id": "qlr9GtQGWWtD"
      },
      "source": [
        "import tensorflow as tf\n",
        "import matplotlib.pyplot as plt\n",
        "\n",
        "from sklearn.datasets import load_breast_cancer\n",
        "from sklearn.preprocessing import StandardScaler\n",
        "from sklearn.model_selection import train_test_split"
      ],
      "execution_count": null,
      "outputs": []
    },
    {
      "cell_type": "code",
      "metadata": {
        "id": "Vl48miDEWDRW"
      },
      "source": [
        "data = load_breast_cancer()\n",
        "X_train, X_test, y_train, y_test = train_test_split(data.data, data.target, test_size=0.33)\n",
        "scaler = StandardScaler()\n",
        "X_train = scaler.fit_transform(X_train)\n",
        "X_test = scaler.transform(X_test)\n",
        "N, D = X_train.shape"
      ],
      "execution_count": null,
      "outputs": []
    },
    {
      "cell_type": "code",
      "metadata": {
        "id": "S1sYMww0XqcP",
        "outputId": "6cc3a56e-5852-4011-9fd5-a26e48a3f50b",
        "colab": {
          "base_uri": "https://localhost:8080/",
          "height": 1000
        }
      },
      "source": [
        "model = tf.keras.models.Sequential([\n",
        "    tf.keras.layers.Input(shape=(D,)),\n",
        "    tf.keras.layers.Dense(1, activation='sigmoid'),\n",
        "])\n",
        "\n",
        "model.compile(optimizer='adam', loss='binary_crossentropy', metrics=['accuracy'])\n",
        "\n",
        "r = model.fit(X_train, y_train, validation_data=(X_test, y_test), epochs=100)\n",
        "\n",
        "plt.plot(r.history.get('loss'), label='Loss')\n",
        "plt.plot(r.history.get('val_loss'), label='Validation Loss')\n",
        "plt.legend()\n",
        "plt.show()\n",
        "\n",
        "plt.plot(r.history.get('accuracy'), label='Accuracy')\n",
        "plt.plot(r.history.get('val_accuracy'), label='Validation Accuracy')\n",
        "plt.legend()\n",
        "plt.show()\n",
        "\n",
        "print(f'Accuracy: {model.evaluate(X_test, y_test)[1]}')"
      ],
      "execution_count": null,
      "outputs": [
        {
          "output_type": "stream",
          "text": [
            "Epoch 1/100\n",
            "12/12 [==============================] - 0s 11ms/step - loss: 1.4410 - accuracy: 0.1759 - val_loss: 1.2989 - val_accuracy: 0.2660\n",
            "Epoch 2/100\n",
            "12/12 [==============================] - 0s 3ms/step - loss: 1.3125 - accuracy: 0.1942 - val_loss: 1.1794 - val_accuracy: 0.2979\n",
            "Epoch 3/100\n",
            "12/12 [==============================] - 0s 3ms/step - loss: 1.1928 - accuracy: 0.2205 - val_loss: 1.0668 - val_accuracy: 0.3404\n",
            "Epoch 4/100\n",
            "12/12 [==============================] - 0s 3ms/step - loss: 1.0796 - accuracy: 0.2703 - val_loss: 0.9642 - val_accuracy: 0.3989\n",
            "Epoch 5/100\n",
            "12/12 [==============================] - 0s 3ms/step - loss: 0.9784 - accuracy: 0.3228 - val_loss: 0.8706 - val_accuracy: 0.4468\n",
            "Epoch 6/100\n",
            "12/12 [==============================] - 0s 3ms/step - loss: 0.8838 - accuracy: 0.3858 - val_loss: 0.7892 - val_accuracy: 0.5213\n",
            "Epoch 7/100\n",
            "12/12 [==============================] - 0s 3ms/step - loss: 0.8036 - accuracy: 0.4619 - val_loss: 0.7163 - val_accuracy: 0.5904\n",
            "Epoch 8/100\n",
            "12/12 [==============================] - 0s 3ms/step - loss: 0.7325 - accuracy: 0.5381 - val_loss: 0.6524 - val_accuracy: 0.6489\n",
            "Epoch 9/100\n",
            "12/12 [==============================] - 0s 3ms/step - loss: 0.6700 - accuracy: 0.6247 - val_loss: 0.5977 - val_accuracy: 0.6862\n",
            "Epoch 10/100\n",
            "12/12 [==============================] - 0s 3ms/step - loss: 0.6165 - accuracy: 0.6929 - val_loss: 0.5506 - val_accuracy: 0.7287\n",
            "Epoch 11/100\n",
            "12/12 [==============================] - 0s 3ms/step - loss: 0.5691 - accuracy: 0.7402 - val_loss: 0.5109 - val_accuracy: 0.7766\n",
            "Epoch 12/100\n",
            "12/12 [==============================] - 0s 3ms/step - loss: 0.5288 - accuracy: 0.7743 - val_loss: 0.4767 - val_accuracy: 0.8032\n",
            "Epoch 13/100\n",
            "12/12 [==============================] - 0s 2ms/step - loss: 0.4942 - accuracy: 0.8031 - val_loss: 0.4468 - val_accuracy: 0.8351\n",
            "Epoch 14/100\n",
            "12/12 [==============================] - 0s 3ms/step - loss: 0.4645 - accuracy: 0.8268 - val_loss: 0.4205 - val_accuracy: 0.8670\n",
            "Epoch 15/100\n",
            "12/12 [==============================] - 0s 3ms/step - loss: 0.4374 - accuracy: 0.8451 - val_loss: 0.3979 - val_accuracy: 0.8830\n",
            "Epoch 16/100\n",
            "12/12 [==============================] - 0s 3ms/step - loss: 0.4141 - accuracy: 0.8530 - val_loss: 0.3778 - val_accuracy: 0.9043\n",
            "Epoch 17/100\n",
            "12/12 [==============================] - 0s 3ms/step - loss: 0.3937 - accuracy: 0.8583 - val_loss: 0.3600 - val_accuracy: 0.9255\n",
            "Epoch 18/100\n",
            "12/12 [==============================] - 0s 3ms/step - loss: 0.3749 - accuracy: 0.8819 - val_loss: 0.3444 - val_accuracy: 0.9255\n",
            "Epoch 19/100\n",
            "12/12 [==============================] - 0s 3ms/step - loss: 0.3584 - accuracy: 0.8924 - val_loss: 0.3303 - val_accuracy: 0.9255\n",
            "Epoch 20/100\n",
            "12/12 [==============================] - 0s 3ms/step - loss: 0.3440 - accuracy: 0.9003 - val_loss: 0.3174 - val_accuracy: 0.9309\n",
            "Epoch 21/100\n",
            "12/12 [==============================] - 0s 3ms/step - loss: 0.3305 - accuracy: 0.9160 - val_loss: 0.3058 - val_accuracy: 0.9309\n",
            "Epoch 22/100\n",
            "12/12 [==============================] - 0s 3ms/step - loss: 0.3183 - accuracy: 0.9160 - val_loss: 0.2953 - val_accuracy: 0.9362\n",
            "Epoch 23/100\n",
            "12/12 [==============================] - 0s 3ms/step - loss: 0.3072 - accuracy: 0.9239 - val_loss: 0.2857 - val_accuracy: 0.9362\n",
            "Epoch 24/100\n",
            "12/12 [==============================] - 0s 3ms/step - loss: 0.2971 - accuracy: 0.9318 - val_loss: 0.2768 - val_accuracy: 0.9362\n",
            "Epoch 25/100\n",
            "12/12 [==============================] - 0s 3ms/step - loss: 0.2878 - accuracy: 0.9396 - val_loss: 0.2687 - val_accuracy: 0.9468\n",
            "Epoch 26/100\n",
            "12/12 [==============================] - 0s 3ms/step - loss: 0.2792 - accuracy: 0.9423 - val_loss: 0.2612 - val_accuracy: 0.9521\n",
            "Epoch 27/100\n",
            "12/12 [==============================] - 0s 3ms/step - loss: 0.2713 - accuracy: 0.9449 - val_loss: 0.2542 - val_accuracy: 0.9521\n",
            "Epoch 28/100\n",
            "12/12 [==============================] - 0s 3ms/step - loss: 0.2639 - accuracy: 0.9449 - val_loss: 0.2476 - val_accuracy: 0.9521\n",
            "Epoch 29/100\n",
            "12/12 [==============================] - 0s 3ms/step - loss: 0.2570 - accuracy: 0.9423 - val_loss: 0.2416 - val_accuracy: 0.9521\n",
            "Epoch 30/100\n",
            "12/12 [==============================] - 0s 3ms/step - loss: 0.2505 - accuracy: 0.9475 - val_loss: 0.2358 - val_accuracy: 0.9521\n",
            "Epoch 31/100\n",
            "12/12 [==============================] - 0s 3ms/step - loss: 0.2446 - accuracy: 0.9475 - val_loss: 0.2306 - val_accuracy: 0.9521\n",
            "Epoch 32/100\n",
            "12/12 [==============================] - 0s 3ms/step - loss: 0.2389 - accuracy: 0.9449 - val_loss: 0.2256 - val_accuracy: 0.9574\n",
            "Epoch 33/100\n",
            "12/12 [==============================] - 0s 3ms/step - loss: 0.2337 - accuracy: 0.9449 - val_loss: 0.2209 - val_accuracy: 0.9574\n",
            "Epoch 34/100\n",
            "12/12 [==============================] - 0s 3ms/step - loss: 0.2286 - accuracy: 0.9449 - val_loss: 0.2165 - val_accuracy: 0.9574\n",
            "Epoch 35/100\n",
            "12/12 [==============================] - 0s 3ms/step - loss: 0.2240 - accuracy: 0.9475 - val_loss: 0.2122 - val_accuracy: 0.9574\n",
            "Epoch 36/100\n",
            "12/12 [==============================] - 0s 3ms/step - loss: 0.2195 - accuracy: 0.9501 - val_loss: 0.2082 - val_accuracy: 0.9574\n",
            "Epoch 37/100\n",
            "12/12 [==============================] - 0s 3ms/step - loss: 0.2153 - accuracy: 0.9501 - val_loss: 0.2045 - val_accuracy: 0.9628\n",
            "Epoch 38/100\n",
            "12/12 [==============================] - 0s 3ms/step - loss: 0.2112 - accuracy: 0.9501 - val_loss: 0.2009 - val_accuracy: 0.9628\n",
            "Epoch 39/100\n",
            "12/12 [==============================] - 0s 2ms/step - loss: 0.2075 - accuracy: 0.9501 - val_loss: 0.1974 - val_accuracy: 0.9628\n",
            "Epoch 40/100\n",
            "12/12 [==============================] - 0s 3ms/step - loss: 0.2039 - accuracy: 0.9528 - val_loss: 0.1943 - val_accuracy: 0.9628\n",
            "Epoch 41/100\n",
            "12/12 [==============================] - 0s 3ms/step - loss: 0.2004 - accuracy: 0.9528 - val_loss: 0.1911 - val_accuracy: 0.9628\n",
            "Epoch 42/100\n",
            "12/12 [==============================] - 0s 3ms/step - loss: 0.1972 - accuracy: 0.9554 - val_loss: 0.1881 - val_accuracy: 0.9628\n",
            "Epoch 43/100\n",
            "12/12 [==============================] - 0s 3ms/step - loss: 0.1941 - accuracy: 0.9554 - val_loss: 0.1853 - val_accuracy: 0.9628\n",
            "Epoch 44/100\n",
            "12/12 [==============================] - 0s 3ms/step - loss: 0.1910 - accuracy: 0.9554 - val_loss: 0.1826 - val_accuracy: 0.9628\n",
            "Epoch 45/100\n",
            "12/12 [==============================] - 0s 3ms/step - loss: 0.1882 - accuracy: 0.9580 - val_loss: 0.1800 - val_accuracy: 0.9628\n",
            "Epoch 46/100\n",
            "12/12 [==============================] - 0s 3ms/step - loss: 0.1854 - accuracy: 0.9580 - val_loss: 0.1774 - val_accuracy: 0.9628\n",
            "Epoch 47/100\n",
            "12/12 [==============================] - 0s 3ms/step - loss: 0.1828 - accuracy: 0.9606 - val_loss: 0.1750 - val_accuracy: 0.9628\n",
            "Epoch 48/100\n",
            "12/12 [==============================] - 0s 3ms/step - loss: 0.1803 - accuracy: 0.9606 - val_loss: 0.1727 - val_accuracy: 0.9628\n",
            "Epoch 49/100\n",
            "12/12 [==============================] - 0s 3ms/step - loss: 0.1778 - accuracy: 0.9606 - val_loss: 0.1705 - val_accuracy: 0.9628\n",
            "Epoch 50/100\n",
            "12/12 [==============================] - 0s 3ms/step - loss: 0.1755 - accuracy: 0.9606 - val_loss: 0.1683 - val_accuracy: 0.9628\n",
            "Epoch 51/100\n",
            "12/12 [==============================] - 0s 3ms/step - loss: 0.1733 - accuracy: 0.9633 - val_loss: 0.1663 - val_accuracy: 0.9628\n",
            "Epoch 52/100\n",
            "12/12 [==============================] - 0s 3ms/step - loss: 0.1711 - accuracy: 0.9633 - val_loss: 0.1643 - val_accuracy: 0.9628\n",
            "Epoch 53/100\n",
            "12/12 [==============================] - 0s 3ms/step - loss: 0.1691 - accuracy: 0.9633 - val_loss: 0.1623 - val_accuracy: 0.9628\n",
            "Epoch 54/100\n",
            "12/12 [==============================] - 0s 3ms/step - loss: 0.1670 - accuracy: 0.9633 - val_loss: 0.1604 - val_accuracy: 0.9628\n",
            "Epoch 55/100\n",
            "12/12 [==============================] - 0s 3ms/step - loss: 0.1651 - accuracy: 0.9659 - val_loss: 0.1586 - val_accuracy: 0.9628\n",
            "Epoch 56/100\n",
            "12/12 [==============================] - 0s 3ms/step - loss: 0.1632 - accuracy: 0.9659 - val_loss: 0.1568 - val_accuracy: 0.9628\n",
            "Epoch 57/100\n",
            "12/12 [==============================] - 0s 3ms/step - loss: 0.1614 - accuracy: 0.9659 - val_loss: 0.1552 - val_accuracy: 0.9628\n",
            "Epoch 58/100\n",
            "12/12 [==============================] - 0s 3ms/step - loss: 0.1597 - accuracy: 0.9659 - val_loss: 0.1536 - val_accuracy: 0.9628\n",
            "Epoch 59/100\n",
            "12/12 [==============================] - 0s 3ms/step - loss: 0.1580 - accuracy: 0.9659 - val_loss: 0.1520 - val_accuracy: 0.9628\n",
            "Epoch 60/100\n",
            "12/12 [==============================] - 0s 3ms/step - loss: 0.1563 - accuracy: 0.9659 - val_loss: 0.1504 - val_accuracy: 0.9628\n",
            "Epoch 61/100\n",
            "12/12 [==============================] - 0s 4ms/step - loss: 0.1548 - accuracy: 0.9659 - val_loss: 0.1489 - val_accuracy: 0.9628\n",
            "Epoch 62/100\n",
            "12/12 [==============================] - 0s 3ms/step - loss: 0.1533 - accuracy: 0.9659 - val_loss: 0.1474 - val_accuracy: 0.9628\n",
            "Epoch 63/100\n",
            "12/12 [==============================] - 0s 3ms/step - loss: 0.1517 - accuracy: 0.9659 - val_loss: 0.1460 - val_accuracy: 0.9628\n",
            "Epoch 64/100\n",
            "12/12 [==============================] - 0s 3ms/step - loss: 0.1503 - accuracy: 0.9659 - val_loss: 0.1446 - val_accuracy: 0.9628\n",
            "Epoch 65/100\n",
            "12/12 [==============================] - 0s 3ms/step - loss: 0.1489 - accuracy: 0.9659 - val_loss: 0.1433 - val_accuracy: 0.9628\n",
            "Epoch 66/100\n",
            "12/12 [==============================] - 0s 3ms/step - loss: 0.1476 - accuracy: 0.9685 - val_loss: 0.1419 - val_accuracy: 0.9628\n",
            "Epoch 67/100\n",
            "12/12 [==============================] - 0s 3ms/step - loss: 0.1462 - accuracy: 0.9685 - val_loss: 0.1407 - val_accuracy: 0.9681\n",
            "Epoch 68/100\n",
            "12/12 [==============================] - 0s 3ms/step - loss: 0.1449 - accuracy: 0.9685 - val_loss: 0.1394 - val_accuracy: 0.9681\n",
            "Epoch 69/100\n",
            "12/12 [==============================] - 0s 3ms/step - loss: 0.1437 - accuracy: 0.9685 - val_loss: 0.1382 - val_accuracy: 0.9681\n",
            "Epoch 70/100\n",
            "12/12 [==============================] - 0s 3ms/step - loss: 0.1425 - accuracy: 0.9685 - val_loss: 0.1371 - val_accuracy: 0.9681\n",
            "Epoch 71/100\n",
            "12/12 [==============================] - 0s 3ms/step - loss: 0.1413 - accuracy: 0.9685 - val_loss: 0.1359 - val_accuracy: 0.9681\n",
            "Epoch 72/100\n",
            "12/12 [==============================] - 0s 3ms/step - loss: 0.1402 - accuracy: 0.9685 - val_loss: 0.1348 - val_accuracy: 0.9681\n",
            "Epoch 73/100\n",
            "12/12 [==============================] - 0s 3ms/step - loss: 0.1390 - accuracy: 0.9685 - val_loss: 0.1337 - val_accuracy: 0.9681\n",
            "Epoch 74/100\n",
            "12/12 [==============================] - 0s 3ms/step - loss: 0.1379 - accuracy: 0.9685 - val_loss: 0.1325 - val_accuracy: 0.9681\n",
            "Epoch 75/100\n",
            "12/12 [==============================] - 0s 3ms/step - loss: 0.1369 - accuracy: 0.9711 - val_loss: 0.1315 - val_accuracy: 0.9681\n",
            "Epoch 76/100\n",
            "12/12 [==============================] - 0s 3ms/step - loss: 0.1358 - accuracy: 0.9711 - val_loss: 0.1305 - val_accuracy: 0.9681\n",
            "Epoch 77/100\n",
            "12/12 [==============================] - 0s 3ms/step - loss: 0.1348 - accuracy: 0.9711 - val_loss: 0.1295 - val_accuracy: 0.9681\n",
            "Epoch 78/100\n",
            "12/12 [==============================] - 0s 3ms/step - loss: 0.1338 - accuracy: 0.9711 - val_loss: 0.1285 - val_accuracy: 0.9681\n",
            "Epoch 79/100\n",
            "12/12 [==============================] - 0s 3ms/step - loss: 0.1328 - accuracy: 0.9711 - val_loss: 0.1275 - val_accuracy: 0.9681\n",
            "Epoch 80/100\n",
            "12/12 [==============================] - 0s 3ms/step - loss: 0.1319 - accuracy: 0.9711 - val_loss: 0.1266 - val_accuracy: 0.9681\n",
            "Epoch 81/100\n",
            "12/12 [==============================] - 0s 3ms/step - loss: 0.1310 - accuracy: 0.9711 - val_loss: 0.1257 - val_accuracy: 0.9681\n",
            "Epoch 82/100\n",
            "12/12 [==============================] - 0s 3ms/step - loss: 0.1301 - accuracy: 0.9711 - val_loss: 0.1248 - val_accuracy: 0.9681\n",
            "Epoch 83/100\n",
            "12/12 [==============================] - 0s 3ms/step - loss: 0.1292 - accuracy: 0.9711 - val_loss: 0.1239 - val_accuracy: 0.9681\n",
            "Epoch 84/100\n",
            "12/12 [==============================] - 0s 3ms/step - loss: 0.1283 - accuracy: 0.9711 - val_loss: 0.1230 - val_accuracy: 0.9681\n",
            "Epoch 85/100\n",
            "12/12 [==============================] - 0s 3ms/step - loss: 0.1275 - accuracy: 0.9711 - val_loss: 0.1221 - val_accuracy: 0.9681\n",
            "Epoch 86/100\n",
            "12/12 [==============================] - 0s 3ms/step - loss: 0.1267 - accuracy: 0.9711 - val_loss: 0.1213 - val_accuracy: 0.9681\n",
            "Epoch 87/100\n",
            "12/12 [==============================] - 0s 3ms/step - loss: 0.1258 - accuracy: 0.9711 - val_loss: 0.1205 - val_accuracy: 0.9734\n",
            "Epoch 88/100\n",
            "12/12 [==============================] - 0s 3ms/step - loss: 0.1251 - accuracy: 0.9711 - val_loss: 0.1197 - val_accuracy: 0.9734\n",
            "Epoch 89/100\n",
            "12/12 [==============================] - 0s 3ms/step - loss: 0.1243 - accuracy: 0.9711 - val_loss: 0.1189 - val_accuracy: 0.9734\n",
            "Epoch 90/100\n",
            "12/12 [==============================] - 0s 3ms/step - loss: 0.1236 - accuracy: 0.9738 - val_loss: 0.1181 - val_accuracy: 0.9734\n",
            "Epoch 91/100\n",
            "12/12 [==============================] - 0s 3ms/step - loss: 0.1228 - accuracy: 0.9738 - val_loss: 0.1174 - val_accuracy: 0.9734\n",
            "Epoch 92/100\n",
            "12/12 [==============================] - 0s 3ms/step - loss: 0.1221 - accuracy: 0.9738 - val_loss: 0.1166 - val_accuracy: 0.9787\n",
            "Epoch 93/100\n",
            "12/12 [==============================] - 0s 3ms/step - loss: 0.1213 - accuracy: 0.9738 - val_loss: 0.1159 - val_accuracy: 0.9787\n",
            "Epoch 94/100\n",
            "12/12 [==============================] - 0s 3ms/step - loss: 0.1207 - accuracy: 0.9738 - val_loss: 0.1152 - val_accuracy: 0.9787\n",
            "Epoch 95/100\n",
            "12/12 [==============================] - 0s 3ms/step - loss: 0.1200 - accuracy: 0.9738 - val_loss: 0.1145 - val_accuracy: 0.9787\n",
            "Epoch 96/100\n",
            "12/12 [==============================] - 0s 3ms/step - loss: 0.1193 - accuracy: 0.9738 - val_loss: 0.1139 - val_accuracy: 0.9787\n",
            "Epoch 97/100\n",
            "12/12 [==============================] - 0s 3ms/step - loss: 0.1187 - accuracy: 0.9738 - val_loss: 0.1131 - val_accuracy: 0.9840\n",
            "Epoch 98/100\n",
            "12/12 [==============================] - 0s 5ms/step - loss: 0.1180 - accuracy: 0.9738 - val_loss: 0.1124 - val_accuracy: 0.9840\n",
            "Epoch 99/100\n",
            "12/12 [==============================] - 0s 3ms/step - loss: 0.1174 - accuracy: 0.9738 - val_loss: 0.1118 - val_accuracy: 0.9840\n",
            "Epoch 100/100\n",
            "12/12 [==============================] - 0s 3ms/step - loss: 0.1168 - accuracy: 0.9738 - val_loss: 0.1112 - val_accuracy: 0.9840\n"
          ],
          "name": "stdout"
        },
        {
          "output_type": "display_data",
          "data": {
            "image/png": "[encoded data removed]",
            "text/plain": [
              "<Figure size 432x288 with 1 Axes>"
            ]
          },
          "metadata": {
            "tags": [],
            "needs_background": "light"
          }
        },
        {
          "output_type": "display_data",
          "data": {
            "image/png": "[encoded data removed]",
            "text/plain": [
              "<Figure size 432x288 with 1 Axes>"
            ]
          },
          "metadata": {
            "tags": [],
            "needs_background": "light"
          }
        },
        {
          "output_type": "stream",
          "text": [
            "6/6 [==============================] - 0s 1ms/step - loss: 0.1112 - accuracy: 0.9840\n",
            "Accuracy: 0.9840425252914429\n"
          ],
          "name": "stdout"
        }
      ]
    },
    {
      "cell_type": "markdown",
      "metadata": {
        "id": "qLA_Gq28Ymuh"
      },
      "source": [
        "## Save & load the model"
      ]
    },
    {
      "cell_type": "code",
      "metadata": {
        "id": "2uaILs3EYrE8",
        "outputId": "26d7bc0e-c583-45ce-e963-f8629b176065",
        "colab": {
          "base_uri": "https://localhost:8080/"
        }
      },
      "source": [
        "model.save('linear_classification.h5')\n",
        "model_loaded = tf.keras.models.load_model('linear_classification.h5')\n",
        "print(f'Accuracy of the loaded model: {model_loaded.evaluate(X_test, y_test)[1]}')"
      ],
      "execution_count": null,
      "outputs": [
        {
          "output_type": "stream",
          "text": [
            "6/6 [==============================] - 0s 2ms/step - loss: 0.1112 - accuracy: 0.9840\n",
            "Accuracy of the loaded model: 0.9840425252914429\n"
          ],
          "name": "stdout"
        }
      ]
    }
  ]
}