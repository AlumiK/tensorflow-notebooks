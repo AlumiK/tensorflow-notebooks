{
  "nbformat": 4,
  "nbformat_minor": 0,
  "metadata": {
    "colab": {
      "name": "02_linear_regression.ipynb",
      "provenance": [],
      "collapsed_sections": [],
      "authorship_tag": "ABX9TyNIaz+masYaTdCHV4c5jiqy",
      "include_colab_link": true
    },
    "kernelspec": {
      "name": "python3",
      "display_name": "Python 3"
    }
  },
  "cells": [
    {
      "cell_type": "markdown",
      "metadata": {
        "id": "view-in-github",
        "colab_type": "text"
      },
      "source": [
        "<a href=\"https://colab.research.google.com/github/AlumiK/tensorflow2-notebooks/blob/main/01%20Machine%20Learning%20and%20Neurons/02_linear_regression.ipynb\" target=\"_parent\"><img src=\"https://colab.research.google.com/assets/colab-badge.svg\" alt=\"Open In Colab\"/></a>"
      ]
    },
    {
      "cell_type": "markdown",
      "metadata": {
        "id": "Sl9vFFbgWVbG"
      },
      "source": [
        "# Linear Regression"
      ]
    },
    {
      "cell_type": "code",
      "metadata": {
        "id": "9lYGFnVTZnTU"
      },
      "source": [
        "import numpy as np\n",
        "import pandas as pd\n",
        "import tensorflow as tf\n",
        "import matplotlib.pyplot as plt"
      ],
      "execution_count": null,
      "outputs": []
    },
    {
      "cell_type": "code",
      "metadata": {
        "id": "9hD6HNbxZdok"
      },
      "source": [
        "data = pd.read_csv('https://raw.githubusercontent.com/lazyprogrammer/machine_learning_examples/master/tf2.0/moore.csv').values\n",
        "X = data[:, 0].reshape(-1, 1)\n",
        "y = data[:, 1]\n",
        "\n",
        "X = X - X.mean()\n",
        "y = np.log(y)"
      ],
      "execution_count": null,
      "outputs": []
    },
    {
      "cell_type": "code",
      "metadata": {
        "id": "B2pMWdPaDXbU",
        "outputId": "364f8fb2-ec37-4541-a9eb-1fc2f9089288",
        "colab": {
          "base_uri": "https://localhost:8080/",
          "height": 1000
        }
      },
      "source": [
        "model = tf.keras.models.Sequential([\n",
        "    tf.keras.layers.Input(shape=(1,)),\n",
        "    tf.keras.layers.Dense(1),\n",
        "])\n",
        "\n",
        "model.compile(optimizer=tf.keras.optimizers.SGD(0.001, 0.9), loss='mse')\n",
        "scheduler = tf.keras.callbacks.LearningRateScheduler(lambda x: 0.001 if x < 50 else 0.0001)\n",
        "\n",
        "r = model.fit(X, y, epochs=100, callbacks=[scheduler])\n",
        "\n",
        "plt.plot(r.history.get('loss'), label='Loss')\n",
        "plt.legend()\n",
        "plt.show()"
      ],
      "execution_count": null,
      "outputs": [
        {
          "output_type": "stream",
          "text": [
            "Epoch 1/100\n",
            "6/6 [==============================] - 0s 1ms/step - loss: 532.7015\n",
            "Epoch 2/100\n",
            "6/6 [==============================] - 0s 1ms/step - loss: 405.5879\n",
            "Epoch 3/100\n",
            "6/6 [==============================] - 0s 1ms/step - loss: 331.3121\n",
            "Epoch 4/100\n",
            "6/6 [==============================] - 0s 849us/step - loss: 668.5106\n",
            "Epoch 5/100\n",
            "6/6 [==============================] - 0s 1ms/step - loss: 605.1957\n",
            "Epoch 6/100\n",
            "6/6 [==============================] - 0s 1ms/step - loss: 413.5950\n",
            "Epoch 7/100\n",
            "6/6 [==============================] - 0s 1ms/step - loss: 244.9704\n",
            "Epoch 8/100\n",
            "6/6 [==============================] - 0s 1ms/step - loss: 149.6864\n",
            "Epoch 9/100\n",
            "6/6 [==============================] - 0s 1ms/step - loss: 74.1460\n",
            "Epoch 10/100\n",
            "6/6 [==============================] - 0s 1ms/step - loss: 41.6996\n",
            "Epoch 11/100\n",
            "6/6 [==============================] - 0s 1ms/step - loss: 63.0560\n",
            "Epoch 12/100\n",
            "6/6 [==============================] - 0s 1ms/step - loss: 59.3174\n",
            "Epoch 13/100\n",
            "6/6 [==============================] - 0s 1ms/step - loss: 41.7562\n",
            "Epoch 14/100\n",
            "6/6 [==============================] - 0s 1ms/step - loss: 47.4879\n",
            "Epoch 15/100\n",
            "6/6 [==============================] - 0s 1ms/step - loss: 42.0859\n",
            "Epoch 16/100\n",
            "6/6 [==============================] - 0s 1ms/step - loss: 18.5839\n",
            "Epoch 17/100\n",
            "6/6 [==============================] - 0s 1ms/step - loss: 13.5590\n",
            "Epoch 18/100\n",
            "6/6 [==============================] - 0s 1ms/step - loss: 11.6934\n",
            "Epoch 19/100\n",
            "6/6 [==============================] - 0s 1ms/step - loss: 7.2062\n",
            "Epoch 20/100\n",
            "6/6 [==============================] - 0s 1ms/step - loss: 6.9628\n",
            "Epoch 21/100\n",
            "6/6 [==============================] - 0s 2ms/step - loss: 3.4951\n",
            "Epoch 22/100\n",
            "6/6 [==============================] - 0s 1ms/step - loss: 3.3839\n",
            "Epoch 23/100\n",
            "6/6 [==============================] - 0s 1ms/step - loss: 2.5131\n",
            "Epoch 24/100\n",
            "6/6 [==============================] - 0s 1ms/step - loss: 2.8467\n",
            "Epoch 25/100\n",
            "6/6 [==============================] - 0s 1ms/step - loss: 2.0928\n",
            "Epoch 26/100\n",
            "6/6 [==============================] - 0s 1ms/step - loss: 2.1609\n",
            "Epoch 27/100\n",
            "6/6 [==============================] - 0s 2ms/step - loss: 1.4542\n",
            "Epoch 28/100\n",
            "6/6 [==============================] - 0s 1ms/step - loss: 1.2387\n",
            "Epoch 29/100\n",
            "6/6 [==============================] - 0s 1ms/step - loss: 1.1166\n",
            "Epoch 30/100\n",
            "6/6 [==============================] - 0s 1ms/step - loss: 1.0262\n",
            "Epoch 31/100\n",
            "6/6 [==============================] - 0s 1ms/step - loss: 1.0284\n",
            "Epoch 32/100\n",
            "6/6 [==============================] - 0s 1ms/step - loss: 0.9581\n",
            "Epoch 33/100\n",
            "6/6 [==============================] - 0s 1ms/step - loss: 1.0790\n",
            "Epoch 34/100\n",
            "6/6 [==============================] - 0s 2ms/step - loss: 1.7881\n",
            "Epoch 35/100\n",
            "6/6 [==============================] - 0s 2ms/step - loss: 0.9804\n",
            "Epoch 36/100\n",
            "6/6 [==============================] - 0s 1ms/step - loss: 0.8867\n",
            "Epoch 37/100\n",
            "6/6 [==============================] - 0s 1ms/step - loss: 0.9884\n",
            "Epoch 38/100\n",
            "6/6 [==============================] - 0s 1ms/step - loss: 0.9243\n",
            "Epoch 39/100\n",
            "6/6 [==============================] - 0s 1ms/step - loss: 0.8835\n",
            "Epoch 40/100\n",
            "6/6 [==============================] - 0s 1ms/step - loss: 1.0681\n",
            "Epoch 41/100\n",
            "6/6 [==============================] - 0s 1ms/step - loss: 1.1084\n",
            "Epoch 42/100\n",
            "6/6 [==============================] - 0s 1ms/step - loss: 1.0165\n",
            "Epoch 43/100\n",
            "6/6 [==============================] - 0s 1ms/step - loss: 0.9130\n",
            "Epoch 44/100\n",
            "6/6 [==============================] - 0s 1ms/step - loss: 0.8960\n",
            "Epoch 45/100\n",
            "6/6 [==============================] - 0s 1ms/step - loss: 0.9896\n",
            "Epoch 46/100\n",
            "6/6 [==============================] - 0s 2ms/step - loss: 0.9434\n",
            "Epoch 47/100\n",
            "6/6 [==============================] - 0s 1ms/step - loss: 1.0321\n",
            "Epoch 48/100\n",
            "6/6 [==============================] - 0s 1ms/step - loss: 0.9884\n",
            "Epoch 49/100\n",
            "6/6 [==============================] - 0s 1ms/step - loss: 0.9830\n",
            "Epoch 50/100\n",
            "6/6 [==============================] - 0s 1ms/step - loss: 0.9288\n",
            "Epoch 51/100\n",
            "6/6 [==============================] - 0s 1ms/step - loss: 6.8838\n",
            "Epoch 52/100\n",
            "6/6 [==============================] - 0s 2ms/step - loss: 11.9893\n",
            "Epoch 53/100\n",
            "6/6 [==============================] - 0s 1ms/step - loss: 2.2169\n",
            "Epoch 54/100\n",
            "6/6 [==============================] - 0s 1ms/step - loss: 1.8252\n",
            "Epoch 55/100\n",
            "6/6 [==============================] - 0s 1ms/step - loss: 1.7468\n",
            "Epoch 56/100\n",
            "6/6 [==============================] - 0s 1ms/step - loss: 0.9153\n",
            "Epoch 57/100\n",
            "6/6 [==============================] - 0s 1ms/step - loss: 0.9994\n",
            "Epoch 58/100\n",
            "6/6 [==============================] - 0s 1ms/step - loss: 0.9136\n",
            "Epoch 59/100\n",
            "6/6 [==============================] - 0s 2ms/step - loss: 0.8781\n",
            "Epoch 60/100\n",
            "6/6 [==============================] - 0s 1ms/step - loss: 0.8769\n",
            "Epoch 61/100\n",
            "6/6 [==============================] - 0s 2ms/step - loss: 0.8781\n",
            "Epoch 62/100\n",
            "6/6 [==============================] - 0s 1ms/step - loss: 0.8813\n",
            "Epoch 63/100\n",
            "6/6 [==============================] - 0s 2ms/step - loss: 0.8698\n",
            "Epoch 64/100\n",
            "6/6 [==============================] - 0s 1ms/step - loss: 0.8940\n",
            "Epoch 65/100\n",
            "6/6 [==============================] - 0s 2ms/step - loss: 0.9120\n",
            "Epoch 66/100\n",
            "6/6 [==============================] - 0s 1ms/step - loss: 0.8906\n",
            "Epoch 67/100\n",
            "6/6 [==============================] - 0s 2ms/step - loss: 0.8748\n",
            "Epoch 68/100\n",
            "6/6 [==============================] - 0s 2ms/step - loss: 0.8750\n",
            "Epoch 69/100\n",
            "6/6 [==============================] - 0s 1ms/step - loss: 0.8834\n",
            "Epoch 70/100\n",
            "6/6 [==============================] - 0s 957us/step - loss: 0.8804\n",
            "Epoch 71/100\n",
            "6/6 [==============================] - 0s 2ms/step - loss: 0.8775\n",
            "Epoch 72/100\n",
            "6/6 [==============================] - 0s 2ms/step - loss: 0.9001\n",
            "Epoch 73/100\n",
            "6/6 [==============================] - 0s 1ms/step - loss: 0.9782\n",
            "Epoch 74/100\n",
            "6/6 [==============================] - 0s 1ms/step - loss: 0.8910\n",
            "Epoch 75/100\n",
            "6/6 [==============================] - 0s 2ms/step - loss: 0.8805\n",
            "Epoch 76/100\n",
            "6/6 [==============================] - 0s 1ms/step - loss: 0.8874\n",
            "Epoch 77/100\n",
            "6/6 [==============================] - 0s 1ms/step - loss: 0.8807\n",
            "Epoch 78/100\n",
            "6/6 [==============================] - 0s 1ms/step - loss: 0.8776\n",
            "Epoch 79/100\n",
            "6/6 [==============================] - 0s 2ms/step - loss: 0.8830\n",
            "Epoch 80/100\n",
            "6/6 [==============================] - 0s 2ms/step - loss: 0.8772\n",
            "Epoch 81/100\n",
            "6/6 [==============================] - 0s 1ms/step - loss: 0.9392\n",
            "Epoch 82/100\n",
            "6/6 [==============================] - 0s 1ms/step - loss: 0.9512\n",
            "Epoch 83/100\n",
            "6/6 [==============================] - 0s 1ms/step - loss: 0.8769\n",
            "Epoch 84/100\n",
            "6/6 [==============================] - 0s 1ms/step - loss: 0.8965\n",
            "Epoch 85/100\n",
            "6/6 [==============================] - 0s 1ms/step - loss: 0.8862\n",
            "Epoch 86/100\n",
            "6/6 [==============================] - 0s 1ms/step - loss: 0.8713\n",
            "Epoch 87/100\n",
            "6/6 [==============================] - 0s 1ms/step - loss: 0.9298\n",
            "Epoch 88/100\n",
            "6/6 [==============================] - 0s 2ms/step - loss: 0.9549\n",
            "Epoch 89/100\n",
            "6/6 [==============================] - 0s 1ms/step - loss: 0.9340\n",
            "Epoch 90/100\n",
            "6/6 [==============================] - 0s 2ms/step - loss: 1.1004\n",
            "Epoch 91/100\n",
            "6/6 [==============================] - 0s 1ms/step - loss: 0.9210\n",
            "Epoch 92/100\n",
            "6/6 [==============================] - 0s 1ms/step - loss: 1.0676\n",
            "Epoch 93/100\n",
            "6/6 [==============================] - 0s 1ms/step - loss: 1.2089\n",
            "Epoch 94/100\n",
            "6/6 [==============================] - 0s 1ms/step - loss: 0.9002\n",
            "Epoch 95/100\n",
            "6/6 [==============================] - 0s 1ms/step - loss: 0.9276\n",
            "Epoch 96/100\n",
            "6/6 [==============================] - 0s 1ms/step - loss: 0.8801\n",
            "Epoch 97/100\n",
            "6/6 [==============================] - 0s 1ms/step - loss: 0.9139\n",
            "Epoch 98/100\n",
            "6/6 [==============================] - 0s 953us/step - loss: 0.8926\n",
            "Epoch 99/100\n",
            "6/6 [==============================] - 0s 2ms/step - loss: 0.8999\n",
            "Epoch 100/100\n",
            "6/6 [==============================] - 0s 1ms/step - loss: 0.8753\n"
          ],
          "name": "stdout"
        },
        {
          "output_type": "display_data",
          "data": {
            "image/png": "[encoded data removed]",
            "text/plain": [
              "<Figure size 432x288 with 1 Axes>"
            ]
          },
          "metadata": {
            "tags": [],
            "needs_background": "light"
          }
        }
      ]
    },
    {
      "cell_type": "code",
      "metadata": {
        "id": "Yo-Yj6T-ESPb",
        "outputId": "8e2f1557-ce6c-492f-e32e-dcbf1cc88948",
        "colab": {
          "base_uri": "https://localhost:8080/",
          "height": 283
        }
      },
      "source": [
        "a = model.layers[0].get_weights()[0][0, 0]\n",
        "print(f'Time to double: {np.log(2) / a}')\n",
        "\n",
        "X_hat = np.linspace(X.min(), X.max(), 100)\n",
        "y_hat = model.predict(X_hat.reshape(-1, 1))\n",
        "plt.scatter(X.flatten(), y, label='Data')\n",
        "plt.plot(X_hat, y_hat, color='red', label='Linear Regression')\n",
        "plt.legend()\n",
        "plt.show()"
      ],
      "execution_count": null,
      "outputs": [
        {
          "output_type": "stream",
          "text": [
            "Time to double: 1.9354719468419108\n"
          ],
          "name": "stdout"
        },
        {
          "output_type": "display_data",
          "data": {
            "image/png": "[encoded data removed]",
            "text/plain": [
              "<Figure size 432x288 with 1 Axes>"
            ]
          },
          "metadata": {
            "tags": [],
            "needs_background": "light"
          }
        }
      ]
    }
  ]
}