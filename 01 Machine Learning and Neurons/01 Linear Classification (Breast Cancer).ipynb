{
 "cells": [
  {
   "cell_type": "markdown",
   "metadata": {},
   "source": [
    "# Linear Classification (Breast Cancer)"
   ]
  },
  {
   "cell_type": "code",
   "execution_count": 1,
   "metadata": {},
   "outputs": [],
   "source": [
    "import tensorflow as tf\n",
    "import matplotlib.pyplot as plt\n",
    "\n",
    "from sklearn.datasets import load_breast_cancer\n",
    "from sklearn.preprocessing import StandardScaler\n",
    "from sklearn.model_selection import train_test_split"
   ]
  },
  {
   "cell_type": "code",
   "execution_count": 2,
   "metadata": {},
   "outputs": [
    {
     "name": "stdout",
     "output_type": "stream",
     "text": [
      "GPU 0: GeForce RTX 2080 Ti (UUID: GPU-3cb47403-efa9-71ae-1700-c27de6cb0d0a)\n",
      "Tensorflow version: 2.3.1\n"
     ]
    }
   ],
   "source": [
    "!nvidia-smi -L\n",
    "print(f'Tensorflow version: {tf.__version__}')"
   ]
  },
  {
   "cell_type": "code",
   "execution_count": 3,
   "metadata": {},
   "outputs": [],
   "source": [
    "data = load_breast_cancer()\n",
    "X_train, X_test, y_train, y_test = train_test_split(data.data, data.target, test_size=0.33)\n",
    "\n",
    "scaler = StandardScaler()\n",
    "X_train = scaler.fit_transform(X_train)\n",
    "X_test = scaler.transform(X_test)\n",
    "\n",
    "N, D = X_train.shape"
   ]
  },
  {
   "cell_type": "code",
   "execution_count": 4,
   "metadata": {},
   "outputs": [
    {
     "name": "stdout",
     "output_type": "stream",
     "text": [
      "Epoch 1/100\n",
      "12/12 [==============================] - 0s 10ms/step - loss: 0.8924 - accuracy: 0.4514 - val_loss: 0.8229 - val_accuracy: 0.4681\n",
      "Epoch 2/100\n",
      "12/12 [==============================] - 0s 2ms/step - loss: 0.8066 - accuracy: 0.5171 - val_loss: 0.7499 - val_accuracy: 0.5266\n",
      "Epoch 3/100\n",
      "12/12 [==============================] - 0s 3ms/step - loss: 0.7329 - accuracy: 0.5722 - val_loss: 0.6848 - val_accuracy: 0.5851\n",
      "Epoch 4/100\n",
      "12/12 [==============================] - 0s 2ms/step - loss: 0.6689 - accuracy: 0.6220 - val_loss: 0.6288 - val_accuracy: 0.6543\n",
      "Epoch 5/100\n",
      "12/12 [==============================] - 0s 2ms/step - loss: 0.6108 - accuracy: 0.6877 - val_loss: 0.5820 - val_accuracy: 0.6968\n",
      "Epoch 6/100\n",
      "12/12 [==============================] - 0s 2ms/step - loss: 0.5642 - accuracy: 0.7297 - val_loss: 0.5410 - val_accuracy: 0.7340\n",
      "Epoch 7/100\n",
      "12/12 [==============================] - 0s 2ms/step - loss: 0.5228 - accuracy: 0.7638 - val_loss: 0.5061 - val_accuracy: 0.7660\n",
      "Epoch 8/100\n",
      "12/12 [==============================] - 0s 2ms/step - loss: 0.4854 - accuracy: 0.7874 - val_loss: 0.4761 - val_accuracy: 0.7979\n",
      "Epoch 9/100\n",
      "12/12 [==============================] - 0s 2ms/step - loss: 0.4540 - accuracy: 0.8136 - val_loss: 0.4498 - val_accuracy: 0.8351\n",
      "Epoch 10/100\n",
      "12/12 [==============================] - 0s 2ms/step - loss: 0.4271 - accuracy: 0.8241 - val_loss: 0.4262 - val_accuracy: 0.8564\n",
      "Epoch 11/100\n",
      "12/12 [==============================] - 0s 2ms/step - loss: 0.4027 - accuracy: 0.8346 - val_loss: 0.4050 - val_accuracy: 0.8564\n",
      "Epoch 12/100\n",
      "12/12 [==============================] - 0s 2ms/step - loss: 0.3822 - accuracy: 0.8504 - val_loss: 0.3863 - val_accuracy: 0.8617\n",
      "Epoch 13/100\n",
      "12/12 [==============================] - 0s 2ms/step - loss: 0.3626 - accuracy: 0.8661 - val_loss: 0.3699 - val_accuracy: 0.8670\n",
      "Epoch 14/100\n",
      "12/12 [==============================] - 0s 2ms/step - loss: 0.3459 - accuracy: 0.8766 - val_loss: 0.3547 - val_accuracy: 0.8670\n",
      "Epoch 15/100\n",
      "12/12 [==============================] - 0s 2ms/step - loss: 0.3312 - accuracy: 0.8819 - val_loss: 0.3407 - val_accuracy: 0.8670\n",
      "Epoch 16/100\n",
      "12/12 [==============================] - 0s 2ms/step - loss: 0.3179 - accuracy: 0.8845 - val_loss: 0.3277 - val_accuracy: 0.8670\n",
      "Epoch 17/100\n",
      "12/12 [==============================] - 0s 3ms/step - loss: 0.3053 - accuracy: 0.8976 - val_loss: 0.3161 - val_accuracy: 0.8670\n",
      "Epoch 18/100\n",
      "12/12 [==============================] - 0s 3ms/step - loss: 0.2945 - accuracy: 0.9003 - val_loss: 0.3054 - val_accuracy: 0.8723\n",
      "Epoch 19/100\n",
      "12/12 [==============================] - 0s 3ms/step - loss: 0.2843 - accuracy: 0.9055 - val_loss: 0.2956 - val_accuracy: 0.8777\n",
      "Epoch 20/100\n",
      "12/12 [==============================] - 0s 3ms/step - loss: 0.2753 - accuracy: 0.9055 - val_loss: 0.2861 - val_accuracy: 0.8777\n",
      "Epoch 21/100\n",
      "12/12 [==============================] - 0s 3ms/step - loss: 0.2670 - accuracy: 0.9108 - val_loss: 0.2778 - val_accuracy: 0.8777\n",
      "Epoch 22/100\n",
      "12/12 [==============================] - 0s 3ms/step - loss: 0.2594 - accuracy: 0.9134 - val_loss: 0.2695 - val_accuracy: 0.8777\n",
      "Epoch 23/100\n",
      "12/12 [==============================] - 0s 3ms/step - loss: 0.2522 - accuracy: 0.9265 - val_loss: 0.2621 - val_accuracy: 0.8830\n",
      "Epoch 24/100\n",
      "12/12 [==============================] - 0s 3ms/step - loss: 0.2457 - accuracy: 0.9265 - val_loss: 0.2552 - val_accuracy: 0.8830\n",
      "Epoch 25/100\n",
      "12/12 [==============================] - 0s 3ms/step - loss: 0.2398 - accuracy: 0.9291 - val_loss: 0.2484 - val_accuracy: 0.8936\n",
      "Epoch 26/100\n",
      "12/12 [==============================] - 0s 3ms/step - loss: 0.2340 - accuracy: 0.9291 - val_loss: 0.2424 - val_accuracy: 0.9043\n",
      "Epoch 27/100\n",
      "12/12 [==============================] - 0s 3ms/step - loss: 0.2289 - accuracy: 0.9291 - val_loss: 0.2363 - val_accuracy: 0.9149\n",
      "Epoch 28/100\n",
      "12/12 [==============================] - 0s 2ms/step - loss: 0.2241 - accuracy: 0.9344 - val_loss: 0.2308 - val_accuracy: 0.9202\n",
      "Epoch 29/100\n",
      "12/12 [==============================] - 0s 2ms/step - loss: 0.2194 - accuracy: 0.9344 - val_loss: 0.2255 - val_accuracy: 0.9202\n",
      "Epoch 30/100\n",
      "12/12 [==============================] - 0s 3ms/step - loss: 0.2151 - accuracy: 0.9370 - val_loss: 0.2206 - val_accuracy: 0.9255\n",
      "Epoch 31/100\n",
      "12/12 [==============================] - 0s 2ms/step - loss: 0.2112 - accuracy: 0.9396 - val_loss: 0.2158 - val_accuracy: 0.9255\n",
      "Epoch 32/100\n",
      "12/12 [==============================] - 0s 2ms/step - loss: 0.2073 - accuracy: 0.9396 - val_loss: 0.2113 - val_accuracy: 0.9255\n",
      "Epoch 33/100\n",
      "12/12 [==============================] - 0s 2ms/step - loss: 0.2037 - accuracy: 0.9396 - val_loss: 0.2070 - val_accuracy: 0.9309\n",
      "Epoch 34/100\n",
      "12/12 [==============================] - 0s 3ms/step - loss: 0.2002 - accuracy: 0.9396 - val_loss: 0.2031 - val_accuracy: 0.9362\n",
      "Epoch 35/100\n",
      "12/12 [==============================] - 0s 2ms/step - loss: 0.1970 - accuracy: 0.9396 - val_loss: 0.1990 - val_accuracy: 0.9415\n",
      "Epoch 36/100\n",
      "12/12 [==============================] - 0s 2ms/step - loss: 0.1939 - accuracy: 0.9396 - val_loss: 0.1952 - val_accuracy: 0.9468\n",
      "Epoch 37/100\n",
      "12/12 [==============================] - 0s 2ms/step - loss: 0.1909 - accuracy: 0.9396 - val_loss: 0.1917 - val_accuracy: 0.9468\n",
      "Epoch 38/100\n",
      "12/12 [==============================] - 0s 2ms/step - loss: 0.1881 - accuracy: 0.9423 - val_loss: 0.1881 - val_accuracy: 0.9468\n",
      "Epoch 39/100\n",
      "12/12 [==============================] - 0s 2ms/step - loss: 0.1854 - accuracy: 0.9423 - val_loss: 0.1850 - val_accuracy: 0.9468\n",
      "Epoch 40/100\n",
      "12/12 [==============================] - 0s 2ms/step - loss: 0.1829 - accuracy: 0.9423 - val_loss: 0.1818 - val_accuracy: 0.9468\n",
      "Epoch 41/100\n",
      "12/12 [==============================] - 0s 2ms/step - loss: 0.1804 - accuracy: 0.9423 - val_loss: 0.1786 - val_accuracy: 0.9521\n",
      "Epoch 42/100\n",
      "12/12 [==============================] - 0s 2ms/step - loss: 0.1781 - accuracy: 0.9423 - val_loss: 0.1755 - val_accuracy: 0.9521\n",
      "Epoch 43/100\n",
      "12/12 [==============================] - 0s 3ms/step - loss: 0.1758 - accuracy: 0.9449 - val_loss: 0.1727 - val_accuracy: 0.9574\n",
      "Epoch 44/100\n",
      "12/12 [==============================] - 0s 2ms/step - loss: 0.1736 - accuracy: 0.9449 - val_loss: 0.1699 - val_accuracy: 0.9574\n",
      "Epoch 45/100\n",
      "12/12 [==============================] - 0s 2ms/step - loss: 0.1715 - accuracy: 0.9475 - val_loss: 0.1673 - val_accuracy: 0.9574\n",
      "Epoch 46/100\n",
      "12/12 [==============================] - 0s 2ms/step - loss: 0.1696 - accuracy: 0.9475 - val_loss: 0.1647 - val_accuracy: 0.9628\n",
      "Epoch 47/100\n",
      "12/12 [==============================] - 0s 2ms/step - loss: 0.1675 - accuracy: 0.9528 - val_loss: 0.1623 - val_accuracy: 0.9628\n",
      "Epoch 48/100\n",
      "12/12 [==============================] - 0s 3ms/step - loss: 0.1657 - accuracy: 0.9528 - val_loss: 0.1599 - val_accuracy: 0.9628\n",
      "Epoch 49/100\n",
      "12/12 [==============================] - 0s 3ms/step - loss: 0.1639 - accuracy: 0.9528 - val_loss: 0.1577 - val_accuracy: 0.9628\n",
      "Epoch 50/100\n",
      "12/12 [==============================] - 0s 3ms/step - loss: 0.1621 - accuracy: 0.9528 - val_loss: 0.1553 - val_accuracy: 0.9628\n",
      "Epoch 51/100\n",
      "12/12 [==============================] - 0s 3ms/step - loss: 0.1605 - accuracy: 0.9528 - val_loss: 0.1530 - val_accuracy: 0.9628\n",
      "Epoch 52/100\n",
      "12/12 [==============================] - 0s 3ms/step - loss: 0.1588 - accuracy: 0.9528 - val_loss: 0.1510 - val_accuracy: 0.9628\n",
      "Epoch 53/100\n",
      "12/12 [==============================] - 0s 2ms/step - loss: 0.1573 - accuracy: 0.9528 - val_loss: 0.1489 - val_accuracy: 0.9628\n",
      "Epoch 54/100\n",
      "12/12 [==============================] - 0s 2ms/step - loss: 0.1557 - accuracy: 0.9528 - val_loss: 0.1469 - val_accuracy: 0.9628\n",
      "Epoch 55/100\n",
      "12/12 [==============================] - 0s 2ms/step - loss: 0.1542 - accuracy: 0.9528 - val_loss: 0.1451 - val_accuracy: 0.9681\n",
      "Epoch 56/100\n",
      "12/12 [==============================] - 0s 3ms/step - loss: 0.1528 - accuracy: 0.9528 - val_loss: 0.1432 - val_accuracy: 0.9681\n",
      "Epoch 57/100\n",
      "12/12 [==============================] - 0s 2ms/step - loss: 0.1515 - accuracy: 0.9528 - val_loss: 0.1413 - val_accuracy: 0.9681\n",
      "Epoch 58/100\n",
      "12/12 [==============================] - 0s 2ms/step - loss: 0.1501 - accuracy: 0.9528 - val_loss: 0.1396 - val_accuracy: 0.9681\n"
     ]
    },
    {
     "name": "stdout",
     "output_type": "stream",
     "text": [
      "Epoch 59/100\n",
      "12/12 [==============================] - 0s 2ms/step - loss: 0.1488 - accuracy: 0.9528 - val_loss: 0.1380 - val_accuracy: 0.9734\n",
      "Epoch 60/100\n",
      "12/12 [==============================] - 0s 2ms/step - loss: 0.1475 - accuracy: 0.9528 - val_loss: 0.1364 - val_accuracy: 0.9734\n",
      "Epoch 61/100\n",
      "12/12 [==============================] - 0s 2ms/step - loss: 0.1463 - accuracy: 0.9528 - val_loss: 0.1347 - val_accuracy: 0.9734\n",
      "Epoch 62/100\n",
      "12/12 [==============================] - 0s 2ms/step - loss: 0.1451 - accuracy: 0.9528 - val_loss: 0.1331 - val_accuracy: 0.9734\n",
      "Epoch 63/100\n",
      "12/12 [==============================] - 0s 2ms/step - loss: 0.1439 - accuracy: 0.9528 - val_loss: 0.1317 - val_accuracy: 0.9734\n",
      "Epoch 64/100\n",
      "12/12 [==============================] - 0s 2ms/step - loss: 0.1428 - accuracy: 0.9528 - val_loss: 0.1301 - val_accuracy: 0.9734\n",
      "Epoch 65/100\n",
      "12/12 [==============================] - 0s 2ms/step - loss: 0.1417 - accuracy: 0.9554 - val_loss: 0.1287 - val_accuracy: 0.9734\n",
      "Epoch 66/100\n",
      "12/12 [==============================] - 0s 2ms/step - loss: 0.1407 - accuracy: 0.9554 - val_loss: 0.1272 - val_accuracy: 0.9734\n",
      "Epoch 67/100\n",
      "12/12 [==============================] - 0s 2ms/step - loss: 0.1396 - accuracy: 0.9554 - val_loss: 0.1259 - val_accuracy: 0.9734\n",
      "Epoch 68/100\n",
      "12/12 [==============================] - 0s 2ms/step - loss: 0.1385 - accuracy: 0.9554 - val_loss: 0.1247 - val_accuracy: 0.9734\n",
      "Epoch 69/100\n",
      "12/12 [==============================] - 0s 2ms/step - loss: 0.1375 - accuracy: 0.9554 - val_loss: 0.1233 - val_accuracy: 0.9734\n",
      "Epoch 70/100\n",
      "12/12 [==============================] - 0s 3ms/step - loss: 0.1366 - accuracy: 0.9554 - val_loss: 0.1220 - val_accuracy: 0.9734\n",
      "Epoch 71/100\n",
      "12/12 [==============================] - 0s 3ms/step - loss: 0.1356 - accuracy: 0.9554 - val_loss: 0.1207 - val_accuracy: 0.9734\n",
      "Epoch 72/100\n",
      "12/12 [==============================] - 0s 3ms/step - loss: 0.1347 - accuracy: 0.9554 - val_loss: 0.1195 - val_accuracy: 0.9734\n",
      "Epoch 73/100\n",
      "12/12 [==============================] - 0s 2ms/step - loss: 0.1337 - accuracy: 0.9580 - val_loss: 0.1184 - val_accuracy: 0.9734\n",
      "Epoch 74/100\n",
      "12/12 [==============================] - 0s 2ms/step - loss: 0.1329 - accuracy: 0.9580 - val_loss: 0.1173 - val_accuracy: 0.9734\n",
      "Epoch 75/100\n",
      "12/12 [==============================] - 0s 2ms/step - loss: 0.1321 - accuracy: 0.9580 - val_loss: 0.1162 - val_accuracy: 0.9734\n",
      "Epoch 76/100\n",
      "12/12 [==============================] - 0s 3ms/step - loss: 0.1312 - accuracy: 0.9580 - val_loss: 0.1151 - val_accuracy: 0.9734\n",
      "Epoch 77/100\n",
      "12/12 [==============================] - 0s 2ms/step - loss: 0.1303 - accuracy: 0.9580 - val_loss: 0.1141 - val_accuracy: 0.9734\n",
      "Epoch 78/100\n",
      "12/12 [==============================] - 0s 3ms/step - loss: 0.1296 - accuracy: 0.9580 - val_loss: 0.1130 - val_accuracy: 0.9734\n",
      "Epoch 79/100\n",
      "12/12 [==============================] - 0s 2ms/step - loss: 0.1288 - accuracy: 0.9580 - val_loss: 0.1120 - val_accuracy: 0.9734\n",
      "Epoch 80/100\n",
      "12/12 [==============================] - 0s 2ms/step - loss: 0.1280 - accuracy: 0.9580 - val_loss: 0.1109 - val_accuracy: 0.9734\n",
      "Epoch 81/100\n",
      "12/12 [==============================] - 0s 3ms/step - loss: 0.1272 - accuracy: 0.9580 - val_loss: 0.1100 - val_accuracy: 0.9734\n",
      "Epoch 82/100\n",
      "12/12 [==============================] - 0s 2ms/step - loss: 0.1265 - accuracy: 0.9580 - val_loss: 0.1090 - val_accuracy: 0.9734\n",
      "Epoch 83/100\n",
      "12/12 [==============================] - 0s 2ms/step - loss: 0.1258 - accuracy: 0.9606 - val_loss: 0.1081 - val_accuracy: 0.9734\n",
      "Epoch 84/100\n",
      "12/12 [==============================] - 0s 2ms/step - loss: 0.1251 - accuracy: 0.9606 - val_loss: 0.1071 - val_accuracy: 0.9734\n",
      "Epoch 85/100\n",
      "12/12 [==============================] - 0s 2ms/step - loss: 0.1244 - accuracy: 0.9633 - val_loss: 0.1062 - val_accuracy: 0.9734\n",
      "Epoch 86/100\n",
      "12/12 [==============================] - 0s 3ms/step - loss: 0.1237 - accuracy: 0.9633 - val_loss: 0.1054 - val_accuracy: 0.9734\n",
      "Epoch 87/100\n",
      "12/12 [==============================] - 0s 2ms/step - loss: 0.1231 - accuracy: 0.9633 - val_loss: 0.1044 - val_accuracy: 0.9734\n",
      "Epoch 88/100\n",
      "12/12 [==============================] - 0s 2ms/step - loss: 0.1224 - accuracy: 0.9633 - val_loss: 0.1036 - val_accuracy: 0.9734\n",
      "Epoch 89/100\n",
      "12/12 [==============================] - 0s 3ms/step - loss: 0.1217 - accuracy: 0.9633 - val_loss: 0.1028 - val_accuracy: 0.9734\n",
      "Epoch 90/100\n",
      "12/12 [==============================] - 0s 2ms/step - loss: 0.1211 - accuracy: 0.9633 - val_loss: 0.1021 - val_accuracy: 0.9734\n",
      "Epoch 91/100\n",
      "12/12 [==============================] - 0s 3ms/step - loss: 0.1205 - accuracy: 0.9633 - val_loss: 0.1013 - val_accuracy: 0.9787\n",
      "Epoch 92/100\n",
      "12/12 [==============================] - 0s 2ms/step - loss: 0.1199 - accuracy: 0.9633 - val_loss: 0.1004 - val_accuracy: 0.9787\n",
      "Epoch 93/100\n",
      "12/12 [==============================] - 0s 2ms/step - loss: 0.1193 - accuracy: 0.9633 - val_loss: 0.0998 - val_accuracy: 0.9787\n",
      "Epoch 94/100\n",
      "12/12 [==============================] - 0s 2ms/step - loss: 0.1187 - accuracy: 0.9633 - val_loss: 0.0990 - val_accuracy: 0.9787\n",
      "Epoch 95/100\n",
      "12/12 [==============================] - 0s 2ms/step - loss: 0.1181 - accuracy: 0.9633 - val_loss: 0.0983 - val_accuracy: 0.9787\n",
      "Epoch 96/100\n",
      "12/12 [==============================] - 0s 3ms/step - loss: 0.1176 - accuracy: 0.9633 - val_loss: 0.0976 - val_accuracy: 0.9787\n",
      "Epoch 97/100\n",
      "12/12 [==============================] - 0s 2ms/step - loss: 0.1170 - accuracy: 0.9659 - val_loss: 0.0969 - val_accuracy: 0.9787\n",
      "Epoch 98/100\n",
      "12/12 [==============================] - 0s 2ms/step - loss: 0.1165 - accuracy: 0.9659 - val_loss: 0.0962 - val_accuracy: 0.9787\n",
      "Epoch 99/100\n",
      "12/12 [==============================] - 0s 2ms/step - loss: 0.1159 - accuracy: 0.9659 - val_loss: 0.0955 - val_accuracy: 0.9787\n",
      "Epoch 100/100\n",
      "12/12 [==============================] - 0s 3ms/step - loss: 0.1155 - accuracy: 0.9659 - val_loss: 0.0948 - val_accuracy: 0.9787\n"
     ]
    },
    {
     "data": {
      "image/png": "[encoded data removed]",
      "text/plain": [
       "<Figure size 432x288 with 1 Axes>"
      ]
     },
     "metadata": {
      "needs_background": "light"
     },
     "output_type": "display_data"
    },
    {
     "data": {
      "image/png": "[encoded data removed]",
      "text/plain": [
       "<Figure size 432x288 with 1 Axes>"
      ]
     },
     "metadata": {
      "needs_background": "light"
     },
     "output_type": "display_data"
    },
    {
     "name": "stdout",
     "output_type": "stream",
     "text": [
      "6/6 [==============================] - 0s 992us/step - loss: 0.0948 - accuracy: 0.9787\n",
      "Accuracy: 0.978723406791687\n"
     ]
    }
   ],
   "source": [
    "i = tf.keras.layers.Input(shape=(D,))\n",
    "x = tf.keras.layers.Dense(1, activation='sigmoid')(i)\n",
    "model = tf.keras.models.Model(i, x)\n",
    "\n",
    "model.compile(optimizer='adam',\n",
    "              loss='binary_crossentropy',\n",
    "              metrics=['accuracy'])\n",
    "\n",
    "r = model.fit(X_train, y_train,\n",
    "              validation_data=(X_test, y_test),\n",
    "              epochs=100)\n",
    "\n",
    "plt.plot(r.history.get('loss'), label='Loss')\n",
    "plt.plot(r.history.get('val_loss'), label='Validation Loss')\n",
    "plt.legend()\n",
    "plt.show()\n",
    "\n",
    "plt.plot(r.history.get('accuracy'), label='Accuracy')\n",
    "plt.plot(r.history.get('val_accuracy'), label='Validation Accuracy')\n",
    "plt.legend()\n",
    "plt.show()\n",
    "\n",
    "print(f'Accuracy: {model.evaluate(X_test, y_test)[1]}')"
   ]
  },
  {
   "cell_type": "markdown",
   "metadata": {},
   "source": [
    "## Save & load the model"
   ]
  },
  {
   "cell_type": "code",
   "execution_count": 5,
   "metadata": {},
   "outputs": [
    {
     "name": "stdout",
     "output_type": "stream",
     "text": [
      "6/6 [==============================] - 0s 909us/step - loss: 0.0948 - accuracy: 0.9787\n",
      "Accuracy of the loaded model: 0.978723406791687\n"
     ]
    }
   ],
   "source": [
    "model.save('models/linear_classification.h5')\n",
    "model_loaded = tf.keras.models.load_model('models/linear_classification.h5')\n",
    "print(f'Accuracy of the loaded model: {model_loaded.evaluate(X_test, y_test)[1]}')"
   ]
  }
 ],
 "metadata": {
  "kernelspec": {
   "display_name": "Python 3",
   "language": "python",
   "name": "python3"
  },
  "language_info": {
   "codemirror_mode": {
    "name": "ipython",
    "version": 3
   },
   "file_extension": ".py",
   "mimetype": "text/x-python",
   "name": "python",
   "nbconvert_exporter": "python",
   "pygments_lexer": "ipython3",
   "version": "3.8.5"
  }
 },
 "nbformat": 4,
 "nbformat_minor": 4
}
