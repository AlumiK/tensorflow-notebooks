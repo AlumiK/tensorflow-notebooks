{
 "cells": [
  {
   "cell_type": "markdown",
   "metadata": {},
   "source": [
    "# Linear Classification (Breast Cancer)"
   ]
  },
  {
   "cell_type": "code",
   "execution_count": 1,
   "metadata": {},
   "outputs": [],
   "source": [
    "import tensorflow as tf\n",
    "import matplotlib.pyplot as plt\n",
    "\n",
    "from sklearn.datasets import load_breast_cancer\n",
    "from sklearn.preprocessing import StandardScaler\n",
    "from sklearn.model_selection import train_test_split"
   ]
  },
  {
   "cell_type": "code",
   "execution_count": 2,
   "metadata": {},
   "outputs": [
    {
     "name": "stdout",
     "output_type": "stream",
     "text": [
      "GPU 0: GeForce RTX 2080 Ti (UUID: GPU-3cb47403-efa9-71ae-1700-c27de6cb0d0a)\n"
     ]
    }
   ],
   "source": [
    "!nvidia-smi -L"
   ]
  },
  {
   "cell_type": "code",
   "execution_count": 3,
   "metadata": {},
   "outputs": [],
   "source": [
    "data = load_breast_cancer()\n",
    "X_train, X_test, y_train, y_test = train_test_split(data.data, data.target, test_size=0.33)\n",
    "\n",
    "scaler = StandardScaler()\n",
    "X_train = scaler.fit_transform(X_train)\n",
    "X_test = scaler.transform(X_test)\n",
    "\n",
    "N, D = X_train.shape"
   ]
  },
  {
   "cell_type": "code",
   "execution_count": 4,
   "metadata": {},
   "outputs": [
    {
     "name": "stdout",
     "output_type": "stream",
     "text": [
      "Train on 381 samples, validate on 188 samples\n",
      "Epoch 1/100\n",
      "381/381 [==============================] - 0s 1ms/sample - loss: 0.9719 - accuracy: 0.4409 - val_loss: 0.9596 - val_accuracy: 0.4734\n",
      "Epoch 2/100\n",
      "381/381 [==============================] - 0s 76us/sample - loss: 0.8968 - accuracy: 0.5013 - val_loss: 0.8845 - val_accuracy: 0.4947\n",
      "Epoch 3/100\n",
      "381/381 [==============================] - 0s 74us/sample - loss: 0.8302 - accuracy: 0.5433 - val_loss: 0.8153 - val_accuracy: 0.5638\n",
      "Epoch 4/100\n",
      "381/381 [==============================] - 0s 76us/sample - loss: 0.7686 - accuracy: 0.5906 - val_loss: 0.7544 - val_accuracy: 0.5691\n",
      "Epoch 5/100\n",
      "381/381 [==============================] - 0s 76us/sample - loss: 0.7149 - accuracy: 0.6378 - val_loss: 0.6989 - val_accuracy: 0.6170\n",
      "Epoch 6/100\n",
      "381/381 [==============================] - 0s 78us/sample - loss: 0.6657 - accuracy: 0.6667 - val_loss: 0.6499 - val_accuracy: 0.6489\n",
      "Epoch 7/100\n",
      "381/381 [==============================] - 0s 77us/sample - loss: 0.6233 - accuracy: 0.6877 - val_loss: 0.6050 - val_accuracy: 0.6862\n",
      "Epoch 8/100\n",
      "381/381 [==============================] - 0s 77us/sample - loss: 0.5835 - accuracy: 0.7297 - val_loss: 0.5663 - val_accuracy: 0.7128\n",
      "Epoch 9/100\n",
      "381/381 [==============================] - 0s 77us/sample - loss: 0.5492 - accuracy: 0.7533 - val_loss: 0.5308 - val_accuracy: 0.7287\n",
      "Epoch 10/100\n",
      "381/381 [==============================] - 0s 78us/sample - loss: 0.5184 - accuracy: 0.7612 - val_loss: 0.4989 - val_accuracy: 0.7553\n",
      "Epoch 11/100\n",
      "381/381 [==============================] - 0s 78us/sample - loss: 0.4919 - accuracy: 0.7979 - val_loss: 0.4695 - val_accuracy: 0.7660\n",
      "Epoch 12/100\n",
      "381/381 [==============================] - 0s 74us/sample - loss: 0.4664 - accuracy: 0.8084 - val_loss: 0.4438 - val_accuracy: 0.7819\n",
      "Epoch 13/100\n",
      "381/381 [==============================] - 0s 72us/sample - loss: 0.4443 - accuracy: 0.8136 - val_loss: 0.4207 - val_accuracy: 0.8191\n",
      "Epoch 14/100\n",
      "381/381 [==============================] - 0s 74us/sample - loss: 0.4244 - accuracy: 0.8215 - val_loss: 0.3998 - val_accuracy: 0.8298\n",
      "Epoch 15/100\n",
      "381/381 [==============================] - 0s 73us/sample - loss: 0.4062 - accuracy: 0.8346 - val_loss: 0.3808 - val_accuracy: 0.8457\n",
      "Epoch 16/100\n",
      "381/381 [==============================] - 0s 77us/sample - loss: 0.3898 - accuracy: 0.8425 - val_loss: 0.3635 - val_accuracy: 0.8564\n",
      "Epoch 17/100\n",
      "381/381 [==============================] - 0s 74us/sample - loss: 0.3748 - accuracy: 0.8478 - val_loss: 0.3476 - val_accuracy: 0.8564\n",
      "Epoch 18/100\n",
      "381/381 [==============================] - 0s 76us/sample - loss: 0.3607 - accuracy: 0.8530 - val_loss: 0.3333 - val_accuracy: 0.8564\n",
      "Epoch 19/100\n",
      "381/381 [==============================] - 0s 74us/sample - loss: 0.3478 - accuracy: 0.8530 - val_loss: 0.3200 - val_accuracy: 0.8617\n",
      "Epoch 20/100\n",
      "381/381 [==============================] - 0s 76us/sample - loss: 0.3360 - accuracy: 0.8609 - val_loss: 0.3079 - val_accuracy: 0.8883\n",
      "Epoch 21/100\n",
      "381/381 [==============================] - 0s 77us/sample - loss: 0.3246 - accuracy: 0.8661 - val_loss: 0.2973 - val_accuracy: 0.9043\n",
      "Epoch 22/100\n",
      "381/381 [==============================] - 0s 76us/sample - loss: 0.3150 - accuracy: 0.8714 - val_loss: 0.2866 - val_accuracy: 0.9096\n",
      "Epoch 23/100\n",
      "381/381 [==============================] - 0s 74us/sample - loss: 0.3046 - accuracy: 0.8793 - val_loss: 0.2776 - val_accuracy: 0.9096\n",
      "Epoch 24/100\n",
      "381/381 [==============================] - 0s 74us/sample - loss: 0.2960 - accuracy: 0.8871 - val_loss: 0.2691 - val_accuracy: 0.9149\n",
      "Epoch 25/100\n",
      "381/381 [==============================] - 0s 73us/sample - loss: 0.2877 - accuracy: 0.9003 - val_loss: 0.2610 - val_accuracy: 0.9255\n",
      "Epoch 26/100\n",
      "381/381 [==============================] - 0s 74us/sample - loss: 0.2798 - accuracy: 0.9055 - val_loss: 0.2537 - val_accuracy: 0.9255\n",
      "Epoch 27/100\n",
      "381/381 [==============================] - 0s 72us/sample - loss: 0.2723 - accuracy: 0.9055 - val_loss: 0.2468 - val_accuracy: 0.9255\n",
      "Epoch 28/100\n",
      "381/381 [==============================] - 0s 74us/sample - loss: 0.2656 - accuracy: 0.9134 - val_loss: 0.2403 - val_accuracy: 0.9362\n",
      "Epoch 29/100\n",
      "381/381 [==============================] - 0s 73us/sample - loss: 0.2589 - accuracy: 0.9160 - val_loss: 0.2344 - val_accuracy: 0.9362\n",
      "Epoch 30/100\n",
      "381/381 [==============================] - 0s 73us/sample - loss: 0.2525 - accuracy: 0.9160 - val_loss: 0.2292 - val_accuracy: 0.9362\n",
      "Epoch 31/100\n",
      "381/381 [==============================] - 0s 81us/sample - loss: 0.2469 - accuracy: 0.9186 - val_loss: 0.2241 - val_accuracy: 0.9468\n",
      "Epoch 32/100\n",
      "381/381 [==============================] - 0s 79us/sample - loss: 0.2414 - accuracy: 0.9213 - val_loss: 0.2192 - val_accuracy: 0.9468\n",
      "Epoch 33/100\n",
      "381/381 [==============================] - 0s 78us/sample - loss: 0.2361 - accuracy: 0.9213 - val_loss: 0.2146 - val_accuracy: 0.9468\n",
      "Epoch 34/100\n",
      "381/381 [==============================] - 0s 81us/sample - loss: 0.2311 - accuracy: 0.9265 - val_loss: 0.2104 - val_accuracy: 0.9521\n",
      "Epoch 35/100\n",
      "381/381 [==============================] - 0s 79us/sample - loss: 0.2266 - accuracy: 0.9291 - val_loss: 0.2062 - val_accuracy: 0.9574\n",
      "Epoch 36/100\n",
      "381/381 [==============================] - 0s 76us/sample - loss: 0.2219 - accuracy: 0.9291 - val_loss: 0.2025 - val_accuracy: 0.9574\n",
      "Epoch 37/100\n",
      "381/381 [==============================] - 0s 70us/sample - loss: 0.2176 - accuracy: 0.9291 - val_loss: 0.1989 - val_accuracy: 0.9574\n",
      "Epoch 38/100\n",
      "381/381 [==============================] - 0s 72us/sample - loss: 0.2137 - accuracy: 0.9318 - val_loss: 0.1954 - val_accuracy: 0.9628\n",
      "Epoch 39/100\n",
      "381/381 [==============================] - 0s 73us/sample - loss: 0.2097 - accuracy: 0.9318 - val_loss: 0.1923 - val_accuracy: 0.9628\n",
      "Epoch 40/100\n",
      "381/381 [==============================] - 0s 76us/sample - loss: 0.2059 - accuracy: 0.9318 - val_loss: 0.1891 - val_accuracy: 0.9628\n",
      "Epoch 41/100\n",
      "381/381 [==============================] - 0s 74us/sample - loss: 0.2025 - accuracy: 0.9318 - val_loss: 0.1862 - val_accuracy: 0.9628\n",
      "Epoch 42/100\n",
      "381/381 [==============================] - 0s 74us/sample - loss: 0.1989 - accuracy: 0.9318 - val_loss: 0.1834 - val_accuracy: 0.9628\n",
      "Epoch 43/100\n",
      "381/381 [==============================] - 0s 74us/sample - loss: 0.1957 - accuracy: 0.9370 - val_loss: 0.1808 - val_accuracy: 0.9628\n",
      "Epoch 44/100\n",
      "381/381 [==============================] - 0s 73us/sample - loss: 0.1924 - accuracy: 0.9423 - val_loss: 0.1783 - val_accuracy: 0.9628\n",
      "Epoch 45/100\n",
      "381/381 [==============================] - 0s 73us/sample - loss: 0.1895 - accuracy: 0.9449 - val_loss: 0.1759 - val_accuracy: 0.9628\n",
      "Epoch 46/100\n",
      "381/381 [==============================] - 0s 81us/sample - loss: 0.1866 - accuracy: 0.9449 - val_loss: 0.1735 - val_accuracy: 0.9628\n",
      "Epoch 47/100\n",
      "381/381 [==============================] - 0s 73us/sample - loss: 0.1838 - accuracy: 0.9475 - val_loss: 0.1713 - val_accuracy: 0.9628\n",
      "Epoch 48/100\n",
      "381/381 [==============================] - 0s 77us/sample - loss: 0.1810 - accuracy: 0.9475 - val_loss: 0.1692 - val_accuracy: 0.9628\n",
      "Epoch 49/100\n",
      "381/381 [==============================] - 0s 77us/sample - loss: 0.1785 - accuracy: 0.9475 - val_loss: 0.1672 - val_accuracy: 0.9628\n",
      "Epoch 50/100\n",
      "381/381 [==============================] - 0s 81us/sample - loss: 0.1758 - accuracy: 0.9475 - val_loss: 0.1654 - val_accuracy: 0.9628\n",
      "Epoch 51/100\n",
      "381/381 [==============================] - 0s 79us/sample - loss: 0.1735 - accuracy: 0.9475 - val_loss: 0.1635 - val_accuracy: 0.9628\n",
      "Epoch 52/100\n",
      "381/381 [==============================] - 0s 77us/sample - loss: 0.1711 - accuracy: 0.9501 - val_loss: 0.1617 - val_accuracy: 0.9628\n",
      "Epoch 53/100\n",
      "381/381 [==============================] - 0s 77us/sample - loss: 0.1688 - accuracy: 0.9501 - val_loss: 0.1600 - val_accuracy: 0.9681\n",
      "Epoch 54/100\n",
      "381/381 [==============================] - 0s 74us/sample - loss: 0.1666 - accuracy: 0.9501 - val_loss: 0.1584 - val_accuracy: 0.9681\n",
      "Epoch 55/100\n",
      "381/381 [==============================] - 0s 79us/sample - loss: 0.1644 - accuracy: 0.9528 - val_loss: 0.1568 - val_accuracy: 0.9681\n",
      "Epoch 56/100\n",
      "381/381 [==============================] - 0s 76us/sample - loss: 0.1624 - accuracy: 0.9554 - val_loss: 0.1552 - val_accuracy: 0.9681\n",
      "Epoch 57/100\n",
      "381/381 [==============================] - 0s 76us/sample - loss: 0.1604 - accuracy: 0.9554 - val_loss: 0.1538 - val_accuracy: 0.9681\n",
      "Epoch 58/100\n",
      "381/381 [==============================] - 0s 74us/sample - loss: 0.1584 - accuracy: 0.9554 - val_loss: 0.1524 - val_accuracy: 0.9628\n",
      "Epoch 59/100\n",
      "381/381 [==============================] - 0s 75us/sample - loss: 0.1565 - accuracy: 0.9554 - val_loss: 0.1511 - val_accuracy: 0.9628\n",
      "Epoch 60/100\n",
      "381/381 [==============================] - 0s 74us/sample - loss: 0.1547 - accuracy: 0.9580 - val_loss: 0.1497 - val_accuracy: 0.9628\n",
      "Epoch 61/100\n",
      "381/381 [==============================] - 0s 76us/sample - loss: 0.1529 - accuracy: 0.9606 - val_loss: 0.1485 - val_accuracy: 0.9628\n",
      "Epoch 62/100\n",
      "381/381 [==============================] - 0s 77us/sample - loss: 0.1512 - accuracy: 0.9606 - val_loss: 0.1474 - val_accuracy: 0.9628\n",
      "Epoch 63/100\n",
      "381/381 [==============================] - 0s 74us/sample - loss: 0.1495 - accuracy: 0.9606 - val_loss: 0.1462 - val_accuracy: 0.9628\n",
      "Epoch 64/100\n",
      "381/381 [==============================] - 0s 73us/sample - loss: 0.1479 - accuracy: 0.9606 - val_loss: 0.1449 - val_accuracy: 0.9628\n",
      "Epoch 65/100\n",
      "381/381 [==============================] - 0s 77us/sample - loss: 0.1462 - accuracy: 0.9606 - val_loss: 0.1438 - val_accuracy: 0.9628\n",
      "Epoch 66/100\n",
      "381/381 [==============================] - 0s 77us/sample - loss: 0.1448 - accuracy: 0.9606 - val_loss: 0.1429 - val_accuracy: 0.9628\n",
      "Epoch 67/100\n",
      "381/381 [==============================] - 0s 76us/sample - loss: 0.1432 - accuracy: 0.9633 - val_loss: 0.1418 - val_accuracy: 0.9628\n",
      "Epoch 68/100\n",
      "381/381 [==============================] - 0s 74us/sample - loss: 0.1417 - accuracy: 0.9633 - val_loss: 0.1408 - val_accuracy: 0.9628\n",
      "Epoch 69/100\n",
      "381/381 [==============================] - 0s 73us/sample - loss: 0.1403 - accuracy: 0.9633 - val_loss: 0.1399 - val_accuracy: 0.9628\n",
      "Epoch 70/100\n",
      "381/381 [==============================] - 0s 73us/sample - loss: 0.1389 - accuracy: 0.9633 - val_loss: 0.1390 - val_accuracy: 0.9628\n",
      "Epoch 71/100\n",
      "381/381 [==============================] - 0s 76us/sample - loss: 0.1375 - accuracy: 0.9633 - val_loss: 0.1381 - val_accuracy: 0.9628\n",
      "Epoch 72/100\n",
      "381/381 [==============================] - 0s 74us/sample - loss: 0.1362 - accuracy: 0.9659 - val_loss: 0.1372 - val_accuracy: 0.9628\n",
      "Epoch 73/100\n",
      "381/381 [==============================] - 0s 74us/sample - loss: 0.1349 - accuracy: 0.9659 - val_loss: 0.1362 - val_accuracy: 0.9628\n",
      "Epoch 74/100\n",
      "381/381 [==============================] - 0s 73us/sample - loss: 0.1336 - accuracy: 0.9659 - val_loss: 0.1354 - val_accuracy: 0.9628\n",
      "Epoch 75/100\n",
      "381/381 [==============================] - 0s 74us/sample - loss: 0.1324 - accuracy: 0.9659 - val_loss: 0.1347 - val_accuracy: 0.9681\n",
      "Epoch 76/100\n",
      "381/381 [==============================] - 0s 73us/sample - loss: 0.1312 - accuracy: 0.9659 - val_loss: 0.1339 - val_accuracy: 0.9681\n",
      "Epoch 77/100\n",
      "381/381 [==============================] - 0s 74us/sample - loss: 0.1300 - accuracy: 0.9659 - val_loss: 0.1331 - val_accuracy: 0.9681\n",
      "Epoch 78/100\n",
      "381/381 [==============================] - 0s 74us/sample - loss: 0.1289 - accuracy: 0.9659 - val_loss: 0.1324 - val_accuracy: 0.9681\n",
      "Epoch 79/100\n",
      "381/381 [==============================] - 0s 74us/sample - loss: 0.1277 - accuracy: 0.9659 - val_loss: 0.1317 - val_accuracy: 0.9681\n",
      "Epoch 80/100\n",
      "381/381 [==============================] - 0s 76us/sample - loss: 0.1266 - accuracy: 0.9659 - val_loss: 0.1310 - val_accuracy: 0.9681\n",
      "Epoch 81/100\n",
      "381/381 [==============================] - 0s 77us/sample - loss: 0.1255 - accuracy: 0.9659 - val_loss: 0.1302 - val_accuracy: 0.9681\n",
      "Epoch 82/100\n",
      "381/381 [==============================] - 0s 78us/sample - loss: 0.1245 - accuracy: 0.9659 - val_loss: 0.1297 - val_accuracy: 0.9681\n",
      "Epoch 83/100\n",
      "381/381 [==============================] - 0s 75us/sample - loss: 0.1235 - accuracy: 0.9659 - val_loss: 0.1289 - val_accuracy: 0.9681\n",
      "Epoch 84/100\n",
      "381/381 [==============================] - 0s 74us/sample - loss: 0.1224 - accuracy: 0.9659 - val_loss: 0.1284 - val_accuracy: 0.9681\n",
      "Epoch 85/100\n",
      "381/381 [==============================] - 0s 76us/sample - loss: 0.1215 - accuracy: 0.9659 - val_loss: 0.1278 - val_accuracy: 0.9681\n",
      "Epoch 86/100\n",
      "381/381 [==============================] - 0s 74us/sample - loss: 0.1205 - accuracy: 0.9659 - val_loss: 0.1271 - val_accuracy: 0.9681\n",
      "Epoch 87/100\n",
      "381/381 [==============================] - 0s 72us/sample - loss: 0.1195 - accuracy: 0.9659 - val_loss: 0.1266 - val_accuracy: 0.9681\n",
      "Epoch 88/100\n",
      "381/381 [==============================] - 0s 74us/sample - loss: 0.1186 - accuracy: 0.9659 - val_loss: 0.1260 - val_accuracy: 0.9681\n",
      "Epoch 89/100\n",
      "381/381 [==============================] - 0s 72us/sample - loss: 0.1177 - accuracy: 0.9659 - val_loss: 0.1254 - val_accuracy: 0.9681\n",
      "Epoch 90/100\n",
      "381/381 [==============================] - 0s 74us/sample - loss: 0.1168 - accuracy: 0.9659 - val_loss: 0.1249 - val_accuracy: 0.9681\n",
      "Epoch 91/100\n",
      "381/381 [==============================] - 0s 74us/sample - loss: 0.1159 - accuracy: 0.9659 - val_loss: 0.1244 - val_accuracy: 0.9681\n",
      "Epoch 92/100\n",
      "381/381 [==============================] - 0s 77us/sample - loss: 0.1150 - accuracy: 0.9659 - val_loss: 0.1239 - val_accuracy: 0.9681\n",
      "Epoch 93/100\n",
      "381/381 [==============================] - 0s 74us/sample - loss: 0.1141 - accuracy: 0.9685 - val_loss: 0.1234 - val_accuracy: 0.9681\n",
      "Epoch 94/100\n",
      "381/381 [==============================] - 0s 74us/sample - loss: 0.1134 - accuracy: 0.9685 - val_loss: 0.1229 - val_accuracy: 0.9681\n",
      "Epoch 95/100\n",
      "381/381 [==============================] - 0s 76us/sample - loss: 0.1125 - accuracy: 0.9685 - val_loss: 0.1224 - val_accuracy: 0.9681\n",
      "Epoch 96/100\n",
      "381/381 [==============================] - 0s 77us/sample - loss: 0.1117 - accuracy: 0.9685 - val_loss: 0.1220 - val_accuracy: 0.9681\n",
      "Epoch 97/100\n",
      "381/381 [==============================] - 0s 73us/sample - loss: 0.1109 - accuracy: 0.9711 - val_loss: 0.1216 - val_accuracy: 0.9681\n",
      "Epoch 98/100\n",
      "381/381 [==============================] - 0s 77us/sample - loss: 0.1102 - accuracy: 0.9711 - val_loss: 0.1211 - val_accuracy: 0.9681\n",
      "Epoch 99/100\n",
      "381/381 [==============================] - 0s 73us/sample - loss: 0.1094 - accuracy: 0.9711 - val_loss: 0.1206 - val_accuracy: 0.9681\n",
      "Epoch 100/100\n",
      "381/381 [==============================] - 0s 74us/sample - loss: 0.1087 - accuracy: 0.9711 - val_loss: 0.1201 - val_accuracy: 0.9681\n"
     ]
    },
    {
     "data": {
      "image/png": "[encoded data removed]",
      "text/plain": [
       "<Figure size 432x288 with 1 Axes>"
      ]
     },
     "metadata": {
      "needs_background": "light"
     },
     "output_type": "display_data"
    },
    {
     "data": {
      "image/png": "[encoded data removed]",
      "text/plain": [
       "<Figure size 432x288 with 1 Axes>"
      ]
     },
     "metadata": {
      "needs_background": "light"
     },
     "output_type": "display_data"
    },
    {
     "name": "stdout",
     "output_type": "stream",
     "text": [
      "188/188 [==============================] - 0s 48us/sample - loss: 0.1201 - accuracy: 0.9681\n",
      "Accuracy: 0.9680851101875305\n"
     ]
    }
   ],
   "source": [
    "i = tf.keras.layers.Input(shape=(D,))\n",
    "x = tf.keras.layers.Dense(1, activation='sigmoid')(i)\n",
    "model = tf.keras.models.Model(i, x)\n",
    "\n",
    "model.compile(optimizer='adam',\n",
    "              loss='binary_crossentropy',\n",
    "              metrics=['accuracy'])\n",
    "\n",
    "r = model.fit(X_train, y_train,\n",
    "              validation_data=(X_test, y_test),\n",
    "              epochs=100)\n",
    "\n",
    "plt.plot(r.history.get('loss'), label='Loss')\n",
    "plt.plot(r.history.get('val_loss'), label='Validation Loss')\n",
    "plt.legend()\n",
    "plt.show()\n",
    "\n",
    "plt.plot(r.history.get('accuracy'), label='Accuracy')\n",
    "plt.plot(r.history.get('val_accuracy'), label='Validation Accuracy')\n",
    "plt.legend()\n",
    "plt.show()\n",
    "\n",
    "print(f'Accuracy: {model.evaluate(X_test, y_test)[1]}')"
   ]
  },
  {
   "cell_type": "markdown",
   "metadata": {},
   "source": [
    "## Save & load the model"
   ]
  },
  {
   "cell_type": "code",
   "execution_count": 5,
   "metadata": {},
   "outputs": [
    {
     "name": "stdout",
     "output_type": "stream",
     "text": [
      "188/188 [==============================] - 0s 297us/sample - loss: 0.1201 - accuracy: 0.9681\n",
      "Accuracy of the loaded model: 0.9680851101875305\n"
     ]
    }
   ],
   "source": [
    "model.save('models/linear_classification.h5')\n",
    "model_loaded = tf.keras.models.load_model('models/linear_classification.h5')\n",
    "print(f'Accuracy of the loaded model: {model_loaded.evaluate(X_test, y_test)[1]}')"
   ]
  }
 ],
 "metadata": {
  "kernelspec": {
   "display_name": "Python 3",
   "language": "python",
   "name": "python3"
  },
  "language_info": {
   "codemirror_mode": {
    "name": "ipython",
    "version": 3
   },
   "file_extension": ".py",
   "mimetype": "text/x-python",
   "name": "python",
   "nbconvert_exporter": "python",
   "pygments_lexer": "ipython3",
   "version": "3.7.9"
  }
 },
 "nbformat": 4,
 "nbformat_minor": 4
}
