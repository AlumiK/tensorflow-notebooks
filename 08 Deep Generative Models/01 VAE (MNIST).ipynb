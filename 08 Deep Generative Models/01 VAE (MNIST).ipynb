{
 "cells": [
  {
   "cell_type": "markdown",
   "metadata": {},
   "source": [
    "# VAE (MNIST)"
   ]
  },
  {
   "cell_type": "code",
   "execution_count": 1,
   "metadata": {},
   "outputs": [],
   "source": [
    "import numpy as np\n",
    "import tensorflow as tf\n",
    "import matplotlib.pyplot as plt\n",
    "import tensorflow_probability as tfp"
   ]
  },
  {
   "cell_type": "code",
   "execution_count": 2,
   "metadata": {},
   "outputs": [
    {
     "name": "stdout",
     "output_type": "stream",
     "text": [
      "GPU 0: GeForce RTX 2080 Ti (UUID: GPU-3cb47403-efa9-71ae-1700-c27de6cb0d0a)\n",
      "TensorFlow version: 2.3.1\n"
     ]
    }
   ],
   "source": [
    "!nvidia-smi -L\n",
    "print(f'TensorFlow version: {tf.__version__}')"
   ]
  },
  {
   "cell_type": "code",
   "execution_count": 3,
   "metadata": {},
   "outputs": [],
   "source": [
    "(X_train, _), _ = tf.keras.datasets.mnist.load_data()\n",
    "X_train = X_train.reshape(X_train.shape[0], -1) / 255.0\n",
    "X_train = (X_train > 0.5).astype('float32')\n",
    "D = X_train.shape[-1]\n",
    "EPOCHS = 30\n",
    "\n",
    "train_dataset = tf.data.Dataset.from_tensor_slices(X_train)\n",
    "train_dataset = train_dataset.shuffle(buffer_size=1024).batch(64)"
   ]
  },
  {
   "cell_type": "code",
   "execution_count": 4,
   "metadata": {},
   "outputs": [
    {
     "name": "stdout",
     "output_type": "stream",
     "text": [
      "Epoch 1/30\n",
      "938/938 [==============================] - 9s 9ms/step - loss: 10770.1006\n",
      "Epoch 2/30\n",
      "938/938 [==============================] - 8s 9ms/step - loss: 8960.2891\n",
      "Epoch 3/30\n",
      "938/938 [==============================] - 9s 9ms/step - loss: 8504.4482\n",
      "Epoch 4/30\n",
      "938/938 [==============================] - 8s 9ms/step - loss: 8266.2490\n",
      "Epoch 5/30\n",
      "938/938 [==============================] - 8s 9ms/step - loss: 8128.7363\n",
      "Epoch 6/30\n",
      "938/938 [==============================] - 8s 9ms/step - loss: 8032.1763\n",
      "Epoch 7/30\n",
      "938/938 [==============================] - 9s 10ms/step - loss: 7960.2534\n",
      "Epoch 8/30\n",
      "938/938 [==============================] - 9s 9ms/step - loss: 7907.7075\n",
      "Epoch 9/30\n",
      "938/938 [==============================] - 9s 9ms/step - loss: 7861.9814\n",
      "Epoch 10/30\n",
      "938/938 [==============================] - 9s 9ms/step - loss: 7833.5483\n",
      "Epoch 11/30\n",
      "938/938 [==============================] - 9s 10ms/step - loss: 7812.5308\n",
      "Epoch 12/30\n",
      "938/938 [==============================] - 9s 10ms/step - loss: 7780.7139\n",
      "Epoch 13/30\n",
      "938/938 [==============================] - 9s 10ms/step - loss: 7760.7363\n",
      "Epoch 14/30\n",
      "938/938 [==============================] - 9s 10ms/step - loss: 7751.7451\n",
      "Epoch 15/30\n",
      "938/938 [==============================] - 9s 9ms/step - loss: 7733.3354\n",
      "Epoch 16/30\n",
      "938/938 [==============================] - 9s 9ms/step - loss: 7724.4780\n",
      "Epoch 17/30\n",
      "938/938 [==============================] - 9s 9ms/step - loss: 7717.9458\n",
      "Epoch 18/30\n",
      "938/938 [==============================] - 9s 9ms/step - loss: 7709.6343\n",
      "Epoch 19/30\n",
      "938/938 [==============================] - 8s 9ms/step - loss: 7700.2603\n",
      "Epoch 20/30\n",
      "938/938 [==============================] - 8s 9ms/step - loss: 7701.8672\n",
      "Epoch 21/30\n",
      "938/938 [==============================] - 8s 9ms/step - loss: 7692.7842\n",
      "Epoch 22/30\n",
      "938/938 [==============================] - 8s 9ms/step - loss: 7690.5063\n",
      "Epoch 23/30\n",
      "938/938 [==============================] - 8s 9ms/step - loss: 7686.5693\n",
      "Epoch 24/30\n",
      "938/938 [==============================] - 8s 9ms/step - loss: 7680.9326\n",
      "Epoch 25/30\n",
      "938/938 [==============================] - 8s 9ms/step - loss: 7686.8789\n",
      "Epoch 26/30\n",
      "938/938 [==============================] - 9s 9ms/step - loss: 7682.6934\n",
      "Epoch 27/30\n",
      "938/938 [==============================] - 8s 9ms/step - loss: 7681.4014\n",
      "Epoch 28/30\n",
      "938/938 [==============================] - 8s 9ms/step - loss: 7684.6973\n",
      "Epoch 29/30\n",
      "938/938 [==============================] - 8s 9ms/step - loss: 7687.5166\n",
      "Epoch 30/30\n",
      "938/938 [==============================] - 8s 9ms/step - loss: 7685.9824\n"
     ]
    },
    {
     "data": {
      "image/png": "[encoded data removed]",
      "text/plain": [
       "<Figure size 432x288 with 1 Axes>"
      ]
     },
     "metadata": {
      "needs_background": "light"
     },
     "output_type": "display_data"
    }
   ],
   "source": [
    "class Encoder(tf.keras.layers.Layer):\n",
    "\n",
    "    def __init__(self, latent_dim, hidden_dim):\n",
    "        super().__init__()\n",
    "        self._hidden = tf.keras.layers.Dense(hidden_dim, activation='relu')\n",
    "        self._mean = tf.keras.layers.Dense(latent_dim, activation='relu')\n",
    "        self._std = tf.keras.layers.Dense(latent_dim, activation='relu')\n",
    "\n",
    "    def call(self, inputs):\n",
    "        x = self._hidden(inputs)\n",
    "        z_mean = self._mean(x)\n",
    "        z_std = tf.math.softplus(self._std(x)) + 1e-6\n",
    "        epsilon = tf.random.normal(tf.shape(z_mean))\n",
    "        z = epsilon * z_std + z_mean\n",
    "        return z_mean, z_std, z\n",
    "\n",
    "\n",
    "class Decoder(tf.keras.layers.Layer):\n",
    "\n",
    "    def __init__(self, output_dim, hidden_dim):\n",
    "        super().__init__()\n",
    "        self._hidden = tf.keras.layers.Dense(hidden_dim, activation='relu')\n",
    "        self._output = tf.keras.layers.Dense(output_dim)\n",
    "\n",
    "    def call(self, inputs):\n",
    "        x = self._hidden(inputs)\n",
    "        logits = self._output(x)\n",
    "        dist = tfp.distributions.Bernoulli(logits=logits)\n",
    "        return dist, dist.sample()\n",
    "\n",
    "\n",
    "class VariationalAutoencoder(tf.keras.Model):\n",
    "\n",
    "    def __init__(self, input_dim, hidden_dim, latent_dim):\n",
    "        super().__init__()\n",
    "        self._encoder = Encoder(latent_dim=latent_dim, hidden_dim=hidden_dim)\n",
    "        self._decoder = Decoder(output_dim=input_dim, hidden_dim=hidden_dim)\n",
    "\n",
    "    def call(self, inputs):\n",
    "        z_mean, z_std, z = self._encoder(inputs)\n",
    "        dist, reconstructed = self._decoder(z)\n",
    "        \n",
    "        kl_loss = -tf.math.log(z_std) + 0.5 * (z_std ** 2 + z_mean ** 2) - 0.5\n",
    "        kl_loss = tf.math.reduce_sum(kl_loss, axis=1)\n",
    "        expected_log_likelihood = tf.math.reduce_sum(dist.log_prob(inputs), axis=1)\n",
    "        negative_elbo = -tf.math.reduce_sum(expected_log_likelihood - kl_loss)\n",
    "        self.add_loss(negative_elbo)\n",
    "        \n",
    "        return reconstructed\n",
    "\n",
    "\n",
    "model = VariationalAutoencoder(input_dim=D, hidden_dim=200, latent_dim=100)\n",
    "optimizer = tf.keras.optimizers.RMSprop(0.001)\n",
    "\n",
    "losses = []\n",
    "for epoch in range(EPOCHS):\n",
    "    print(f'Epoch {epoch + 1}/{EPOCHS}')\n",
    "    step_losses = []\n",
    "    progbar = tf.keras.utils.Progbar(len(train_dataset), interval=0.5)\n",
    "\n",
    "    for step, batch in enumerate(train_dataset):\n",
    "        with tf.GradientTape() as tape:\n",
    "            reconstructed = model(batch)\n",
    "            loss = sum(model.losses)\n",
    "\n",
    "        grads = tape.gradient(loss, model.trainable_weights)\n",
    "        optimizer.apply_gradients(zip(grads, model.trainable_weights))\n",
    "        \n",
    "        step_losses.append(loss)\n",
    "        progbar.add(1, values=[('loss', loss)])\n",
    "\n",
    "    losses.append(np.mean(step_losses))\n",
    "\n",
    "plt.plot(np.arange(EPOCHS), losses)\n",
    "plt.show()"
   ]
  },
  {
   "cell_type": "code",
   "execution_count": 5,
   "metadata": {
    "scrolled": true
   },
   "outputs": [
    {
     "data": {
      "image/png": "[encoded data removed]",
      "text/plain": [
       "<Figure size 432x288 with 2 Axes>"
      ]
     },
     "metadata": {
      "needs_background": "light"
     },
     "output_type": "display_data"
    }
   ],
   "source": [
    "sample = X_train[np.random.randint(len(X_train))]\n",
    "original_image = sample.reshape(28, 28)\n",
    "reconstructed_image = model(sample.reshape(1, -1)).numpy().reshape(28, 28)\n",
    "\n",
    "plt.subplot(1, 2, 1)\n",
    "plt.imshow(original_image, cmap='gray')\n",
    "plt.title('Original')\n",
    "plt.subplot(1, 2, 2)\n",
    "plt.imshow(reconstructed_image, cmap='gray')\n",
    "plt.title('Reconstructed')\n",
    "plt.show()"
   ]
  }
 ],
 "metadata": {
  "kernelspec": {
   "display_name": "Python 3",
   "language": "python",
   "name": "python3"
  },
  "language_info": {
   "codemirror_mode": {
    "name": "ipython",
    "version": 3
   },
   "file_extension": ".py",
   "mimetype": "text/x-python",
   "name": "python",
   "nbconvert_exporter": "python",
   "pygments_lexer": "ipython3",
   "version": "3.8.5"
  }
 },
 "nbformat": 4,
 "nbformat_minor": 4
}
