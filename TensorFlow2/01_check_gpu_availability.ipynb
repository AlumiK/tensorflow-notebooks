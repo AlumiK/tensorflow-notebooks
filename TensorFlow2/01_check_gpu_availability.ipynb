{
  "nbformat": 4,
  "nbformat_minor": 0,
  "metadata": {
    "colab": {
      "name": "01_check_gpu_availability.ipynb",
      "provenance": [],
      "collapsed_sections": [],
      "authorship_tag": "ABX9TyNklrc7BePkLvPB8a8Xdb+Y",
      "include_colab_link": true
    },
    "kernelspec": {
      "name": "python3",
      "display_name": "Python 3"
    }
  },
  "cells": [
    {
      "cell_type": "markdown",
      "metadata": {
        "id": "view-in-github",
        "colab_type": "text"
      },
      "source": [
        "<a href=\"https://colab.research.google.com/github/AlumiK/tensorflow-notebooks/blob/main/TensorFlow2/01_check_gpu_availability.ipynb\" target=\"_parent\"><img src=\"https://colab.research.google.com/assets/colab-badge.svg\" alt=\"Open In Colab\"/></a>"
      ]
    },
    {
      "cell_type": "markdown",
      "metadata": {
        "id": "-Ozz782TQajH"
      },
      "source": [
        "# Check GPU Availability"
      ]
    },
    {
      "cell_type": "code",
      "metadata": {
        "id": "19sSLYzRVL2q",
        "outputId": "290bc55c-9406-4da6-ce52-5668b9ca4a3b",
        "colab": {
          "base_uri": "https://localhost:8080/"
        }
      },
      "source": [
        "import tensorflow as tf\n",
        "\n",
        "print(f'Is built with CUDA: {tf.test.is_built_with_cuda()}')\n",
        "print(f'List GPU devices: {tf.config.list_physical_devices(\"GPU\")}')"
      ],
      "execution_count": null,
      "outputs": [
        {
          "output_type": "stream",
          "text": [
            "Is built with CUDA: True\n",
            "List GPU devices: [PhysicalDevice(name='/physical_device:GPU:0', device_type='GPU')]\n"
          ],
          "name": "stdout"
        }
      ]
    }
  ]
}