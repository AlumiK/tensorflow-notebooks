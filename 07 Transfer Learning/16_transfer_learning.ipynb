{
  "nbformat": 4,
  "nbformat_minor": 0,
  "metadata": {
    "colab": {
      "name": "16_transfer_learning.ipynb",
      "provenance": [],
      "authorship_tag": "ABX9TyOlKopzfmCvf2zMxE6SEasL",
      "include_colab_link": true
    },
    "kernelspec": {
      "name": "python3",
      "display_name": "Python 3"
    },
    "accelerator": "GPU"
  },
  "cells": [
    {
      "cell_type": "markdown",
      "metadata": {
        "id": "view-in-github",
        "colab_type": "text"
      },
      "source": [
        "<a href=\"https://colab.research.google.com/github/AlumiK/tensorflow2-notebooks/blob/main/07%20Transfer%20Learning/16_transfer_learning.ipynb\" target=\"_parent\"><img src=\"https://colab.research.google.com/assets/colab-badge.svg\" alt=\"Open In Colab\"/></a>"
      ]
    },
    {
      "cell_type": "markdown",
      "metadata": {
        "id": "sKcI8lsB9mV2"
      },
      "source": [
        "# Transfer Learning"
      ]
    },
    {
      "cell_type": "code",
      "metadata": {
        "id": "Z1dIpBaO9Qbf"
      },
      "source": [
        "import glob\n",
        "import numpy as np\n",
        "import tensorflow as tf\n",
        "import matplotlib.pyplot as plt"
      ],
      "execution_count": null,
      "outputs": []
    },
    {
      "cell_type": "code",
      "metadata": {
        "id": "pXtRdQfb_4oi",
        "outputId": "0d2763ff-4b33-4782-a9f3-03095fe26e53",
        "colab": {
          "base_uri": "https://localhost:8080/",
          "height": 35
        }
      },
      "source": [
        "!nvidia-smi -L"
      ],
      "execution_count": null,
      "outputs": [
        {
          "output_type": "stream",
          "text": [
            "GPU 0: Tesla T4 (UUID: GPU-07231571-9666-63ed-7cf1-78413226d698)\n"
          ],
          "name": "stdout"
        }
      ]
    },
    {
      "cell_type": "code",
      "metadata": {
        "id": "N39MWKua9lr0",
        "outputId": "f4c1042c-ea90-4801-8f71-c9e23890cdf1",
        "colab": {
          "base_uri": "https://localhost:8080/",
          "height": 215
        }
      },
      "source": [
        "!wget -nc \"https://lazyprogrammer.me/course_files/Food-5K.zip\"\n",
        "!unzip -qq -o \"Food-5K.zip\"\n",
        "!mkdir \"data\"\n",
        "!mkdir \"data/train\"\n",
        "!mkdir \"data/test\"\n",
        "!mkdir \"data/train/nonfood\"\n",
        "!mkdir \"data/train/food\"\n",
        "!mkdir \"data/test/nonfood\"\n",
        "!mkdir \"data/test/food\"\n",
        "!mv Food-5K/training/0*.jpg \"data/train/nonfood\"\n",
        "!mv Food-5K/training/1*.jpg \"data/train/food\"\n",
        "!mv Food-5K/validation/0*.jpg \"data/test/nonfood\"\n",
        "!mv Food-5K/validation/1*.jpg \"data/test/food\""
      ],
      "execution_count": null,
      "outputs": [
        {
          "output_type": "stream",
          "text": [
            "--2020-10-12 09:28:51--  https://lazyprogrammer.me/course_files/Food-5K.zip\n",
            "Resolving lazyprogrammer.me (lazyprogrammer.me)... 172.67.213.166, 104.31.80.48, 104.31.81.48, ...\n",
            "Connecting to lazyprogrammer.me (lazyprogrammer.me)|172.67.213.166|:443... connected.\n",
            "HTTP request sent, awaiting response... 200 OK\n",
            "Length: 447001986 (426M) [application/zip]\n",
            "Saving to: ‘Food-5K.zip’\n",
            "\n",
            "Food-5K.zip         100%[===================>] 426.29M  9.08MB/s    in 42s     \n",
            "\n",
            "2020-10-12 09:29:34 (10.1 MB/s) - ‘Food-5K.zip’ saved [447001986/447001986]\n",
            "\n"
          ],
          "name": "stdout"
        }
      ]
    },
    {
      "cell_type": "code",
      "metadata": {
        "id": "x9VIqpa_DYvV",
        "outputId": "bedd5346-bdd8-442e-890b-21702f3c8d1c",
        "colab": {
          "base_uri": "https://localhost:8080/",
          "height": 53
        }
      },
      "source": [
        "TRAIN_PATH = 'data/train'\n",
        "TEST_PATH = 'data/test'\n",
        "IMAGE_SIZE = [200, 200]\n",
        "BATCH_SIZE = 128\n",
        "\n",
        "train_images = glob.glob(f'{TRAIN_PATH}/*/*.jpg')\n",
        "test_images = glob.glob(f'{TEST_PATH}/*/*.jpg')\n",
        "folders = glob.glob(f'{TRAIN_PATH}/*')\n",
        "\n",
        "gen = tf.keras.preprocessing.image.ImageDataGenerator(\n",
        "    rotation_range=20,\n",
        "    width_shift_range=0.1,\n",
        "    height_shift_range=0.1,\n",
        "    shear_range=0.1,\n",
        "    zoom_range=0.2,\n",
        "    horizontal_flip=True,\n",
        "    preprocessing_function=tf.keras.applications.vgg16.preprocess_input\n",
        ")\n",
        "train_gen = gen.flow_from_directory(\n",
        "    TRAIN_PATH,\n",
        "    shuffle=True,\n",
        "    target_size=IMAGE_SIZE,\n",
        "    batch_size=BATCH_SIZE\n",
        ")\n",
        "test_gen = gen.flow_from_directory(\n",
        "    TEST_PATH,\n",
        "    target_size=IMAGE_SIZE,\n",
        "    batch_size=BATCH_SIZE\n",
        ")"
      ],
      "execution_count": null,
      "outputs": [
        {
          "output_type": "stream",
          "text": [
            "Found 3000 images belonging to 2 classes.\n",
            "Found 1000 images belonging to 2 classes.\n"
          ],
          "name": "stdout"
        }
      ]
    },
    {
      "cell_type": "code",
      "metadata": {
        "id": "Uomnr1oaGngZ",
        "outputId": "e352dbd9-ad06-489b-e0ff-2270da62e0d2",
        "colab": {
          "base_uri": "https://localhost:8080/",
          "height": 893
        }
      },
      "source": [
        "vgg16 = tf.keras.applications.vgg16.VGG16(\n",
        "    input_shape=IMAGE_SIZE + [3],\n",
        "    weights='imagenet',\n",
        "    include_top=False\n",
        ")\n",
        "vgg16.trainable = False\n",
        "\n",
        "K = len(folders)\n",
        "x = tf.keras.layers.Flatten()(vgg16.output)\n",
        "x = tf.keras.layers.Dense(K, activation='softmax')(x)\n",
        "model = tf.keras.models.Model(inputs=vgg16.input, outputs=x)\n",
        "\n",
        "model.compile(optimizer='adam',\n",
        "              loss='categorical_crossentropy',\n",
        "              metrics=['accuracy'])\n",
        "\n",
        "r = model.fit(train_gen,\n",
        "              validation_data=test_gen,\n",
        "              epochs=10,\n",
        "              steps_per_epoch=int(np.ceil(len(train_images) / BATCH_SIZE)),\n",
        "              validation_steps=int(np.ceil(len(test_images) / BATCH_SIZE)))\n",
        "\n",
        "plt.plot(r.history.get('loss'), label='Loss')\n",
        "plt.plot(r.history.get('val_loss'), label='Validation Loss')\n",
        "plt.legend()\n",
        "plt.show()\n",
        "\n",
        "plt.plot(r.history.get('accuracy'), label='Accuracy')\n",
        "plt.plot(r.history.get('val_accuracy'), label='Validation Accuracy')\n",
        "plt.legend()\n",
        "plt.show()"
      ],
      "execution_count": null,
      "outputs": [
        {
          "output_type": "stream",
          "text": [
            "Epoch 1/10\n",
            "24/24 [==============================] - 55s 2s/step - loss: 1.0914 - accuracy: 0.9410 - val_loss: 0.7853 - val_accuracy: 0.9670\n",
            "Epoch 2/10\n",
            "24/24 [==============================] - 50s 2s/step - loss: 0.4644 - accuracy: 0.9770 - val_loss: 0.8288 - val_accuracy: 0.9610\n",
            "Epoch 3/10\n",
            "24/24 [==============================] - 50s 2s/step - loss: 0.3918 - accuracy: 0.9817 - val_loss: 0.7299 - val_accuracy: 0.9660\n",
            "Epoch 4/10\n",
            "24/24 [==============================] - 50s 2s/step - loss: 0.1897 - accuracy: 0.9870 - val_loss: 1.2671 - val_accuracy: 0.9600\n",
            "Epoch 5/10\n",
            "24/24 [==============================] - 50s 2s/step - loss: 0.1833 - accuracy: 0.9860 - val_loss: 0.4325 - val_accuracy: 0.9800\n",
            "Epoch 6/10\n",
            "24/24 [==============================] - 50s 2s/step - loss: 0.2061 - accuracy: 0.9860 - val_loss: 0.7110 - val_accuracy: 0.9690\n",
            "Epoch 7/10\n",
            "24/24 [==============================] - 50s 2s/step - loss: 0.1745 - accuracy: 0.9887 - val_loss: 0.5669 - val_accuracy: 0.9760\n",
            "Epoch 8/10\n",
            "24/24 [==============================] - 50s 2s/step - loss: 0.1952 - accuracy: 0.9903 - val_loss: 0.7443 - val_accuracy: 0.9710\n",
            "Epoch 9/10\n",
            "24/24 [==============================] - 50s 2s/step - loss: 0.2793 - accuracy: 0.9870 - val_loss: 1.0031 - val_accuracy: 0.9730\n",
            "Epoch 10/10\n",
            "24/24 [==============================] - 50s 2s/step - loss: 0.1697 - accuracy: 0.9913 - val_loss: 0.8699 - val_accuracy: 0.9760\n"
          ],
          "name": "stdout"
        },
        {
          "output_type": "display_data",
          "data": {
            "image/png": "[encoded data removed]",
            "text/plain": [
              "<Figure size 432x288 with 1 Axes>"
            ]
          },
          "metadata": {
            "tags": [],
            "needs_background": "light"
          }
        },
        {
          "output_type": "display_data",
          "data": {
            "image/png": "[encoded data removed]",
            "text/plain": [
              "<Figure size 432x288 with 1 Axes>"
            ]
          },
          "metadata": {
            "tags": [],
            "needs_background": "light"
          }
        }
      ]
    }
  ]
}